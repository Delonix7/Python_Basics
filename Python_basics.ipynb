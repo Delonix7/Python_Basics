{
  "nbformat": 4,
  "nbformat_minor": 0,
  "metadata": {
    "colab": {
      "provenance": [],
      "authorship_tag": "ABX9TyOagZ6dixVM90yt2CyDOdLX",
      "include_colab_link": true
    },
    "kernelspec": {
      "name": "python3",
      "display_name": "Python 3"
    },
    "language_info": {
      "name": "python"
    }
  },
  "cells": [
    {
      "cell_type": "markdown",
      "metadata": {
        "id": "view-in-github",
        "colab_type": "text"
      },
      "source": [
        "<a href=\"https://colab.research.google.com/github/Delonix7/Python_Basics/blob/main/Python_basics.ipynb\" target=\"_parent\"><img src=\"https://colab.research.google.com/assets/colab-badge.svg\" alt=\"Open In Colab\"/></a>"
      ]
    },
    {
      "cell_type": "markdown",
      "source": [
        "String Formatting"
      ],
      "metadata": {
        "id": "hhcDIj64ZKq2"
      }
    },
    {
      "cell_type": "code",
      "source": [
        "age = 34\n",
        "print(f'You are {age}')"
      ],
      "metadata": {
        "colab": {
          "base_uri": "https://localhost:8080/"
        },
        "id": "Fy9DRuGIazi0",
        "outputId": "5497d441-1852-46d4-e236-d7d45db194b8"
      },
      "execution_count": null,
      "outputs": [
        {
          "output_type": "stream",
          "name": "stdout",
          "text": [
            "You are 34\n"
          ]
        }
      ]
    },
    {
      "cell_type": "code",
      "execution_count": null,
      "metadata": {
        "colab": {
          "base_uri": "https://localhost:8080/"
        },
        "id": "Ujwu2NCwZHDo",
        "outputId": "fb6b8921-36c6-4e02-f933-30c98eedb4b4"
      },
      "outputs": [
        {
          "output_type": "stream",
          "name": "stdout",
          "text": [
            "You are 34\n"
          ]
        }
      ],
      "source": [
        "age = 34\n",
        "age_print = 'You are {}'\n",
        "final_age = age_print.format(age)\n",
        "print (final_age)"
      ]
    },
    {
      "cell_type": "code",
      "source": [
        "description = '{} is {age} years old.'\n",
        "print (description.format('Bob', age = 30))"
      ],
      "metadata": {
        "colab": {
          "base_uri": "https://localhost:8080/"
        },
        "id": "OcvT76WQcRVL",
        "outputId": "e262e0df-3cf7-46a9-d7cf-575170308206"
      },
      "execution_count": null,
      "outputs": [
        {
          "output_type": "stream",
          "name": "stdout",
          "text": [
            "Bob is 30 years old.\n"
          ]
        }
      ]
    },
    {
      "cell_type": "code",
      "source": [
        "#receiving user input\n",
        "user_input = input(\"Enter your name: \")"
      ],
      "metadata": {
        "colab": {
          "base_uri": "https://localhost:8080/"
        },
        "id": "MVz5Wkh1c7JS",
        "outputId": "785f8407-ff88-4614-8b00-1feec9da72df"
      },
      "execution_count": null,
      "outputs": [
        {
          "name": "stdout",
          "output_type": "stream",
          "text": [
            "Enter your name: Ato\n"
          ]
        }
      ]
    },
    {
      "cell_type": "code",
      "source": [
        "name = 'Ato '\n",
        "print (name or  'Mr. Aikins')"
      ],
      "metadata": {
        "colab": {
          "base_uri": "https://localhost:8080/"
        },
        "id": "lf3A8dVjjTOl",
        "outputId": "9635114e-071c-4888-9b6e-72fc7a38e62a"
      },
      "execution_count": null,
      "outputs": [
        {
          "output_type": "stream",
          "name": "stdout",
          "text": [
            "Ato \n"
          ]
        }
      ]
    },
    {
      "cell_type": "code",
      "source": [
        "name = ''\n",
        "print (name or  'Mr. Aikins')"
      ],
      "metadata": {
        "colab": {
          "base_uri": "https://localhost:8080/"
        },
        "id": "sivJjPzDjyo_",
        "outputId": "e87a7be0-e13a-4d04-ac08-0eecdb8c10f0"
      },
      "execution_count": null,
      "outputs": [
        {
          "output_type": "stream",
          "name": "stdout",
          "text": [
            "Mr. Aikins\n"
          ]
        }
      ]
    },
    {
      "cell_type": "code",
      "source": [
        "# list methods\n",
        "names = ['Jennifer', 'Ato', 'Jayden', 'Jamin', 'Danica', 'Alethea']"
      ],
      "metadata": {
        "id": "hoCb8uwH0L91"
      },
      "execution_count": null,
      "outputs": []
    },
    {
      "cell_type": "code",
      "source": [
        "names.extend(['Vicel','Melvina'])"
      ],
      "metadata": {
        "id": "j6I2cumc4bvA"
      },
      "execution_count": null,
      "outputs": []
    },
    {
      "cell_type": "code",
      "source": [
        "print (names)"
      ],
      "metadata": {
        "colab": {
          "base_uri": "https://localhost:8080/"
        },
        "id": "Xgrjb_tm6y3l",
        "outputId": "22bf5d74-39a9-4790-ddad-808c14475a6f"
      },
      "execution_count": null,
      "outputs": [
        {
          "output_type": "stream",
          "name": "stdout",
          "text": [
            "['Jennifer', 'Ato', 'Jayden', 'Jamin', 'Danica', 'Alethea', 'Vicel', 'Melvina', 'Vicel', 'Melvina', 'Vicel', 'Melvina', 'Vicel', 'Melvina']\n"
          ]
        }
      ]
    },
    {
      "cell_type": "code",
      "source": [
        "names_set = set(names)"
      ],
      "metadata": {
        "id": "1B-TI0Hn6nG3"
      },
      "execution_count": null,
      "outputs": []
    },
    {
      "cell_type": "code",
      "source": [
        "names_set.pop()"
      ],
      "metadata": {
        "colab": {
          "base_uri": "https://localhost:8080/",
          "height": 36
        },
        "id": "9nW88P9C68NF",
        "outputId": "81709356-9e75-48b8-f263-961e9217be2b"
      },
      "execution_count": null,
      "outputs": [
        {
          "output_type": "execute_result",
          "data": {
            "text/plain": [
              "'Vicel'"
            ],
            "application/vnd.google.colaboratory.intrinsic+json": {
              "type": "string"
            }
          },
          "metadata": {},
          "execution_count": 131
        }
      ]
    },
    {
      "cell_type": "code",
      "source": [
        "print(names_set)"
      ],
      "metadata": {
        "colab": {
          "base_uri": "https://localhost:8080/"
        },
        "id": "KSKuLI4q6mxZ",
        "outputId": "a9fc5f83-f426-4453-f256-74223cd1c3e7"
      },
      "execution_count": null,
      "outputs": [
        {
          "output_type": "stream",
          "name": "stdout",
          "text": [
            "{'Vicel', 'Melvina', 'Jamin', 'Danica', 'Jayden', 'Ato', 'Jennifer', 'Alethea'}\n"
          ]
        }
      ]
    },
    {
      "cell_type": "code",
      "source": [
        "print (names)"
      ],
      "metadata": {
        "colab": {
          "base_uri": "https://localhost:8080/"
        },
        "id": "XbverKUD564k",
        "outputId": "92d4564e-c763-45ce-c27c-8acde803425f"
      },
      "execution_count": null,
      "outputs": [
        {
          "output_type": "stream",
          "name": "stdout",
          "text": [
            "['Jennifer', 'Ato', 'Jayden', 'Jamin', 'Danica', 'Alethea', 'Vicel', 'Melvina', 'Vicel', 'Melvina', 'Vicel', 'Melvina', 'Vicel', 'Melvina']\n"
          ]
        }
      ]
    },
    {
      "cell_type": "code",
      "source": [
        "del(names[0])"
      ],
      "metadata": {
        "id": "8UMkTkXU53cG"
      },
      "execution_count": null,
      "outputs": []
    },
    {
      "cell_type": "code",
      "source": [
        "print (names)"
      ],
      "metadata": {
        "colab": {
          "base_uri": "https://localhost:8080/"
        },
        "id": "S_TiYJ-95CEz",
        "outputId": "723d1320-80ec-441c-9f50-0e7a2a6cc6f5"
      },
      "execution_count": null,
      "outputs": [
        {
          "output_type": "stream",
          "name": "stdout",
          "text": [
            "['Ato', 'Jayden', 'Jamin', 'Danica', 'Alethea', 'Melvina', 'Melvina', 'Melvina', 'Melvina']\n"
          ]
        }
      ]
    },
    {
      "cell_type": "code",
      "source": [
        "sorted(names)"
      ],
      "metadata": {
        "id": "IZXD2wFG0b1a"
      },
      "execution_count": null,
      "outputs": []
    },
    {
      "cell_type": "code",
      "source": [
        "len(names)"
      ],
      "metadata": {
        "colab": {
          "base_uri": "https://localhost:8080/"
        },
        "id": "Djqg5A_f0iaw",
        "outputId": "2feecfb0-7dbd-4660-ad82-148b7d9cd016"
      },
      "execution_count": null,
      "outputs": [
        {
          "output_type": "execute_result",
          "data": {
            "text/plain": [
              "6"
            ]
          },
          "metadata": {},
          "execution_count": 19
        }
      ]
    },
    {
      "cell_type": "code",
      "source": [
        "max(names)"
      ],
      "metadata": {
        "colab": {
          "base_uri": "https://localhost:8080/",
          "height": 36
        },
        "id": "P8saEB6O0kSw",
        "outputId": "b5150afa-42ee-49ff-e719-2126585728bd"
      },
      "execution_count": null,
      "outputs": [
        {
          "output_type": "execute_result",
          "data": {
            "text/plain": [
              "'Jennifer'"
            ],
            "application/vnd.google.colaboratory.intrinsic+json": {
              "type": "string"
            }
          },
          "metadata": {},
          "execution_count": 18
        }
      ]
    },
    {
      "cell_type": "code",
      "source": [
        "min(names)"
      ],
      "metadata": {
        "colab": {
          "base_uri": "https://localhost:8080/",
          "height": 36
        },
        "id": "e5dFygIK0pfy",
        "outputId": "4f9ec7ae-c9fa-4340-cb9a-9884fdc6cea5"
      },
      "execution_count": null,
      "outputs": [
        {
          "output_type": "execute_result",
          "data": {
            "text/plain": [
              "'Alethea'"
            ],
            "application/vnd.google.colaboratory.intrinsic+json": {
              "type": "string"
            }
          },
          "metadata": {},
          "execution_count": 20
        }
      ]
    },
    {
      "cell_type": "code",
      "source": [
        "my_dict = {'name' : 'Ato'}"
      ],
      "metadata": {
        "id": "sDLVIxaFVI-c"
      },
      "execution_count": null,
      "outputs": []
    },
    {
      "cell_type": "code",
      "source": [
        "my_dict['name'] = 'Jennifer'"
      ],
      "metadata": {
        "id": "B-FLAFzthxP3"
      },
      "execution_count": null,
      "outputs": []
    },
    {
      "cell_type": "code",
      "source": [
        "my_dict['name']"
      ],
      "metadata": {
        "colab": {
          "base_uri": "https://localhost:8080/",
          "height": 36
        },
        "id": "L49eqwcyiGZM",
        "outputId": "25cec658-5caf-482a-d785-b66ffd76e61d"
      },
      "execution_count": null,
      "outputs": [
        {
          "output_type": "execute_result",
          "data": {
            "text/plain": [
              "'Jennifer'"
            ],
            "application/vnd.google.colaboratory.intrinsic+json": {
              "type": "string"
            }
          },
          "metadata": {},
          "execution_count": 156
        }
      ]
    },
    {
      "cell_type": "code",
      "source": [
        "import math"
      ],
      "metadata": {
        "id": "gf9Y_fK5kaOk"
      },
      "execution_count": null,
      "outputs": []
    },
    {
      "cell_type": "code",
      "source": [
        "students = [{'name' : 'Ato', 'grades' : (100, 94, 99, 90, 95)}, {'name': 'Jennifer', 'grades': (98, 90, 93, 90, 99)}, {'name' : 'Jayden',  'grades': (100, 97, 99, 94, 99)}]"
      ],
      "metadata": {
        "id": "SdqpbUJsiVhm"
      },
      "execution_count": null,
      "outputs": []
    },
    {
      "cell_type": "code",
      "source": [
        "avg = lambda seq: sum(seq)/len(seq)"
      ],
      "metadata": {
        "id": "IfKHGr_CkDGe"
      },
      "execution_count": null,
      "outputs": []
    },
    {
      "cell_type": "code",
      "source": [
        "for student in students:\n",
        "  print(student['name'])"
      ],
      "metadata": {
        "colab": {
          "base_uri": "https://localhost:8080/"
        },
        "id": "5YC3hQsskb4Q",
        "outputId": "09137ceb-2936-43b0-fbbe-f47ab003d9fb"
      },
      "execution_count": null,
      "outputs": [
        {
          "output_type": "stream",
          "name": "stdout",
          "text": [
            "Ato\n",
            "Jennifer\n",
            "Jayden\n"
          ]
        }
      ]
    },
    {
      "cell_type": "code",
      "source": [
        "new_dict = {}\n",
        "for student in students:\n",
        "  new_dict[student['name']] = avg(student['grades'])\n",
        "  # print(student['name'], avg(student['grades']))"
      ],
      "metadata": {
        "id": "Erq3Vg2KimbH"
      },
      "execution_count": null,
      "outputs": []
    },
    {
      "cell_type": "code",
      "source": [
        "sorted(new_dict)"
      ],
      "metadata": {
        "colab": {
          "base_uri": "https://localhost:8080/"
        },
        "id": "JhjdGvslo1b5",
        "outputId": "884f068a-30af-45bd-f486-a1c5b8c46556"
      },
      "execution_count": null,
      "outputs": [
        {
          "output_type": "execute_result",
          "data": {
            "text/plain": [
              "['Ato', 'Jayden', 'Jennifer']"
            ]
          },
          "metadata": {},
          "execution_count": 191
        }
      ]
    },
    {
      "cell_type": "code",
      "source": [
        "add(2, y = 2)"
      ],
      "metadata": {
        "colab": {
          "base_uri": "https://localhost:8080/"
        },
        "id": "zT7YFGOeVmyt",
        "outputId": "5f2db0f5-7238-46b8-f581-450e50bbdecd"
      },
      "execution_count": null,
      "outputs": [
        {
          "output_type": "execute_result",
          "data": {
            "text/plain": [
              "4"
            ]
          },
          "metadata": {},
          "execution_count": 141
        }
      ]
    },
    {
      "cell_type": "code",
      "source": [
        "from typing import List\n",
        "import random\n",
        "\n",
        "def getHitProbability (R: int, C: int, G: List[List[int]]) -> float:\n",
        "  pass\n"
      ],
      "metadata": {
        "id": "MdLVF0M1qqpr"
      },
      "execution_count": null,
      "outputs": []
    },
    {
      "cell_type": "code",
      "source": [
        "num1 = [random.randrange(0, 2)]\n"
      ],
      "metadata": {
        "id": "jPzmWJLTtlkt"
      },
      "execution_count": null,
      "outputs": []
    },
    {
      "cell_type": "code",
      "source": [
        "num1"
      ],
      "metadata": {
        "colab": {
          "base_uri": "https://localhost:8080/"
        },
        "id": "QIsHAVkBwL7F",
        "outputId": "16083e31-cfb0-4042-8dd0-7d817ae367ff"
      },
      "execution_count": null,
      "outputs": [
        {
          "output_type": "execute_result",
          "data": {
            "text/plain": [
              "[1]"
            ]
          },
          "metadata": {},
          "execution_count": 219
        }
      ]
    },
    {
      "cell_type": "code",
      "source": [
        "G = [[0 for _ in range(cols)] for _ in range(rows)]"
      ],
      "metadata": {
        "id": "afhWFWGzzYKu"
      },
      "execution_count": null,
      "outputs": []
    },
    {
      "cell_type": "code",
      "source": [
        "rows = 2\n",
        "cols = 3\n",
        " \n",
        "G = [[0 for _ in range(cols)] for _ in range(rows)]\n",
        "for i in range(rows):\n",
        "  for j in range(cols):\n",
        "    G[i][j] = random.randrange(0,2)"
      ],
      "metadata": {
        "id": "E1M1NjCrwPAo"
      },
      "execution_count": null,
      "outputs": []
    },
    {
      "cell_type": "code",
      "source": [
        "G"
      ],
      "metadata": {
        "colab": {
          "base_uri": "https://localhost:8080/"
        },
        "id": "IJ8su-Fmwuhm",
        "outputId": "8433b0cf-f206-4ddf-dc09-143c4e7edb52"
      },
      "execution_count": null,
      "outputs": [
        {
          "output_type": "execute_result",
          "data": {
            "text/plain": [
              "[[0, 0, 1], [0, 1, 1]]"
            ]
          },
          "metadata": {},
          "execution_count": 248
        }
      ]
    },
    {
      "cell_type": "code",
      "source": [
        "n = random.randrange(0, rows)\n",
        "m = random.randrange(0, cols)\n",
        "G[n][m]"
      ],
      "metadata": {
        "colab": {
          "base_uri": "https://localhost:8080/"
        },
        "id": "_DL_cxNcyEVp",
        "outputId": "155d5b7d-229e-46a7-d3aa-b88b976d6910"
      },
      "execution_count": null,
      "outputs": [
        {
          "output_type": "execute_result",
          "data": {
            "text/plain": [
              "0"
            ]
          },
          "metadata": {},
          "execution_count": 275
        }
      ]
    },
    {
      "cell_type": "code",
      "source": [
        "random.randint(0,2)"
      ],
      "metadata": {
        "colab": {
          "base_uri": "https://localhost:8080/"
        },
        "id": "MaHx1YQ41MNz",
        "outputId": "37a31cd3-618e-43c7-bc05-f8b097e4d784"
      },
      "execution_count": null,
      "outputs": [
        {
          "output_type": "execute_result",
          "data": {
            "text/plain": [
              "1"
            ]
          },
          "metadata": {},
          "execution_count": 281
        }
      ]
    },
    {
      "cell_type": "code",
      "source": [
        "print (f' n = {n}, m = {m}')"
      ],
      "metadata": {
        "colab": {
          "base_uri": "https://localhost:8080/"
        },
        "id": "pk0h4YMR0mPV",
        "outputId": "0b4c990d-513b-4994-850b-31ccd2e68b6a"
      },
      "execution_count": null,
      "outputs": [
        {
          "output_type": "stream",
          "name": "stdout",
          "text": [
            " n = 0, m = 2\n"
          ]
        }
      ]
    },
    {
      "cell_type": "code",
      "source": [
        "m"
      ],
      "metadata": {
        "id": "j6MEpnxu0pG6"
      },
      "execution_count": null,
      "outputs": []
    },
    {
      "cell_type": "code",
      "source": [
        "count = 1\n",
        "for i in range(rows):\n",
        "  for j in range(cols):\n",
        "    if G[i][j] == 1:\n",
        "      count = count +1"
      ],
      "metadata": {
        "id": "lwruhXSIyrhU"
      },
      "execution_count": null,
      "outputs": []
    },
    {
      "cell_type": "code",
      "source": [
        "count"
      ],
      "metadata": {
        "colab": {
          "base_uri": "https://localhost:8080/"
        },
        "id": "DjBxK77Cy_T8",
        "outputId": "7f27816d-a983-4f25-fb0c-d96fea9e71a1"
      },
      "execution_count": null,
      "outputs": [
        {
          "output_type": "execute_result",
          "data": {
            "text/plain": [
              "4"
            ]
          },
          "metadata": {},
          "execution_count": 250
        }
      ]
    },
    {
      "cell_type": "code",
      "source": [
        "count/(rows*cols)"
      ],
      "metadata": {
        "colab": {
          "base_uri": "https://localhost:8080/"
        },
        "id": "CG3sVAs_zDYa",
        "outputId": "135e8af2-b214-4dd6-e782-05630968415d"
      },
      "execution_count": null,
      "outputs": [
        {
          "output_type": "execute_result",
          "data": {
            "text/plain": [
              "0.6666666666666666"
            ]
          },
          "metadata": {},
          "execution_count": 252
        }
      ]
    },
    {
      "cell_type": "code",
      "source": [
        "from typing import List\n",
        "import random\n",
        "# Write any import statements here\n",
        "\n",
        "def getHitProbability(R: int, C: int, G: List[List[int]]) -> float:\n",
        "  # Write your code here\n",
        "  m, n = random.randrange(0, R), random.randrange(0, C)\n",
        "  shot_cell = G[m][n]\n",
        "  \n",
        "  count = 0\n",
        "  for i in range(R):\n",
        "    for j in range(C):\n",
        "      if G[i][j] == 0:\n",
        "        count = count + 1\n",
        "  prop = count/(R*C)\n",
        "  return prop\n"
      ],
      "metadata": {
        "id": "6vmLwfpC1_aG"
      },
      "execution_count": null,
      "outputs": []
    },
    {
      "cell_type": "code",
      "source": [
        "getHitProbability(R = 3, C =3, G = [[0, 0, 1], [1, 1, 1], [0, 1, 1]])"
      ],
      "metadata": {
        "colab": {
          "base_uri": "https://localhost:8080/"
        },
        "id": "TzTWSXWY2BwQ",
        "outputId": "3c4434c8-2e2d-4b29-8e0b-4b5e4385daab"
      },
      "execution_count": null,
      "outputs": [
        {
          "output_type": "execute_result",
          "data": {
            "text/plain": [
              "0.3333333333333333"
            ]
          },
          "metadata": {},
          "execution_count": 332
        }
      ]
    },
    {
      "cell_type": "code",
      "source": [
        "A = \"aiofdno-5\"\n",
        "A.isdigit()"
      ],
      "metadata": {
        "colab": {
          "base_uri": "https://localhost:8080/"
        },
        "id": "3OdRTo_D7ifc",
        "outputId": "d2d6eafe-31e1-4a75-bde7-eddba62a761e"
      },
      "execution_count": null,
      "outputs": [
        {
          "output_type": "execute_result",
          "data": {
            "text/plain": [
              "False"
            ]
          },
          "metadata": {},
          "execution_count": 5
        }
      ]
    },
    {
      "cell_type": "code",
      "source": [
        "c =list(A)"
      ],
      "metadata": {
        "id": "LtiDc6Jz8orm"
      },
      "execution_count": null,
      "outputs": []
    },
    {
      "cell_type": "code",
      "source": [
        "sr = ''\n",
        "sr = sr +chr(67)"
      ],
      "metadata": {
        "id": "RcJTWcHNB_eU"
      },
      "execution_count": null,
      "outputs": []
    },
    {
      "cell_type": "code",
      "source": [
        "sr + chr(87)"
      ],
      "metadata": {
        "colab": {
          "base_uri": "https://localhost:8080/",
          "height": 36
        },
        "id": "yImaomOh88Jl",
        "outputId": "e49d4797-87ce-4021-ef03-7c81544d311c"
      },
      "execution_count": null,
      "outputs": [
        {
          "output_type": "execute_result",
          "data": {
            "text/plain": [
              "'CW'"
            ],
            "application/vnd.google.colaboratory.intrinsic+json": {
              "type": "string"
            }
          },
          "metadata": {},
          "execution_count": 364
        }
      ]
    },
    {
      "cell_type": "code",
      "source": [
        "letter = ['F', 'N', 'G']\n",
        "rotation_factor = 3\n",
        "string = ''"
      ],
      "metadata": {
        "id": "ZM0TahCWPs5Z"
      },
      "execution_count": null,
      "outputs": []
    },
    {
      "cell_type": "code",
      "source": [
        "if ord(letter) in range(ord('A'), ord('Z')+1):\n",
        "      if (ord(letter) + rotation_factor) > ord('Z'):\n",
        "        asci = ord('A') + (ord(letter)+ rotation_factor)%ord('Z')\n",
        "        string = string + chr(asci-1)\n",
        "        print (string)\n",
        "else:\n",
        "  print('No')"
      ],
      "metadata": {
        "id": "bpUnRduXFRlR"
      },
      "execution_count": null,
      "outputs": []
    },
    {
      "cell_type": "code",
      "source": [
        "chr(asci)"
      ],
      "metadata": {
        "colab": {
          "base_uri": "https://localhost:8080/",
          "height": 36
        },
        "id": "oMxJTTQlQGYS",
        "outputId": "c3c24e50-bbf0-43fe-dacb-476f8c9dc9eb"
      },
      "execution_count": null,
      "outputs": [
        {
          "output_type": "execute_result",
          "data": {
            "text/plain": [
              "'\\x03'"
            ],
            "application/vnd.google.colaboratory.intrinsic+json": {
              "type": "string"
            }
          },
          "metadata": {},
          "execution_count": 68
        }
      ]
    },
    {
      "cell_type": "code",
      "source": [
        "for num in range (0,10):\n",
        "  print(num)"
      ],
      "metadata": {
        "colab": {
          "base_uri": "https://localhost:8080/"
        },
        "id": "ukR3O7N_O45y",
        "outputId": "a7a82b88-fb25-4bc2-a599-20e6af90b944"
      },
      "execution_count": null,
      "outputs": [
        {
          "output_type": "stream",
          "name": "stdout",
          "text": [
            "0\n",
            "1\n",
            "2\n",
            "3\n",
            "4\n",
            "5\n",
            "6\n",
            "7\n",
            "8\n",
            "9\n"
          ]
        }
      ]
    },
    {
      "cell_type": "code",
      "source": [
        "not A.isalnum()"
      ],
      "metadata": {
        "id": "9kutiZwiIL96",
        "colab": {
          "base_uri": "https://localhost:8080/"
        },
        "outputId": "4dc6ff84-0854-4432-d682-74795588a821"
      },
      "execution_count": null,
      "outputs": [
        {
          "output_type": "execute_result",
          "data": {
            "text/plain": [
              "True"
            ]
          },
          "metadata": {},
          "execution_count": 8
        }
      ]
    },
    {
      "cell_type": "code",
      "source": [
        "\n",
        "def rotationalCipher(input_str, rotation_factor):\n",
        "  capAlpha = []\n",
        "  for i in range (ord('A'), ord('Z')+1):\n",
        "    capAlpha.append(chr(i))\n",
        "  lowAlpha = []\n",
        "  for i in range (ord('a'), ord('z')+1):\n",
        "   lowAlpha.append(chr(i))\n",
        "  num = []\n",
        "  for i in range (ord('0'), ord('9')+1):\n",
        "   num.append(chr(i))\n",
        "\n",
        "  string =''\n",
        "  input_str = list(input_str)\n",
        "  for letter in input_str:\n",
        "    if letter in num:\n",
        "      new_letter = ord(letter) + rotation_factor\n",
        "      mod = new_letter % 9\n",
        "      skip = ord(letter) + mod-1\n",
        "      string = string + chr(skip)\n",
        "    \n",
        "    elif ord(letter) in range(ord('a'), ord('z')+1):\n",
        "      new_letter = ord(letter) + rotation_factor\n",
        "      mod = new_letter % 26\n",
        "      skip = ord('a') + mod\n",
        "      string = string + chr(skip)\n",
        "\n",
        "    elif ord(letter) in range(ord('A'), ord('Z')+1):\n",
        "      new_letter = ord(letter) + rotation_factor\n",
        "      mod = new_letter % 26\n",
        "      skip = ord('A') + mod\n",
        "      string = string + chr(skip)\n",
        "      \n",
        "    elif not letter.isalnum():\n",
        "      string = string + letter\n",
        "    \n",
        "    \n",
        "  return string\n"
      ],
      "metadata": {
        "id": "TRLk17RiI_of"
      },
      "execution_count": null,
      "outputs": []
    },
    {
      "cell_type": "code",
      "source": [
        "len(num)"
      ],
      "metadata": {
        "colab": {
          "base_uri": "https://localhost:8080/"
        },
        "id": "Y_R7NuCGa5JT",
        "outputId": "34685353-3f31-4af1-9df6-21652c288b02"
      },
      "execution_count": null,
      "outputs": [
        {
          "output_type": "execute_result",
          "data": {
            "text/plain": [
              "10"
            ]
          },
          "metadata": {},
          "execution_count": 176
        }
      ]
    },
    {
      "cell_type": "code",
      "source": [
        "rotationalCipher('Zebra-493?', 3)"
      ],
      "metadata": {
        "colab": {
          "base_uri": "https://localhost:8080/",
          "height": 36
        },
        "id": "j5B10wsDJBCA",
        "outputId": "87f20ad4-1906-4b81-f413-6657338bff0f"
      },
      "execution_count": null,
      "outputs": [
        {
          "output_type": "execute_result",
          "data": {
            "text/plain": [
              "'Paxnw-4>2?'"
            ],
            "application/vnd.google.colaboratory.intrinsic+json": {
              "type": "string"
            }
          },
          "metadata": {},
          "execution_count": 168
        }
      ]
    },
    {
      "cell_type": "code",
      "source": [
        "rotationalCipher('abcdefghijklmNOPQRSTUVWXYZ0123456789', 39)"
      ],
      "metadata": {
        "colab": {
          "base_uri": "https://localhost:8080/",
          "height": 36
        },
        "id": "y6Wm2_ynVyKV",
        "outputId": "0b7287c6-0b0e-4b31-ea2b-53a1f3aa7a86"
      },
      "execution_count": null,
      "outputs": [
        {
          "output_type": "execute_result",
          "data": {
            "text/plain": [
              "'ghijklmnopqrsNOPQRSTUVWXYZMOQSUWY[]_'"
            ],
            "application/vnd.google.colaboratory.intrinsic+json": {
              "type": "string"
            }
          },
          "metadata": {},
          "execution_count": 164
        }
      ]
    },
    {
      "cell_type": "markdown",
      "source": [
        "## Object-Oriented Programming"
      ],
      "metadata": {
        "id": "p9uGUaWROyc2"
      }
    },
    {
      "cell_type": "code",
      "source": [
        "my_student = {\n",
        "    'name': 'Rolf Smith', \n",
        "    'grades': [70, 88, 90, 99]\n",
        "    }\n",
        "import numpy as np\n",
        "average = np.mean(my_student['grades'])\n",
        "average"
      ],
      "metadata": {
        "id": "YraO38E0OyEp"
      },
      "execution_count": null,
      "outputs": []
    },
    {
      "cell_type": "code",
      "source": [
        "class Student:\n",
        "  def  __init__(self, name, school): #dunder/magic method\n",
        "    self.name = name #creates a variable (property) \"name\" and assigns the value of new_name\n",
        "    self.school = school #creates a variable \"grades\" and assigns the value of new_grade\n",
        "    self.marks = []\n",
        "  \n",
        "  def average(self): #method in a class\n",
        "    return sum(self.marks)/ len(self.marks)"
      ],
      "metadata": {
        "id": "MKOYg0vKQwpg"
      },
      "execution_count": null,
      "outputs": []
    },
    {
      "cell_type": "code",
      "source": [
        "class WorkingStudent (Student):\n",
        "  def __init__ (self, name, school, salary):\n",
        "    super().__init__(name, school)\n",
        "    self.salary = salary\n",
        "\n",
        "  @property #decorator\n",
        "  def weekly_salary(self):\n",
        "    return self.salary * 37.5"
      ],
      "metadata": {
        "id": "t2D74VmIw-vq"
      },
      "execution_count": null,
      "outputs": []
    },
    {
      "cell_type": "code",
      "source": [
        "student_one = Student(\"Rolf Smith\", 'Lapwing Academy') #creating objects of class Student\n",
        "student_two = Student('Jose', 'Delonix Starters Academy')"
      ],
      "metadata": {
        "id": "HnJBaxdCRb7d"
      },
      "execution_count": null,
      "outputs": []
    },
    {
      "cell_type": "code",
      "source": [
        "working_student = WorkingStudent ('Jayden', 'Lapwing Academy', 57)"
      ],
      "metadata": {
        "id": "PMSqt-69zHy7"
      },
      "execution_count": null,
      "outputs": []
    },
    {
      "cell_type": "code",
      "source": [
        "working_student.salary"
      ],
      "metadata": {
        "colab": {
          "base_uri": "https://localhost:8080/"
        },
        "id": "V1kOqHUp2qFG",
        "outputId": "8ec5e5cf-04e5-495c-a779-286576a63866"
      },
      "execution_count": null,
      "outputs": [
        {
          "output_type": "execute_result",
          "data": {
            "text/plain": [
              "57"
            ]
          },
          "metadata": {},
          "execution_count": 27
        }
      ]
    },
    {
      "cell_type": "code",
      "source": [
        "student_one.school"
      ],
      "metadata": {
        "colab": {
          "base_uri": "https://localhost:8080/",
          "height": 35
        },
        "id": "CqbEB90ey0X3",
        "outputId": "b47c86b1-2f1b-4eb0-e2ed-9ecfabe98c03"
      },
      "execution_count": null,
      "outputs": [
        {
          "output_type": "execute_result",
          "data": {
            "text/plain": [
              "'Lapwing Academy'"
            ],
            "application/vnd.google.colaboratory.intrinsic+json": {
              "type": "string"
            }
          },
          "metadata": {},
          "execution_count": 9
        }
      ]
    },
    {
      "cell_type": "code",
      "source": [
        "print(f'{student_one.average()}')\n",
        "print(f'{Student.average(student_one)}')"
      ],
      "metadata": {
        "id": "30eLoM7cXA_E"
      },
      "execution_count": null,
      "outputs": []
    },
    {
      "cell_type": "markdown",
      "source": [
        "### Dunder or Magic Functions"
      ],
      "metadata": {
        "id": "P0DimodBgggp"
      }
    },
    {
      "cell_type": "code",
      "source": [
        "class Garage():\n",
        "  def __init__(self):#constructor/initialization of the class    self.cars = []\n",
        "    self.cars = []\n",
        "  \n",
        "  def __len__(self):\n",
        "    return len(self.cars)\n",
        "\n",
        "  def  __getitem__(self, i):\n",
        "    return self.cars[i]\n",
        "\n",
        "  def __str__(self) :\n",
        "    return f'Garage with {len(self)} cars.'\n",
        "  \n",
        "  def __repr__(self) -> str:\n",
        "    return f'<Garage {self.cars}>'"
      ],
      "metadata": {
        "id": "THstOzGYgfe5"
      },
      "execution_count": null,
      "outputs": []
    },
    {
      "cell_type": "code",
      "source": [
        "#Inheritance in Python\n",
        "class LocationGarage(Garage):\n",
        "  def __init__(self, longitude, latitude):\n",
        "    super().__init__ () #Inherits the __init__ dunder method from Garage\n",
        "    self.longitude = longitude\n",
        "    self.latitude = latitude\n",
        "    "
      ],
      "metadata": {
        "id": "XWrDxGsOuQEK"
      },
      "execution_count": null,
      "outputs": []
    },
    {
      "cell_type": "code",
      "source": [
        "location = LocationGarage(569.09, -124.5)\n",
        "location.cars.extend(['Avalon', 'Corolla', 'Rav4'])\n",
        "location.__len__()\n",
        "print(location)\n",
        "len(location)\n",
        "toyota = Garage()\n",
        "print(toyota)\n",
        "toyota.cars.extend(['Avalon', 'Corolla', 'Rav4'])\n",
        "print(len(toyota))\n",
        "print(toyota[2])\n",
        "for car in toyota:\n",
        "  print(car)"
      ],
      "metadata": {
        "id": "reMEU82DvRXa",
        "colab": {
          "base_uri": "https://localhost:8080/"
        },
        "outputId": "c6a5090e-dc29-4936-fb61-c1f6d7213088"
      },
      "execution_count": null,
      "outputs": [
        {
          "output_type": "stream",
          "name": "stdout",
          "text": [
            "Garage with 3 cars.\n",
            "Garage with 0 cars.\n",
            "3\n",
            "Rav4\n",
            "Avalon\n",
            "Corolla\n",
            "Rav4\n"
          ]
        }
      ]
    },
    {
      "cell_type": "code",
      "source": [
        "class Student1:\n",
        "  def __init__(self, name, school):\n",
        "    self.name = name\n",
        "    self.school = school\n",
        "    self.marks = []\n",
        "\n",
        "  def average(self):\n",
        "    return sum(self.marks)/len(self.marks)"
      ],
      "metadata": {
        "id": "n7CJFoq2sC_R"
      },
      "execution_count": null,
      "outputs": []
    },
    {
      "cell_type": "markdown",
      "source": [
        "### @classmethod, @staticmethod. A staticmethod has less benefits. Always use a classmethod: when defining a method that does not need self. Staticmethods and classmethods do no take a 'self' as a parameter. However classmethods take a 'cls' in place of the 'self'. Find examples below"
      ],
      "metadata": {
        "id": "kZvCQkQVmLxR"
      }
    },
    {
      "cell_type": "code",
      "source": [
        "class FixedFloat:\n",
        "  def __init__(self, amount):\n",
        "    self.amount = amount\n",
        "\n",
        "  def __repr__(self):\n",
        "    return f'<FixedFloat {self.amount: .2f}>'\n",
        "\n",
        "  # #@classmethod #if this class is used, it calls the  method from the class it is being called from\n",
        "  # def from_sum(cls, value1, value2):\n",
        "  #   return cls(value1 + value2)\n",
        "\n",
        "  @staticmethod  # this method alwas calls the method from this class\n",
        "  def from_sum(value1, value2):\n",
        "    return FixedFloat(value1 + value2)"
      ],
      "metadata": {
        "id": "mW2LU0PemTmb"
      },
      "execution_count": null,
      "outputs": []
    },
    {
      "cell_type": "code",
      "source": [
        "new_number = FixedFloat.from_sum(19.575, 0.789)\n",
        "print(new_number)"
      ],
      "metadata": {
        "colab": {
          "base_uri": "https://localhost:8080/"
        },
        "id": "PuvToUlom0bj",
        "outputId": "55c29e42-4c94-418f-a545-8644f1d84331"
      },
      "execution_count": null,
      "outputs": [
        {
          "output_type": "stream",
          "name": "stdout",
          "text": [
            "<FixedFloat  20.36>\n"
          ]
        }
      ]
    },
    {
      "cell_type": "code",
      "source": [
        "class Euro(FixedFloat):\n",
        "  def __init__(self, amount):\n",
        "    super().__init__(amount)\n",
        "    self.symbol = 'E'\n",
        "\n",
        "  def __repr__(self):\n",
        "    return f'<Euro {self.symbol} {self.amount}'"
      ],
      "metadata": {
        "id": "jms0CUtZoOQF"
      },
      "execution_count": null,
      "outputs": []
    },
    {
      "cell_type": "code",
      "source": [
        "money = Euro(15.394)\n",
        "print(money)"
      ],
      "metadata": {
        "colab": {
          "base_uri": "https://localhost:8080/"
        },
        "id": "H1fhtVyCsVSz",
        "outputId": "f0f7951a-c9d5-4ecf-89a3-66627435dc53"
      },
      "execution_count": null,
      "outputs": [
        {
          "output_type": "stream",
          "name": "stdout",
          "text": [
            "<Euro E 15.394\n"
          ]
        }
      ]
    },
    {
      "cell_type": "code",
      "source": [
        "print(money.from_sum(19, 11))"
      ],
      "metadata": {
        "colab": {
          "base_uri": "https://localhost:8080/"
        },
        "id": "qd957Ul5tJo6",
        "outputId": "cda0d0b5-20b6-4af6-b597-73c8a9f7f6c5"
      },
      "execution_count": null,
      "outputs": [
        {
          "output_type": "stream",
          "name": "stdout",
          "text": [
            "<FixedFloat  30.00>\n"
          ]
        }
      ]
    },
    {
      "cell_type": "markdown",
      "source": [
        "## Generators in Python"
      ],
      "metadata": {
        "id": "7js3zqXvX9Df"
      }
    },
    {
      "cell_type": "code",
      "source": [
        "def hundred_numbers():\n",
        "  i = 0\n",
        "  while i < 100:\n",
        "    yield i\n",
        "    i += 1"
      ],
      "metadata": {
        "id": "qIbtAYHmYB2z"
      },
      "execution_count": null,
      "outputs": []
    },
    {
      "cell_type": "code",
      "source": [
        "g = hundred_numbers()"
      ],
      "metadata": {
        "id": "ilo8gBcrYlOr"
      },
      "execution_count": null,
      "outputs": []
    },
    {
      "cell_type": "code",
      "source": [
        "for i in range (2,2):\n",
        "  print(i)"
      ],
      "metadata": {
        "id": "e_b00kZZiBrz"
      },
      "execution_count": null,
      "outputs": []
    },
    {
      "cell_type": "code",
      "source": [
        "print(next(g)) #prints the next element in the sequence\n",
        "print(list(g)) #prints the entire sequence list"
      ],
      "metadata": {
        "id": "MxZSP4x9bNRU"
      },
      "execution_count": null,
      "outputs": []
    },
    {
      "cell_type": "code",
      "source": [
        "for n in range(2, 20):\n",
        "    for x in range(2, n):\n",
        "        if n % x == 0:\n",
        "            print('{} equals {} * {}.'.format(n, x, n//x))\n",
        "            break\n",
        "    else: #This else block is only executed when the for loop is not terminated by a break statement\n",
        "     print('{} is a prime number.'.format(n))"
      ],
      "metadata": {
        "id": "sZbs51i5fyuX"
      },
      "execution_count": null,
      "outputs": []
    },
    {
      "cell_type": "code",
      "source": [
        "#Using a generator\n",
        "def prime_generator(bound):\n",
        "    # your code starts here (delete the pass):\n",
        "        for n in range(2, bound):\n",
        "          for x in range (2, n):\n",
        "              if n % x == 0:\n",
        "                  yield ('{} equals {} * {}' .format(n, x, n//x))\n",
        "                  break\n",
        "          else:\n",
        "              yield('{} is a prime number' .format(n))"
      ],
      "metadata": {
        "id": "DsWyV2cxoMOH"
      },
      "execution_count": null,
      "outputs": []
    },
    {
      "cell_type": "code",
      "source": [
        "g = prime_generator(20)"
      ],
      "metadata": {
        "id": "QJ8R-87eoO1T"
      },
      "execution_count": null,
      "outputs": []
    },
    {
      "cell_type": "code",
      "source": [
        "print(next(g))"
      ],
      "metadata": {
        "colab": {
          "base_uri": "https://localhost:8080/"
        },
        "id": "M9cmtD1hoTJs",
        "outputId": "122af1ea-0010-428e-984f-ed4251169624"
      },
      "execution_count": null,
      "outputs": [
        {
          "output_type": "stream",
          "name": "stdout",
          "text": [
            "2 is a prime number\n"
          ]
        }
      ]
    },
    {
      "cell_type": "code",
      "source": [
        "class PrimeGenerator:\n",
        "    # You may modify the __init__() method if necessary, but you don't need to change its arguments\n",
        "    def __init__(self, stop):\n",
        "        self.stop = stop    # stop defines the range (exclusive upper bound) in which we search for the primes\n",
        "        self.start = 0\n",
        "    \n",
        "    def __next__(self):\n",
        "      for n in range(self.start, self.stop):\n",
        "        for x in range (2, n):\n",
        "          if n % x ==0:\n",
        "            break\n",
        "        else:\n",
        "          self.start = n+1\n",
        "          return n\n",
        "      raise StopIteration()"
      ],
      "metadata": {
        "id": "4Cq360BLu4hw"
      },
      "execution_count": null,
      "outputs": []
    },
    {
      "cell_type": "code",
      "source": [
        "g = PrimeGenerator(10)"
      ],
      "metadata": {
        "id": "ndNaHY4AvOtN"
      },
      "execution_count": null,
      "outputs": []
    },
    {
      "cell_type": "code",
      "source": [
        "print(next(g))"
      ],
      "metadata": {
        "colab": {
          "base_uri": "https://localhost:8080/"
        },
        "id": "s3U7aKuyvexs",
        "outputId": "be196265-ac88-4214-8d21-b9b6a4b836d6"
      },
      "execution_count": null,
      "outputs": [
        {
          "output_type": "stream",
          "name": "stdout",
          "text": [
            "0\n"
          ]
        }
      ]
    },
    {
      "cell_type": "code",
      "source": [
        "my_numbers = [x for x in [1, 2, 3, 4, 5]] #list comprehension\n",
        "my_numbers_gen = (x for x in [1, 2, 3, 4, 5]) #generator comprehension"
      ],
      "metadata": {
        "id": "7xydCgIhvqM4"
      },
      "execution_count": null,
      "outputs": []
    },
    {
      "cell_type": "code",
      "source": [
        "print(my_numbers)"
      ],
      "metadata": {
        "colab": {
          "base_uri": "https://localhost:8080/"
        },
        "id": "rVo5YvXkYCDA",
        "outputId": "f37fc234-7992-4fdb-cf00-b0bbb394ee3c"
      },
      "execution_count": null,
      "outputs": [
        {
          "output_type": "stream",
          "name": "stdout",
          "text": [
            "[1, 2, 3, 4, 5]\n"
          ]
        }
      ]
    },
    {
      "cell_type": "code",
      "source": [
        "try:\n",
        "  print(next(my_numbers_gen))\n",
        "except:\n",
        "  pass"
      ],
      "metadata": {
        "id": "T3qCHJIcYFoD"
      },
      "execution_count": null,
      "outputs": []
    },
    {
      "cell_type": "markdown",
      "source": [
        "### Filter() function"
      ],
      "metadata": {
        "id": "nRSOQY_sY55l"
      }
    },
    {
      "cell_type": "code",
      "source": [
        "string = 'Peter'\n",
        "# newString = string.lower()\n",
        "if (string.lower()).startswith('p'):\n",
        "  print(True)"
      ],
      "metadata": {
        "colab": {
          "base_uri": "https://localhost:8080/"
        },
        "id": "Rl-_suL-Z3HN",
        "outputId": "0e74793e-e1ea-4850-d442-c9348a40bc43"
      },
      "execution_count": null,
      "outputs": [
        {
          "output_type": "stream",
          "name": "stdout",
          "text": [
            "True\n"
          ]
        }
      ]
    },
    {
      "cell_type": "code",
      "source": [
        "def starts_with_r(friend):\n",
        "  friend = friend.lower()\n",
        "  return friend.startswith('r')\n",
        "\n",
        "friends = ['Rolf', 'Jose', 'Randy', 'Anna', 'Mary']\n",
        "start_with_r = filter(starts_with_r, friends) # arg1: function that returns True/False, arg2: iterable\n",
        "start_with_r_lamda = filter(lambda x: x.startswith('R'), friends)#uses a lambda function\n",
        "start_with_r_gen_comprehension = (f for f in friends if f.startswith('R')) #generator comprehension"
      ],
      "metadata": {
        "id": "5NL4u2PdY5bP"
      },
      "execution_count": null,
      "outputs": []
    },
    {
      "cell_type": "code",
      "source": [
        "for name in start_with_r_gen_comprehension:\n",
        "  print(name)"
      ],
      "metadata": {
        "colab": {
          "base_uri": "https://localhost:8080/"
        },
        "id": "SbX_NzEqa1hi",
        "outputId": "61ae9f41-2371-40f2-e920-fa7ec1f812a4"
      },
      "execution_count": null,
      "outputs": [
        {
          "output_type": "stream",
          "name": "stdout",
          "text": [
            "Rolf\n",
            "Randy\n"
          ]
        }
      ]
    },
    {
      "cell_type": "code",
      "source": [
        "print(list(start_with_r))"
      ],
      "metadata": {
        "colab": {
          "base_uri": "https://localhost:8080/"
        },
        "id": "eUt6YU_zbYx7",
        "outputId": "f5e225bb-3e25-4450-f83c-5d7362c11ec6"
      },
      "execution_count": null,
      "outputs": [
        {
          "output_type": "stream",
          "name": "stdout",
          "text": [
            "['Rolf', 'Randy']\n"
          ]
        }
      ]
    },
    {
      "cell_type": "markdown",
      "source": [
        "# Beautiful Soup 4"
      ],
      "metadata": {
        "id": "T1dZrrdgyo2m"
      }
    },
    {
      "cell_type": "code",
      "source": [],
      "metadata": {
        "id": "0_6D1ZYBysGC"
      },
      "execution_count": null,
      "outputs": []
    },
    {
      "cell_type": "code",
      "source": [
        "SIMPLE_HTML ='''<html>\n",
        "<head></head>\n",
        "<body>\n",
        "<h1>This is a title</h1>\n",
        "<p class=\"subtitle\">Lorem ipsum dolor sit amet. Consectetur edipiscim elit.</p>\n",
        "<p>Here's another p without a class</p>\n",
        "<ul>\n",
        "  <li>Rolf</li>\n",
        "  <li>Charlie</li>\n",
        "  <li>Jen</li>\n",
        "  <li>Jose</li>\n",
        "</ul>\n",
        "</body>\n",
        "</html>'''"
      ],
      "metadata": {
        "id": "lqxUE14VznkR"
      },
      "execution_count": null,
      "outputs": []
    },
    {
      "cell_type": "code",
      "source": [
        "simple_soup = bs(SIMPLE_HTML, 'html.parser')"
      ],
      "metadata": {
        "id": "FQNchAIZ6Z--"
      },
      "execution_count": null,
      "outputs": []
    },
    {
      "cell_type": "code",
      "source": [
        "print(simple_soup.find('h1'))"
      ],
      "metadata": {
        "colab": {
          "base_uri": "https://localhost:8080/"
        },
        "id": "IF8k8jKC60fE",
        "outputId": "a25a3890-2019-44ff-f435-c2861718b966"
      },
      "execution_count": null,
      "outputs": [
        {
          "output_type": "stream",
          "name": "stdout",
          "text": [
            "<h1>This is a title</h1>\n"
          ]
        }
      ]
    },
    {
      "cell_type": "code",
      "source": [
        "print(simple_soup.find('h1').string)"
      ],
      "metadata": {
        "colab": {
          "base_uri": "https://localhost:8080/"
        },
        "id": "17SH4kfz7OiE",
        "outputId": "584be1b1-ece1-49ff-ef6e-af216ec7af73"
      },
      "execution_count": null,
      "outputs": [
        {
          "output_type": "stream",
          "name": "stdout",
          "text": [
            "This is a title\n"
          ]
        }
      ]
    },
    {
      "cell_type": "code",
      "source": [
        "def find_list_items():\n",
        "  list_items = simple_soup.find_all('li')\n",
        "  list_contents = [e.string for e in list_items]\n",
        "  return list_contents"
      ],
      "metadata": {
        "id": "d36uIt277sPt"
      },
      "execution_count": null,
      "outputs": []
    },
    {
      "cell_type": "code",
      "source": [
        "def find_subtitle():\n",
        "  paragraph = simple_soup.find('p', {'class': 'subtitle'})\n",
        "  paragraph = paragraph.string\n",
        "  return paragraph"
      ],
      "metadata": {
        "id": "xxp2d5eu_cjA"
      },
      "execution_count": null,
      "outputs": []
    },
    {
      "cell_type": "code",
      "source": [
        "print(find_subtitle())"
      ],
      "metadata": {
        "colab": {
          "base_uri": "https://localhost:8080/"
        },
        "id": "IUWe_1n0_cWf",
        "outputId": "8ff42144-47e0-4a3c-8e01-f1fec51b3a79"
      },
      "execution_count": null,
      "outputs": [
        {
          "output_type": "stream",
          "name": "stdout",
          "text": [
            "Lorem ipsum dolor sit amet. Consectetur edipiscim elit.\n"
          ]
        }
      ]
    },
    {
      "cell_type": "code",
      "source": [
        "def find_other_paragraphs():\n",
        "  paragraphs = simple_soup.find_all('p')\n",
        "  print(type(paragraphs))\n",
        "  other_paragraph = [p for p in paragraphs if 'subtitle' not in p.attrs.get('class', [])]\n",
        "  print(type(other_paragraph[0]))\n",
        "  print(other_paragraph[0].string)"
      ],
      "metadata": {
        "id": "wNWZjTfo87o_"
      },
      "execution_count": null,
      "outputs": []
    },
    {
      "cell_type": "code",
      "source": [
        "find_other_paragraphs()"
      ],
      "metadata": {
        "colab": {
          "base_uri": "https://localhost:8080/"
        },
        "id": "_Y4tVFQ3BtZU",
        "outputId": "71cae1d5-a587-41c1-8864-fd4f39c61caa"
      },
      "execution_count": null,
      "outputs": [
        {
          "output_type": "stream",
          "name": "stdout",
          "text": [
            "<class 'bs4.element.ResultSet'>\n",
            "<class 'bs4.element.Tag'>\n",
            "Here's another p without a class\n"
          ]
        }
      ]
    },
    {
      "cell_type": "code",
      "source": [],
      "metadata": {
        "id": "mJQmQ0fJUxSw"
      },
      "execution_count": null,
      "outputs": []
    },
    {
      "cell_type": "code",
      "source": [
        "ITEM_HTML = '''<html><head></head><body>\n",
        "<li class=\"col-xs-6 col-sm-4 col-md-3 col-lg-3\">\n",
        "    <article class=\"product_pod\">\n",
        "            <div class=\"image_container\">\n",
        "                    <a href=\"catalogue/a-light-in-the-attic_1000/index.html\"><img src=\"media/cache/2c/da/2cdad67c44b002e7ead0cc35693c0e8b.jpg\" alt=\"A Light in the Attic\" class=\"thumbnail\"></a>\n",
        "            </div>\n",
        "            <p class=\"star-rating Three\">\n",
        "                    <i class=\"icon-star\"></i>\n",
        "                    <i class=\"icon-star\"></i>\n",
        "                    <i class=\"icon-star\"></i>\n",
        "                    <i class=\"icon-star\"></i>\n",
        "                    <i class=\"icon-star\"></i>\n",
        "            </p>\n",
        "            <h3><a href=\"catalogue/a-light-in-the-attic_1000/index.html\" title=\"A Light in the Attic\">A Light in the ...</a></h3>\n",
        "            <div class=\"product_price\">\n",
        "        <p class=\"price_color\">$51.77</p>\n",
        "<p class=\"instock availability\">\n",
        "    <i class=\"icon-ok\"></i>\n",
        "        In stock\n",
        "</p>\n",
        "    <form>\n",
        "        <button type=\"submit\" class=\"btn btn-primary btn-block\" data-loading-text=\"Adding...\">Add to basket</button>\n",
        "    </form>\n",
        "            </div>\n",
        "    </article>\n",
        "</li>\n",
        "</body></html>\n",
        "'''"
      ],
      "metadata": {
        "id": "SooFW8UHCDhb"
      },
      "execution_count": 2,
      "outputs": []
    },
    {
      "cell_type": "code",
      "source": [
        "soup = bs(ITEM_HTML, 'html.parser')"
      ],
      "metadata": {
        "id": "b2n2ahRzkcq1"
      },
      "execution_count": null,
      "outputs": []
    },
    {
      "cell_type": "code",
      "source": [
        "from bs4 import BeautifulSoup as bs\n",
        "\n",
        "class ParsedItem:\n",
        "  '''\n",
        "A class to take in an HTML page (or part of it), and find properties of an item in it.\n",
        "  '''\n",
        "  def __init__(self, page):\n",
        "    self.soup = bs(page, 'html.parser')\n",
        "\n",
        "  @property\n",
        "  def name(self):\n",
        "    locator = 'article.product_pod h3 a' #CSS locator\n",
        "    item_link = self.soup.select_one(locator)\n",
        "    item_name = item_link.attrs['title']\n",
        "    return item_name\n",
        "\n",
        "  @property\n",
        "  def link(self):\n",
        "    locator = 'article.product_pod h3 a' #CSS locator\n",
        "    item_link = self.soup.select_one(locator).attrs['href']\n",
        "    return item_link\n",
        "\n",
        "  @property\n",
        "  def price(self):\n",
        "    locator = 'article.product_pod div p.price_color'\n",
        "    item_link= self.soup.select_one(locator)\n",
        "    item = float((item_link).string.strip('$'))\n",
        "    return item\n",
        "\n",
        "  @property\n",
        "  def rating(self):\n",
        "    locator = 'article.product_pod p.star-rating'\n",
        "    star_rating_tag = self.soup.select_one(locator)\n",
        "    classes = star_rating_tag.attrs['class']\n",
        "    rating_classes = [r for r in classes if r != 'star-rating']\n",
        "    return rating_classes[0]"
      ],
      "metadata": {
        "id": "0kdOlwgBk6nh"
      },
      "execution_count": 4,
      "outputs": []
    },
    {
      "cell_type": "code",
      "source": [
        "item = ParsedItem(ITEM_HTML)\n",
        "print(item.find_item_rating())"
      ],
      "metadata": {
        "colab": {
          "base_uri": "https://localhost:8080/"
        },
        "id": "7x8lgf07p1cK",
        "outputId": "3d636580-e710-45ec-d76b-57c0b91eeb21"
      },
      "execution_count": 5,
      "outputs": [
        {
          "output_type": "stream",
          "name": "stdout",
          "text": [
            "Three\n"
          ]
        }
      ]
    },
    {
      "cell_type": "code",
      "source": [
        "num = '$45'\n",
        "num.strip('$')"
      ],
      "metadata": {
        "colab": {
          "base_uri": "https://localhost:8080/",
          "height": 35
        },
        "id": "Mw1zO2msqZXD",
        "outputId": "0e52d60b-9ae9-467d-eb2e-c1786e47a2de"
      },
      "execution_count": null,
      "outputs": [
        {
          "output_type": "execute_result",
          "data": {
            "text/plain": [
              "'45'"
            ],
            "application/vnd.google.colaboratory.intrinsic+json": {
              "type": "string"
            }
          },
          "metadata": {},
          "execution_count": 151
        }
      ]
    },
    {
      "cell_type": "code",
      "source": [
        "my_dict = {}\n",
        "my_dict['Jayden'] = 'My son'\n",
        "my_dict['Jamin'] = 'Araba\\'s first son'"
      ],
      "metadata": {
        "id": "U73neENGVu3M"
      },
      "execution_count": 16,
      "outputs": []
    },
    {
      "cell_type": "code",
      "source": [
        "for k in my_dict.keys():\n",
        "   print('{} maps to {}'. format (k, my_dict[k]))"
      ],
      "metadata": {
        "colab": {
          "base_uri": "https://localhost:8080/"
        },
        "id": "nCt4XMFnWdqr",
        "outputId": "832e92af-79b1-4bcd-d364-e54bc237dc1a"
      },
      "execution_count": 25,
      "outputs": [
        {
          "output_type": "stream",
          "name": "stdout",
          "text": [
            "Jayden maps to My son\n",
            "Jamin maps to Araba's first son\n"
          ]
        }
      ]
    },
    {
      "cell_type": "code",
      "source": [
        " "
      ],
      "metadata": {
        "id": "ykfHKW7YWps0"
      },
      "execution_count": null,
      "outputs": []
    }
  ]
}