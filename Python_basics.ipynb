{
  "nbformat": 4,
  "nbformat_minor": 0,
  "metadata": {
    "colab": {
      "provenance": [],
      "authorship_tag": "ABX9TyMY5LlRmmtACS3aGbLlBC/Z",
      "include_colab_link": true
    },
    "kernelspec": {
      "name": "python3",
      "display_name": "Python 3"
    },
    "language_info": {
      "name": "python"
    }
  },
  "cells": [
    {
      "cell_type": "markdown",
      "metadata": {
        "id": "view-in-github",
        "colab_type": "text"
      },
      "source": [
        "<a href=\"https://colab.research.google.com/github/Delonix7/Python_Basics/blob/main/Python_basics.ipynb\" target=\"_parent\"><img src=\"https://colab.research.google.com/assets/colab-badge.svg\" alt=\"Open In Colab\"/></a>"
      ]
    },
    {
      "cell_type": "markdown",
      "source": [
        "String Formatting"
      ],
      "metadata": {
        "id": "hhcDIj64ZKq2"
      }
    },
    {
      "cell_type": "code",
      "source": [
        "age = 34\n",
        "print(f'You are {age}')"
      ],
      "metadata": {
        "colab": {
          "base_uri": "https://localhost:8080/"
        },
        "id": "Fy9DRuGIazi0",
        "outputId": "5497d441-1852-46d4-e236-d7d45db194b8"
      },
      "execution_count": null,
      "outputs": [
        {
          "output_type": "stream",
          "name": "stdout",
          "text": [
            "You are 34\n"
          ]
        }
      ]
    },
    {
      "cell_type": "code",
      "execution_count": null,
      "metadata": {
        "colab": {
          "base_uri": "https://localhost:8080/"
        },
        "id": "Ujwu2NCwZHDo",
        "outputId": "fb6b8921-36c6-4e02-f933-30c98eedb4b4"
      },
      "outputs": [
        {
          "output_type": "stream",
          "name": "stdout",
          "text": [
            "You are 34\n"
          ]
        }
      ],
      "source": [
        "age = 34\n",
        "age_print = 'You are {}'\n",
        "final_age = age_print.format(age)\n",
        "print (final_age)"
      ]
    },
    {
      "cell_type": "code",
      "source": [
        "description = '{} is {age} years old.'\n",
        "print (description.format('Bob', age = 30))"
      ],
      "metadata": {
        "colab": {
          "base_uri": "https://localhost:8080/"
        },
        "id": "OcvT76WQcRVL",
        "outputId": "e262e0df-3cf7-46a9-d7cf-575170308206"
      },
      "execution_count": null,
      "outputs": [
        {
          "output_type": "stream",
          "name": "stdout",
          "text": [
            "Bob is 30 years old.\n"
          ]
        }
      ]
    },
    {
      "cell_type": "code",
      "source": [
        "#receiving user input\n",
        "user_input = input(\"Enter your name: \")"
      ],
      "metadata": {
        "colab": {
          "base_uri": "https://localhost:8080/"
        },
        "id": "MVz5Wkh1c7JS",
        "outputId": "785f8407-ff88-4614-8b00-1feec9da72df"
      },
      "execution_count": null,
      "outputs": [
        {
          "name": "stdout",
          "output_type": "stream",
          "text": [
            "Enter your name: Ato\n"
          ]
        }
      ]
    },
    {
      "cell_type": "code",
      "source": [
        "name = 'Ato '\n",
        "print (name or  'Mr. Aikins')"
      ],
      "metadata": {
        "colab": {
          "base_uri": "https://localhost:8080/"
        },
        "id": "lf3A8dVjjTOl",
        "outputId": "9635114e-071c-4888-9b6e-72fc7a38e62a"
      },
      "execution_count": null,
      "outputs": [
        {
          "output_type": "stream",
          "name": "stdout",
          "text": [
            "Ato \n"
          ]
        }
      ]
    },
    {
      "cell_type": "code",
      "source": [
        "name = ''\n",
        "print (name or  'Mr. Aikins')"
      ],
      "metadata": {
        "colab": {
          "base_uri": "https://localhost:8080/"
        },
        "id": "sivJjPzDjyo_",
        "outputId": "e87a7be0-e13a-4d04-ac08-0eecdb8c10f0"
      },
      "execution_count": null,
      "outputs": [
        {
          "output_type": "stream",
          "name": "stdout",
          "text": [
            "Mr. Aikins\n"
          ]
        }
      ]
    },
    {
      "cell_type": "code",
      "source": [
        "# list methods\n",
        "names = ['Jennifer', 'Ato', 'Jayden', 'Jamin', 'Danica', 'Alethea']"
      ],
      "metadata": {
        "id": "hoCb8uwH0L91"
      },
      "execution_count": null,
      "outputs": []
    },
    {
      "cell_type": "code",
      "source": [
        "names.extend(['Vicel','Melvina'])"
      ],
      "metadata": {
        "id": "j6I2cumc4bvA"
      },
      "execution_count": null,
      "outputs": []
    },
    {
      "cell_type": "code",
      "source": [
        "print (names)"
      ],
      "metadata": {
        "colab": {
          "base_uri": "https://localhost:8080/"
        },
        "id": "Xgrjb_tm6y3l",
        "outputId": "22bf5d74-39a9-4790-ddad-808c14475a6f"
      },
      "execution_count": null,
      "outputs": [
        {
          "output_type": "stream",
          "name": "stdout",
          "text": [
            "['Jennifer', 'Ato', 'Jayden', 'Jamin', 'Danica', 'Alethea', 'Vicel', 'Melvina', 'Vicel', 'Melvina', 'Vicel', 'Melvina', 'Vicel', 'Melvina']\n"
          ]
        }
      ]
    },
    {
      "cell_type": "code",
      "source": [
        "names_set = set(names)"
      ],
      "metadata": {
        "id": "1B-TI0Hn6nG3"
      },
      "execution_count": null,
      "outputs": []
    },
    {
      "cell_type": "code",
      "source": [
        "names_set.pop()"
      ],
      "metadata": {
        "colab": {
          "base_uri": "https://localhost:8080/",
          "height": 36
        },
        "id": "9nW88P9C68NF",
        "outputId": "81709356-9e75-48b8-f263-961e9217be2b"
      },
      "execution_count": null,
      "outputs": [
        {
          "output_type": "execute_result",
          "data": {
            "text/plain": [
              "'Vicel'"
            ],
            "application/vnd.google.colaboratory.intrinsic+json": {
              "type": "string"
            }
          },
          "metadata": {},
          "execution_count": 131
        }
      ]
    },
    {
      "cell_type": "code",
      "source": [
        "print(names_set)"
      ],
      "metadata": {
        "colab": {
          "base_uri": "https://localhost:8080/"
        },
        "id": "KSKuLI4q6mxZ",
        "outputId": "a9fc5f83-f426-4453-f256-74223cd1c3e7"
      },
      "execution_count": null,
      "outputs": [
        {
          "output_type": "stream",
          "name": "stdout",
          "text": [
            "{'Vicel', 'Melvina', 'Jamin', 'Danica', 'Jayden', 'Ato', 'Jennifer', 'Alethea'}\n"
          ]
        }
      ]
    },
    {
      "cell_type": "code",
      "source": [
        "print (names)"
      ],
      "metadata": {
        "colab": {
          "base_uri": "https://localhost:8080/"
        },
        "id": "XbverKUD564k",
        "outputId": "92d4564e-c763-45ce-c27c-8acde803425f"
      },
      "execution_count": null,
      "outputs": [
        {
          "output_type": "stream",
          "name": "stdout",
          "text": [
            "['Jennifer', 'Ato', 'Jayden', 'Jamin', 'Danica', 'Alethea', 'Vicel', 'Melvina', 'Vicel', 'Melvina', 'Vicel', 'Melvina', 'Vicel', 'Melvina']\n"
          ]
        }
      ]
    },
    {
      "cell_type": "code",
      "source": [
        "del(names[0])"
      ],
      "metadata": {
        "id": "8UMkTkXU53cG"
      },
      "execution_count": null,
      "outputs": []
    },
    {
      "cell_type": "code",
      "source": [
        "print (names)"
      ],
      "metadata": {
        "colab": {
          "base_uri": "https://localhost:8080/"
        },
        "id": "S_TiYJ-95CEz",
        "outputId": "723d1320-80ec-441c-9f50-0e7a2a6cc6f5"
      },
      "execution_count": null,
      "outputs": [
        {
          "output_type": "stream",
          "name": "stdout",
          "text": [
            "['Ato', 'Jayden', 'Jamin', 'Danica', 'Alethea', 'Melvina', 'Melvina', 'Melvina', 'Melvina']\n"
          ]
        }
      ]
    },
    {
      "cell_type": "code",
      "source": [
        "sorted(names)"
      ],
      "metadata": {
        "id": "IZXD2wFG0b1a"
      },
      "execution_count": null,
      "outputs": []
    },
    {
      "cell_type": "code",
      "source": [
        "len(names)"
      ],
      "metadata": {
        "colab": {
          "base_uri": "https://localhost:8080/"
        },
        "id": "Djqg5A_f0iaw",
        "outputId": "2feecfb0-7dbd-4660-ad82-148b7d9cd016"
      },
      "execution_count": null,
      "outputs": [
        {
          "output_type": "execute_result",
          "data": {
            "text/plain": [
              "6"
            ]
          },
          "metadata": {},
          "execution_count": 19
        }
      ]
    },
    {
      "cell_type": "code",
      "source": [
        "max(names)"
      ],
      "metadata": {
        "colab": {
          "base_uri": "https://localhost:8080/",
          "height": 36
        },
        "id": "P8saEB6O0kSw",
        "outputId": "b5150afa-42ee-49ff-e719-2126585728bd"
      },
      "execution_count": null,
      "outputs": [
        {
          "output_type": "execute_result",
          "data": {
            "text/plain": [
              "'Jennifer'"
            ],
            "application/vnd.google.colaboratory.intrinsic+json": {
              "type": "string"
            }
          },
          "metadata": {},
          "execution_count": 18
        }
      ]
    },
    {
      "cell_type": "code",
      "source": [
        "min(names)"
      ],
      "metadata": {
        "colab": {
          "base_uri": "https://localhost:8080/",
          "height": 36
        },
        "id": "e5dFygIK0pfy",
        "outputId": "4f9ec7ae-c9fa-4340-cb9a-9884fdc6cea5"
      },
      "execution_count": null,
      "outputs": [
        {
          "output_type": "execute_result",
          "data": {
            "text/plain": [
              "'Alethea'"
            ],
            "application/vnd.google.colaboratory.intrinsic+json": {
              "type": "string"
            }
          },
          "metadata": {},
          "execution_count": 20
        }
      ]
    },
    {
      "cell_type": "code",
      "source": [
        "my_dict = {'name' : 'Ato'}"
      ],
      "metadata": {
        "id": "sDLVIxaFVI-c"
      },
      "execution_count": null,
      "outputs": []
    },
    {
      "cell_type": "code",
      "source": [
        "my_dict['name'] = 'Jennifer'"
      ],
      "metadata": {
        "id": "B-FLAFzthxP3"
      },
      "execution_count": null,
      "outputs": []
    },
    {
      "cell_type": "code",
      "source": [
        "my_dict['name']"
      ],
      "metadata": {
        "colab": {
          "base_uri": "https://localhost:8080/",
          "height": 36
        },
        "id": "L49eqwcyiGZM",
        "outputId": "25cec658-5caf-482a-d785-b66ffd76e61d"
      },
      "execution_count": null,
      "outputs": [
        {
          "output_type": "execute_result",
          "data": {
            "text/plain": [
              "'Jennifer'"
            ],
            "application/vnd.google.colaboratory.intrinsic+json": {
              "type": "string"
            }
          },
          "metadata": {},
          "execution_count": 156
        }
      ]
    },
    {
      "cell_type": "code",
      "source": [
        "import math"
      ],
      "metadata": {
        "id": "gf9Y_fK5kaOk"
      },
      "execution_count": null,
      "outputs": []
    },
    {
      "cell_type": "code",
      "source": [
        "students = [{'name' : 'Ato', 'grades' : (100, 94, 99, 90, 95)}, {'name': 'Jennifer', 'grades': (98, 90, 93, 90, 99)}, {'name' : 'Jayden',  'grades': (100, 97, 99, 94, 99)}]"
      ],
      "metadata": {
        "id": "SdqpbUJsiVhm"
      },
      "execution_count": null,
      "outputs": []
    },
    {
      "cell_type": "code",
      "source": [
        "avg = lambda seq: sum(seq)/len(seq)"
      ],
      "metadata": {
        "id": "IfKHGr_CkDGe"
      },
      "execution_count": null,
      "outputs": []
    },
    {
      "cell_type": "code",
      "source": [
        "for student in students:\n",
        "  print(student['name'])"
      ],
      "metadata": {
        "colab": {
          "base_uri": "https://localhost:8080/"
        },
        "id": "5YC3hQsskb4Q",
        "outputId": "09137ceb-2936-43b0-fbbe-f47ab003d9fb"
      },
      "execution_count": null,
      "outputs": [
        {
          "output_type": "stream",
          "name": "stdout",
          "text": [
            "Ato\n",
            "Jennifer\n",
            "Jayden\n"
          ]
        }
      ]
    },
    {
      "cell_type": "code",
      "source": [
        "new_dict = {}\n",
        "for student in students:\n",
        "  new_dict[student['name']] = avg(student['grades'])\n",
        "  # print(student['name'], avg(student['grades']))"
      ],
      "metadata": {
        "id": "Erq3Vg2KimbH"
      },
      "execution_count": null,
      "outputs": []
    },
    {
      "cell_type": "code",
      "source": [
        "sorted(new_dict)"
      ],
      "metadata": {
        "colab": {
          "base_uri": "https://localhost:8080/"
        },
        "id": "JhjdGvslo1b5",
        "outputId": "884f068a-30af-45bd-f486-a1c5b8c46556"
      },
      "execution_count": null,
      "outputs": [
        {
          "output_type": "execute_result",
          "data": {
            "text/plain": [
              "['Ato', 'Jayden', 'Jennifer']"
            ]
          },
          "metadata": {},
          "execution_count": 191
        }
      ]
    },
    {
      "cell_type": "code",
      "source": [
        "add(2, y = 2)"
      ],
      "metadata": {
        "colab": {
          "base_uri": "https://localhost:8080/"
        },
        "id": "zT7YFGOeVmyt",
        "outputId": "5f2db0f5-7238-46b8-f581-450e50bbdecd"
      },
      "execution_count": null,
      "outputs": [
        {
          "output_type": "execute_result",
          "data": {
            "text/plain": [
              "4"
            ]
          },
          "metadata": {},
          "execution_count": 141
        }
      ]
    },
    {
      "cell_type": "code",
      "source": [
        "from typing import List\n",
        "import random\n",
        "\n",
        "def getHitProbability (R: int, C: int, G: List[List[int]]) -> float:\n",
        "  pass\n"
      ],
      "metadata": {
        "id": "MdLVF0M1qqpr"
      },
      "execution_count": null,
      "outputs": []
    },
    {
      "cell_type": "code",
      "source": [
        "num1 = [random.randrange(0, 2)]\n"
      ],
      "metadata": {
        "id": "jPzmWJLTtlkt"
      },
      "execution_count": null,
      "outputs": []
    },
    {
      "cell_type": "code",
      "source": [
        "num1"
      ],
      "metadata": {
        "colab": {
          "base_uri": "https://localhost:8080/"
        },
        "id": "QIsHAVkBwL7F",
        "outputId": "16083e31-cfb0-4042-8dd0-7d817ae367ff"
      },
      "execution_count": null,
      "outputs": [
        {
          "output_type": "execute_result",
          "data": {
            "text/plain": [
              "[1]"
            ]
          },
          "metadata": {},
          "execution_count": 219
        }
      ]
    },
    {
      "cell_type": "code",
      "source": [
        "G = [[0 for _ in range(cols)] for _ in range(rows)]"
      ],
      "metadata": {
        "id": "afhWFWGzzYKu"
      },
      "execution_count": null,
      "outputs": []
    },
    {
      "cell_type": "code",
      "source": [
        "rows = 2\n",
        "cols = 3\n",
        " \n",
        "G = [[0 for _ in range(cols)] for _ in range(rows)]\n",
        "for i in range(rows):\n",
        "  for j in range(cols):\n",
        "    G[i][j] = random.randrange(0,2)"
      ],
      "metadata": {
        "id": "E1M1NjCrwPAo"
      },
      "execution_count": null,
      "outputs": []
    },
    {
      "cell_type": "code",
      "source": [
        "G"
      ],
      "metadata": {
        "colab": {
          "base_uri": "https://localhost:8080/"
        },
        "id": "IJ8su-Fmwuhm",
        "outputId": "8433b0cf-f206-4ddf-dc09-143c4e7edb52"
      },
      "execution_count": null,
      "outputs": [
        {
          "output_type": "execute_result",
          "data": {
            "text/plain": [
              "[[0, 0, 1], [0, 1, 1]]"
            ]
          },
          "metadata": {},
          "execution_count": 248
        }
      ]
    },
    {
      "cell_type": "code",
      "source": [
        "n = random.randrange(0, rows)\n",
        "m = random.randrange(0, cols)\n",
        "G[n][m]"
      ],
      "metadata": {
        "colab": {
          "base_uri": "https://localhost:8080/"
        },
        "id": "_DL_cxNcyEVp",
        "outputId": "155d5b7d-229e-46a7-d3aa-b88b976d6910"
      },
      "execution_count": null,
      "outputs": [
        {
          "output_type": "execute_result",
          "data": {
            "text/plain": [
              "0"
            ]
          },
          "metadata": {},
          "execution_count": 275
        }
      ]
    },
    {
      "cell_type": "code",
      "source": [
        "random.randint(0,2)"
      ],
      "metadata": {
        "colab": {
          "base_uri": "https://localhost:8080/"
        },
        "id": "MaHx1YQ41MNz",
        "outputId": "37a31cd3-618e-43c7-bc05-f8b097e4d784"
      },
      "execution_count": null,
      "outputs": [
        {
          "output_type": "execute_result",
          "data": {
            "text/plain": [
              "1"
            ]
          },
          "metadata": {},
          "execution_count": 281
        }
      ]
    },
    {
      "cell_type": "code",
      "source": [
        "print (f' n = {n}, m = {m}')"
      ],
      "metadata": {
        "colab": {
          "base_uri": "https://localhost:8080/"
        },
        "id": "pk0h4YMR0mPV",
        "outputId": "0b4c990d-513b-4994-850b-31ccd2e68b6a"
      },
      "execution_count": null,
      "outputs": [
        {
          "output_type": "stream",
          "name": "stdout",
          "text": [
            " n = 0, m = 2\n"
          ]
        }
      ]
    },
    {
      "cell_type": "code",
      "source": [
        "m"
      ],
      "metadata": {
        "id": "j6MEpnxu0pG6"
      },
      "execution_count": null,
      "outputs": []
    },
    {
      "cell_type": "code",
      "source": [
        "count = 1\n",
        "for i in range(rows):\n",
        "  for j in range(cols):\n",
        "    if G[i][j] == 1:\n",
        "      count = count +1"
      ],
      "metadata": {
        "id": "lwruhXSIyrhU"
      },
      "execution_count": null,
      "outputs": []
    },
    {
      "cell_type": "code",
      "source": [
        "count"
      ],
      "metadata": {
        "colab": {
          "base_uri": "https://localhost:8080/"
        },
        "id": "DjBxK77Cy_T8",
        "outputId": "7f27816d-a983-4f25-fb0c-d96fea9e71a1"
      },
      "execution_count": null,
      "outputs": [
        {
          "output_type": "execute_result",
          "data": {
            "text/plain": [
              "4"
            ]
          },
          "metadata": {},
          "execution_count": 250
        }
      ]
    },
    {
      "cell_type": "code",
      "source": [
        "count/(rows*cols)"
      ],
      "metadata": {
        "colab": {
          "base_uri": "https://localhost:8080/"
        },
        "id": "CG3sVAs_zDYa",
        "outputId": "135e8af2-b214-4dd6-e782-05630968415d"
      },
      "execution_count": null,
      "outputs": [
        {
          "output_type": "execute_result",
          "data": {
            "text/plain": [
              "0.6666666666666666"
            ]
          },
          "metadata": {},
          "execution_count": 252
        }
      ]
    },
    {
      "cell_type": "code",
      "source": [
        "from typing import List\n",
        "import random\n",
        "# Write any import statements here\n",
        "\n",
        "def getHitProbability(R: int, C: int, G: List[List[int]]) -> float:\n",
        "  # Write your code here\n",
        "  m, n = random.randrange(0, R), random.randrange(0, C)\n",
        "  shot_cell = G[m][n]\n",
        "  \n",
        "  count = 0\n",
        "  for i in range(R):\n",
        "    for j in range(C):\n",
        "      if G[i][j] == 0:\n",
        "        count = count + 1\n",
        "  prop = count/(R*C)\n",
        "  return prop\n"
      ],
      "metadata": {
        "id": "6vmLwfpC1_aG"
      },
      "execution_count": null,
      "outputs": []
    },
    {
      "cell_type": "code",
      "source": [
        "getHitProbability(R = 3, C =3, G = [[0, 0, 1], [1, 1, 1], [0, 1, 1]])"
      ],
      "metadata": {
        "colab": {
          "base_uri": "https://localhost:8080/"
        },
        "id": "TzTWSXWY2BwQ",
        "outputId": "3c4434c8-2e2d-4b29-8e0b-4b5e4385daab"
      },
      "execution_count": null,
      "outputs": [
        {
          "output_type": "execute_result",
          "data": {
            "text/plain": [
              "0.3333333333333333"
            ]
          },
          "metadata": {},
          "execution_count": 332
        }
      ]
    },
    {
      "cell_type": "code",
      "source": [
        "A = \"aiofdno-5\"\n",
        "A.isdigit()"
      ],
      "metadata": {
        "colab": {
          "base_uri": "https://localhost:8080/"
        },
        "id": "3OdRTo_D7ifc",
        "outputId": "d2d6eafe-31e1-4a75-bde7-eddba62a761e"
      },
      "execution_count": null,
      "outputs": [
        {
          "output_type": "execute_result",
          "data": {
            "text/plain": [
              "False"
            ]
          },
          "metadata": {},
          "execution_count": 5
        }
      ]
    },
    {
      "cell_type": "code",
      "source": [
        "c =list(A)"
      ],
      "metadata": {
        "id": "LtiDc6Jz8orm"
      },
      "execution_count": null,
      "outputs": []
    },
    {
      "cell_type": "code",
      "source": [
        "sr = ''\n",
        "sr = sr +chr(67)"
      ],
      "metadata": {
        "id": "RcJTWcHNB_eU"
      },
      "execution_count": null,
      "outputs": []
    },
    {
      "cell_type": "code",
      "source": [
        "sr + chr(87)"
      ],
      "metadata": {
        "colab": {
          "base_uri": "https://localhost:8080/",
          "height": 36
        },
        "id": "yImaomOh88Jl",
        "outputId": "e49d4797-87ce-4021-ef03-7c81544d311c"
      },
      "execution_count": null,
      "outputs": [
        {
          "output_type": "execute_result",
          "data": {
            "text/plain": [
              "'CW'"
            ],
            "application/vnd.google.colaboratory.intrinsic+json": {
              "type": "string"
            }
          },
          "metadata": {},
          "execution_count": 364
        }
      ]
    },
    {
      "cell_type": "code",
      "source": [
        "letter = ['F', 'N', 'G']\n",
        "rotation_factor = 3\n",
        "string = ''"
      ],
      "metadata": {
        "id": "ZM0TahCWPs5Z"
      },
      "execution_count": null,
      "outputs": []
    },
    {
      "cell_type": "code",
      "source": [
        "if ord(letter) in range(ord('A'), ord('Z')+1):\n",
        "      if (ord(letter) + rotation_factor) > ord('Z'):\n",
        "        asci = ord('A') + (ord(letter)+ rotation_factor)%ord('Z')\n",
        "        string = string + chr(asci-1)\n",
        "        print (string)\n",
        "else:\n",
        "  print('No')"
      ],
      "metadata": {
        "id": "bpUnRduXFRlR"
      },
      "execution_count": null,
      "outputs": []
    },
    {
      "cell_type": "code",
      "source": [
        "chr(asci)"
      ],
      "metadata": {
        "colab": {
          "base_uri": "https://localhost:8080/",
          "height": 36
        },
        "id": "oMxJTTQlQGYS",
        "outputId": "c3c24e50-bbf0-43fe-dacb-476f8c9dc9eb"
      },
      "execution_count": null,
      "outputs": [
        {
          "output_type": "execute_result",
          "data": {
            "text/plain": [
              "'\\x03'"
            ],
            "application/vnd.google.colaboratory.intrinsic+json": {
              "type": "string"
            }
          },
          "metadata": {},
          "execution_count": 68
        }
      ]
    },
    {
      "cell_type": "code",
      "source": [
        "for num in range (0,10):\n",
        "  print(num)"
      ],
      "metadata": {
        "colab": {
          "base_uri": "https://localhost:8080/"
        },
        "id": "ukR3O7N_O45y",
        "outputId": "a7a82b88-fb25-4bc2-a599-20e6af90b944"
      },
      "execution_count": null,
      "outputs": [
        {
          "output_type": "stream",
          "name": "stdout",
          "text": [
            "0\n",
            "1\n",
            "2\n",
            "3\n",
            "4\n",
            "5\n",
            "6\n",
            "7\n",
            "8\n",
            "9\n"
          ]
        }
      ]
    },
    {
      "cell_type": "code",
      "source": [
        "not A.isalnum()"
      ],
      "metadata": {
        "id": "9kutiZwiIL96",
        "colab": {
          "base_uri": "https://localhost:8080/"
        },
        "outputId": "4dc6ff84-0854-4432-d682-74795588a821"
      },
      "execution_count": null,
      "outputs": [
        {
          "output_type": "execute_result",
          "data": {
            "text/plain": [
              "True"
            ]
          },
          "metadata": {},
          "execution_count": 8
        }
      ]
    },
    {
      "cell_type": "code",
      "source": [
        "\n",
        "def rotationalCipher(input_str, rotation_factor):\n",
        "  capAlpha = []\n",
        "  for i in range (ord('A'), ord('Z')+1):\n",
        "    capAlpha.append(chr(i))\n",
        "  lowAlpha = []\n",
        "  for i in range (ord('a'), ord('z')+1):\n",
        "   lowAlpha.append(chr(i))\n",
        "  num = []\n",
        "  for i in range (ord('0'), ord('9')+1):\n",
        "   num.append(chr(i))\n",
        "\n",
        "  string =''\n",
        "  input_str = list(input_str)\n",
        "  for letter in input_str:\n",
        "    if letter in num:\n",
        "      new_letter = ord(letter) + rotation_factor\n",
        "      mod = new_letter % 9\n",
        "      skip = ord(letter) + mod-1\n",
        "      string = string + chr(skip)\n",
        "    \n",
        "    elif ord(letter) in range(ord('a'), ord('z')+1):\n",
        "      new_letter = ord(letter) + rotation_factor\n",
        "      mod = new_letter % 26\n",
        "      skip = ord('a') + mod\n",
        "      string = string + chr(skip)\n",
        "\n",
        "    elif ord(letter) in range(ord('A'), ord('Z')+1):\n",
        "      new_letter = ord(letter) + rotation_factor\n",
        "      mod = new_letter % 26\n",
        "      skip = ord('A') + mod\n",
        "      string = string + chr(skip)\n",
        "      \n",
        "    elif not letter.isalnum():\n",
        "      string = string + letter\n",
        "    \n",
        "    \n",
        "  return string\n"
      ],
      "metadata": {
        "id": "TRLk17RiI_of"
      },
      "execution_count": null,
      "outputs": []
    },
    {
      "cell_type": "code",
      "source": [
        "len(num)"
      ],
      "metadata": {
        "colab": {
          "base_uri": "https://localhost:8080/"
        },
        "id": "Y_R7NuCGa5JT",
        "outputId": "34685353-3f31-4af1-9df6-21652c288b02"
      },
      "execution_count": null,
      "outputs": [
        {
          "output_type": "execute_result",
          "data": {
            "text/plain": [
              "10"
            ]
          },
          "metadata": {},
          "execution_count": 176
        }
      ]
    },
    {
      "cell_type": "code",
      "source": [
        "rotationalCipher('Zebra-493?', 3)"
      ],
      "metadata": {
        "colab": {
          "base_uri": "https://localhost:8080/",
          "height": 36
        },
        "id": "j5B10wsDJBCA",
        "outputId": "87f20ad4-1906-4b81-f413-6657338bff0f"
      },
      "execution_count": null,
      "outputs": [
        {
          "output_type": "execute_result",
          "data": {
            "text/plain": [
              "'Paxnw-4>2?'"
            ],
            "application/vnd.google.colaboratory.intrinsic+json": {
              "type": "string"
            }
          },
          "metadata": {},
          "execution_count": 168
        }
      ]
    },
    {
      "cell_type": "code",
      "source": [
        "rotationalCipher('abcdefghijklmNOPQRSTUVWXYZ0123456789', 39)"
      ],
      "metadata": {
        "colab": {
          "base_uri": "https://localhost:8080/",
          "height": 36
        },
        "id": "y6Wm2_ynVyKV",
        "outputId": "0b7287c6-0b0e-4b31-ea2b-53a1f3aa7a86"
      },
      "execution_count": null,
      "outputs": [
        {
          "output_type": "execute_result",
          "data": {
            "text/plain": [
              "'ghijklmnopqrsNOPQRSTUVWXYZMOQSUWY[]_'"
            ],
            "application/vnd.google.colaboratory.intrinsic+json": {
              "type": "string"
            }
          },
          "metadata": {},
          "execution_count": 164
        }
      ]
    },
    {
      "cell_type": "markdown",
      "source": [
        "## Object-Oriented Programming"
      ],
      "metadata": {
        "id": "p9uGUaWROyc2"
      }
    },
    {
      "cell_type": "code",
      "source": [
        "my_student = {\n",
        "    'name': 'Rolf Smith', \n",
        "    'grades': [70, 88, 90, 99]\n",
        "    }\n",
        "import numpy as np\n",
        "average = np.mean(my_student['grades'])\n",
        "average"
      ],
      "metadata": {
        "id": "YraO38E0OyEp"
      },
      "execution_count": null,
      "outputs": []
    },
    {
      "cell_type": "code",
      "source": [
        "class Student:\n",
        "  def  __init__(self, new_name, new_grade): #dunder/magic method\n",
        "    self.name = new_name #creates a variable (property) \"name\" and assigns the value of new_name\n",
        "    self.grades = new_grade #creates a variable \"grades\" and assigns the value of new_grade\n",
        "  \n",
        "  def average(self): #method in a class\n",
        "    return sum(self.grades)/ len(self.grades)"
      ],
      "metadata": {
        "id": "MKOYg0vKQwpg"
      },
      "execution_count": null,
      "outputs": []
    },
    {
      "cell_type": "code",
      "source": [
        "student_one = Student(\"Rolf Smith\", [70, 88, 90, 99]) #creating objects of class Student\n",
        "student_two = Student('Jose', [50, 60, 99, 100])"
      ],
      "metadata": {
        "id": "HnJBaxdCRb7d"
      },
      "execution_count": null,
      "outputs": []
    },
    {
      "cell_type": "code",
      "source": [
        "print(f'{student_one.average()}')\n",
        "print(f'{Student.average(student_one)}')"
      ],
      "metadata": {
        "colab": {
          "base_uri": "https://localhost:8080/"
        },
        "id": "30eLoM7cXA_E",
        "outputId": "ccb6d321-28ff-4f28-b54a-d2ec1cf925d1"
      },
      "execution_count": null,
      "outputs": [
        {
          "output_type": "stream",
          "name": "stdout",
          "text": [
            "86.75\n",
            "86.75\n"
          ]
        }
      ]
    },
    {
      "cell_type": "markdown",
      "source": [
        "### Dunder or Magic Functions"
      ],
      "metadata": {
        "id": "P0DimodBgggp"
      }
    },
    {
      "cell_type": "code",
      "source": [
        "class Garage():\n",
        "  def __init__(self):#constructor/initialization of the class    self.cars = []\n",
        "    self.cars = []\n",
        "  \n",
        "  def __len__(self):\n",
        "    return len(self.cars)\n",
        "\n",
        "  def  __getitem__(self, i):\n",
        "    return self.cars[i]\n",
        "\n",
        "  def __str__(self) :\n",
        "    return f'Garage with {len(self)} cars.'\n",
        "  \n",
        "  def __repr__(self) -> str:\n",
        "    return f'<Garage {self.cars}>'"
      ],
      "metadata": {
        "id": "THstOzGYgfe5"
      },
      "execution_count": null,
      "outputs": []
    },
    {
      "cell_type": "code",
      "source": [
        "class LocationGarage(Garage):\n",
        "  def __init__(self, longitude, latitude):\n",
        "    super().__init__ () #Inherits the __init__ dunder method from Garage\n",
        "    self.longitude = longitude\n",
        "    self.latitude = latitude\n",
        "    "
      ],
      "metadata": {
        "id": "XWrDxGsOuQEK"
      },
      "execution_count": null,
      "outputs": []
    },
    {
      "cell_type": "code",
      "source": [
        "location = LocationGarage(569.09, -124.5)"
      ],
      "metadata": {
        "id": "reMEU82DvRXa"
      },
      "execution_count": null,
      "outputs": []
    },
    {
      "cell_type": "code",
      "source": [
        "location.cars.extend(['Avalon', 'Corolla', 'Rav4'])"
      ],
      "metadata": {
        "id": "mNVz4dogvY90"
      },
      "execution_count": null,
      "outputs": []
    },
    {
      "cell_type": "code",
      "source": [
        "print(location)"
      ],
      "metadata": {
        "colab": {
          "base_uri": "https://localhost:8080/"
        },
        "id": "ebIqUeHzxKUy",
        "outputId": "60a4f3c7-ec77-469a-e518-ac60d41cc332"
      },
      "execution_count": null,
      "outputs": [
        {
          "output_type": "stream",
          "name": "stdout",
          "text": [
            "Garage with 3 cars.\n"
          ]
        }
      ]
    },
    {
      "cell_type": "code",
      "source": [
        "len(location)"
      ],
      "metadata": {
        "colab": {
          "base_uri": "https://localhost:8080/"
        },
        "id": "GYwCkbgeviML",
        "outputId": "b6a58348-78d7-48b3-a108-98dce8d4862f"
      },
      "execution_count": null,
      "outputs": [
        {
          "output_type": "execute_result",
          "data": {
            "text/plain": [
              "3"
            ]
          },
          "metadata": {},
          "execution_count": 20
        }
      ]
    },
    {
      "cell_type": "code",
      "source": [
        "toyota = Garage()"
      ],
      "metadata": {
        "id": "ud3V3cOYYFWg"
      },
      "execution_count": null,
      "outputs": []
    },
    {
      "cell_type": "code",
      "source": [
        "print(toyota)\n",
        "l"
      ],
      "metadata": {
        "colab": {
          "base_uri": "https://localhost:8080/"
        },
        "id": "UHDfma_JqHQZ",
        "outputId": "2e5ba77a-f735-4c2e-f846-234ddda8026f"
      },
      "execution_count": null,
      "outputs": [
        {
          "output_type": "stream",
          "name": "stdout",
          "text": [
            "<Garage []>\n"
          ]
        }
      ]
    },
    {
      "cell_type": "code",
      "source": [
        "toyota.cars.extend(['Avalon', 'Corolla', 'Rav4'])"
      ],
      "metadata": {
        "id": "3SJBKovWg2k7"
      },
      "execution_count": null,
      "outputs": []
    },
    {
      "cell_type": "code",
      "source": [
        "print(len(toyota))\n",
        "print(toyota[2])"
      ],
      "metadata": {
        "colab": {
          "base_uri": "https://localhost:8080/"
        },
        "id": "9oVJR0MqhD5u",
        "outputId": "0efd6bf6-276f-4973-de00-d2d786484851"
      },
      "execution_count": null,
      "outputs": [
        {
          "output_type": "stream",
          "name": "stdout",
          "text": [
            "3\n",
            "Rav4\n"
          ]
        }
      ]
    },
    {
      "cell_type": "code",
      "source": [
        "for car in toyota:\n",
        "  print(car)"
      ],
      "metadata": {
        "colab": {
          "base_uri": "https://localhost:8080/"
        },
        "id": "3d26nY53jwJe",
        "outputId": "01ac92ac-fbff-41f4-aedf-4ae668b4d413"
      },
      "execution_count": null,
      "outputs": [
        {
          "output_type": "stream",
          "name": "stdout",
          "text": [
            "Avalon\n",
            "Corolla\n",
            "Rav4\n"
          ]
        }
      ]
    },
    {
      "cell_type": "code",
      "source": [],
      "metadata": {
        "id": "n7CJFoq2sC_R"
      },
      "execution_count": null,
      "outputs": []
    }
  ]
}