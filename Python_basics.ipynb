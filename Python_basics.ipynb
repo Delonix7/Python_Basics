{
  "nbformat": 4,
  "nbformat_minor": 0,
  "metadata": {
    "colab": {
      "provenance": [],
      "authorship_tag": "ABX9TyNsOx0/7WwJm8ZMqC3QbYvW",
      "include_colab_link": true
    },
    "kernelspec": {
      "name": "python3",
      "display_name": "Python 3"
    },
    "language_info": {
      "name": "python"
    }
  },
  "cells": [
    {
      "cell_type": "markdown",
      "metadata": {
        "id": "view-in-github",
        "colab_type": "text"
      },
      "source": [
        "<a href=\"https://colab.research.google.com/github/Delonix7/Python_Basics/blob/main/Python_basics.ipynb\" target=\"_parent\"><img src=\"https://colab.research.google.com/assets/colab-badge.svg\" alt=\"Open In Colab\"/></a>"
      ]
    },
    {
      "cell_type": "markdown",
      "source": [
        "String Formatting"
      ],
      "metadata": {
        "id": "hhcDIj64ZKq2"
      }
    },
    {
      "cell_type": "code",
      "source": [
        "age = 34\n",
        "print(f'You are {age}')"
      ],
      "metadata": {
        "colab": {
          "base_uri": "https://localhost:8080/"
        },
        "id": "Fy9DRuGIazi0",
        "outputId": "672ee71f-23b5-48ce-bd26-ba1b77305347"
      },
      "execution_count": null,
      "outputs": [
        {
          "output_type": "stream",
          "name": "stdout",
          "text": [
            "You are 34\n"
          ]
        }
      ]
    },
    {
      "cell_type": "code",
      "execution_count": null,
      "metadata": {
        "colab": {
          "base_uri": "https://localhost:8080/"
        },
        "id": "Ujwu2NCwZHDo",
        "outputId": "526e4b51-041a-4a2d-f363-2bd5b73c0337"
      },
      "outputs": [
        {
          "output_type": "stream",
          "name": "stdout",
          "text": [
            "You are 34\n"
          ]
        }
      ],
      "source": [
        "age = 34\n",
        "age_print = 'You are {}'\n",
        "final_age = age_print.format(age)\n",
        "print (final_age)"
      ]
    },
    {
      "cell_type": "code",
      "source": [
        "description = '{} is {age} years old.'\n",
        "print (description.format('Bob', age = 30))"
      ],
      "metadata": {
        "colab": {
          "base_uri": "https://localhost:8080/"
        },
        "id": "OcvT76WQcRVL",
        "outputId": "a77ff686-21eb-4934-9d33-5ba7e6fb1d4f"
      },
      "execution_count": null,
      "outputs": [
        {
          "output_type": "stream",
          "name": "stdout",
          "text": [
            "Bob is 30 years old.\n"
          ]
        }
      ]
    },
    {
      "cell_type": "code",
      "source": [
        "#receiving user input\n",
        "#user_input = input(\"Enter your name: \")"
      ],
      "metadata": {
        "colab": {
          "base_uri": "https://localhost:8080/"
        },
        "id": "MVz5Wkh1c7JS",
        "outputId": "6d3b2d6a-537d-400f-81b7-bf5eaec8f964"
      },
      "execution_count": null,
      "outputs": [
        {
          "name": "stdout",
          "output_type": "stream",
          "text": [
            "Enter your name: Ato\n"
          ]
        }
      ]
    },
    {
      "cell_type": "code",
      "source": [
        "name = 'Ato '\n",
        "print (name or  'Mr. Aikins')"
      ],
      "metadata": {
        "colab": {
          "base_uri": "https://localhost:8080/"
        },
        "id": "lf3A8dVjjTOl",
        "outputId": "1f7ed9fa-0a1d-47ad-acb4-7285a5da8e12"
      },
      "execution_count": null,
      "outputs": [
        {
          "output_type": "stream",
          "name": "stdout",
          "text": [
            "Ato \n"
          ]
        }
      ]
    },
    {
      "cell_type": "code",
      "source": [
        "name = ''\n",
        "print (name or  'Mr. Aikins')"
      ],
      "metadata": {
        "colab": {
          "base_uri": "https://localhost:8080/"
        },
        "id": "sivJjPzDjyo_",
        "outputId": "c4045012-3c99-462f-9e31-37f27fc7c13d"
      },
      "execution_count": null,
      "outputs": [
        {
          "output_type": "stream",
          "name": "stdout",
          "text": [
            "Mr. Aikins\n"
          ]
        }
      ]
    },
    {
      "cell_type": "code",
      "source": [
        "# list methods\n",
        "names = ['Jennifer', 'Ato', 'Jayden', 'Jamin', 'Danica', 'Alethea']"
      ],
      "metadata": {
        "id": "hoCb8uwH0L91"
      },
      "execution_count": null,
      "outputs": []
    },
    {
      "cell_type": "code",
      "source": [
        "names.extend(['Vicel','Melvina'])"
      ],
      "metadata": {
        "id": "j6I2cumc4bvA"
      },
      "execution_count": null,
      "outputs": []
    },
    {
      "cell_type": "code",
      "source": [
        "print (names)"
      ],
      "metadata": {
        "colab": {
          "base_uri": "https://localhost:8080/"
        },
        "id": "Xgrjb_tm6y3l",
        "outputId": "7f9112be-2aff-410e-a6f9-e1966374e24f"
      },
      "execution_count": null,
      "outputs": [
        {
          "output_type": "stream",
          "name": "stdout",
          "text": [
            "['Jennifer', 'Ato', 'Jayden', 'Jamin', 'Danica', 'Alethea', 'Vicel', 'Melvina']\n"
          ]
        }
      ]
    },
    {
      "cell_type": "code",
      "source": [
        "names_set = set(names)"
      ],
      "metadata": {
        "id": "1B-TI0Hn6nG3"
      },
      "execution_count": null,
      "outputs": []
    },
    {
      "cell_type": "code",
      "source": [
        "names_set.pop()"
      ],
      "metadata": {
        "colab": {
          "base_uri": "https://localhost:8080/",
          "height": 35
        },
        "id": "9nW88P9C68NF",
        "outputId": "db93b6ea-ceff-466c-bdad-db50f64c3a1e"
      },
      "execution_count": null,
      "outputs": [
        {
          "output_type": "execute_result",
          "data": {
            "text/plain": [
              "'Jayden'"
            ],
            "application/vnd.google.colaboratory.intrinsic+json": {
              "type": "string"
            }
          },
          "metadata": {},
          "execution_count": 19
        }
      ]
    },
    {
      "cell_type": "code",
      "source": [
        "print(names_set)"
      ],
      "metadata": {
        "colab": {
          "base_uri": "https://localhost:8080/"
        },
        "id": "KSKuLI4q6mxZ",
        "outputId": "2f24c825-60b3-4ec3-8fb2-7b97b1f44564"
      },
      "execution_count": null,
      "outputs": [
        {
          "output_type": "stream",
          "name": "stdout",
          "text": [
            "{'Jennifer', 'Melvina', 'Danica', 'Alethea', 'Ato', 'Vicel', 'Jamin'}\n"
          ]
        }
      ]
    },
    {
      "cell_type": "code",
      "source": [
        "print (names)"
      ],
      "metadata": {
        "colab": {
          "base_uri": "https://localhost:8080/"
        },
        "id": "XbverKUD564k",
        "outputId": "dba8502d-2091-4523-f3a8-ee93b996b50b"
      },
      "execution_count": null,
      "outputs": [
        {
          "output_type": "stream",
          "name": "stdout",
          "text": [
            "['Jennifer', 'Ato', 'Jayden', 'Jamin', 'Danica', 'Alethea', 'Vicel', 'Melvina']\n"
          ]
        }
      ]
    },
    {
      "cell_type": "code",
      "source": [
        "del(names[0])"
      ],
      "metadata": {
        "id": "8UMkTkXU53cG"
      },
      "execution_count": null,
      "outputs": []
    },
    {
      "cell_type": "code",
      "source": [
        "print (names)"
      ],
      "metadata": {
        "colab": {
          "base_uri": "https://localhost:8080/"
        },
        "id": "S_TiYJ-95CEz",
        "outputId": "25c7479a-8442-4979-c85b-2e8dfbf825c7"
      },
      "execution_count": null,
      "outputs": [
        {
          "output_type": "stream",
          "name": "stdout",
          "text": [
            "['Ato', 'Jayden', 'Jamin', 'Danica', 'Alethea', 'Vicel', 'Melvina']\n"
          ]
        }
      ]
    },
    {
      "cell_type": "code",
      "source": [
        "sorted(names)"
      ],
      "metadata": {
        "id": "IZXD2wFG0b1a",
        "colab": {
          "base_uri": "https://localhost:8080/"
        },
        "outputId": "bd313fa3-04a1-497a-b4f9-85b0f68b1847"
      },
      "execution_count": null,
      "outputs": [
        {
          "output_type": "execute_result",
          "data": {
            "text/plain": [
              "['Alethea', 'Ato', 'Danica', 'Jamin', 'Jayden', 'Melvina', 'Vicel']"
            ]
          },
          "metadata": {},
          "execution_count": 24
        }
      ]
    },
    {
      "cell_type": "code",
      "source": [
        "len(names)"
      ],
      "metadata": {
        "colab": {
          "base_uri": "https://localhost:8080/"
        },
        "id": "Djqg5A_f0iaw",
        "outputId": "1a3910f8-e14b-443c-96a4-7e05b6f8e63a"
      },
      "execution_count": null,
      "outputs": [
        {
          "output_type": "execute_result",
          "data": {
            "text/plain": [
              "7"
            ]
          },
          "metadata": {},
          "execution_count": 25
        }
      ]
    },
    {
      "cell_type": "code",
      "source": [
        "max(names)"
      ],
      "metadata": {
        "colab": {
          "base_uri": "https://localhost:8080/",
          "height": 35
        },
        "id": "P8saEB6O0kSw",
        "outputId": "8553288c-3d38-44b0-f930-fc1dea568188"
      },
      "execution_count": null,
      "outputs": [
        {
          "output_type": "execute_result",
          "data": {
            "text/plain": [
              "'Vicel'"
            ],
            "application/vnd.google.colaboratory.intrinsic+json": {
              "type": "string"
            }
          },
          "metadata": {},
          "execution_count": 26
        }
      ]
    },
    {
      "cell_type": "code",
      "source": [
        "min(names)"
      ],
      "metadata": {
        "colab": {
          "base_uri": "https://localhost:8080/",
          "height": 35
        },
        "id": "e5dFygIK0pfy",
        "outputId": "11a9971c-4a77-4b33-8923-2d2a033b8a6a"
      },
      "execution_count": null,
      "outputs": [
        {
          "output_type": "execute_result",
          "data": {
            "text/plain": [
              "'Alethea'"
            ],
            "application/vnd.google.colaboratory.intrinsic+json": {
              "type": "string"
            }
          },
          "metadata": {},
          "execution_count": 27
        }
      ]
    },
    {
      "cell_type": "code",
      "source": [
        "my_dict = {'name' : 'Ato'}"
      ],
      "metadata": {
        "id": "sDLVIxaFVI-c"
      },
      "execution_count": null,
      "outputs": []
    },
    {
      "cell_type": "code",
      "source": [
        "my_dict['name'] = 'Jennifer'"
      ],
      "metadata": {
        "id": "B-FLAFzthxP3"
      },
      "execution_count": null,
      "outputs": []
    },
    {
      "cell_type": "code",
      "source": [
        "my_dict['name']"
      ],
      "metadata": {
        "colab": {
          "base_uri": "https://localhost:8080/",
          "height": 35
        },
        "id": "L49eqwcyiGZM",
        "outputId": "db900553-af8c-4182-f119-8a7fcb71513e"
      },
      "execution_count": null,
      "outputs": [
        {
          "output_type": "execute_result",
          "data": {
            "text/plain": [
              "'Jennifer'"
            ],
            "application/vnd.google.colaboratory.intrinsic+json": {
              "type": "string"
            }
          },
          "metadata": {},
          "execution_count": 30
        }
      ]
    },
    {
      "cell_type": "code",
      "source": [
        "import math"
      ],
      "metadata": {
        "id": "gf9Y_fK5kaOk"
      },
      "execution_count": null,
      "outputs": []
    },
    {
      "cell_type": "code",
      "source": [
        "students = [{'name' : 'Ato', 'grades' : (100, 94, 99, 90, 95)}, {'name': 'Jennifer', 'grades': (98, 90, 93, 90, 99)}, {'name' : 'Jayden',  'grades': (100, 97, 99, 94, 99)}]"
      ],
      "metadata": {
        "id": "SdqpbUJsiVhm"
      },
      "execution_count": null,
      "outputs": []
    },
    {
      "cell_type": "code",
      "source": [
        "avg = lambda seq: sum(seq)/len(seq)"
      ],
      "metadata": {
        "id": "IfKHGr_CkDGe"
      },
      "execution_count": null,
      "outputs": []
    },
    {
      "cell_type": "code",
      "source": [
        "for student in students:\n",
        "  print(student['name'])"
      ],
      "metadata": {
        "colab": {
          "base_uri": "https://localhost:8080/"
        },
        "id": "5YC3hQsskb4Q",
        "outputId": "269631eb-0b29-4c8f-8a0d-56fc2d5a3abc"
      },
      "execution_count": null,
      "outputs": [
        {
          "output_type": "stream",
          "name": "stdout",
          "text": [
            "Ato\n",
            "Jennifer\n",
            "Jayden\n"
          ]
        }
      ]
    },
    {
      "cell_type": "code",
      "source": [
        "new_dict = {}\n",
        "for student in students:\n",
        "  new_dict[student['name']] = avg(student['grades'])\n",
        "  # print(student['name'], avg(student['grades']))"
      ],
      "metadata": {
        "id": "Erq3Vg2KimbH"
      },
      "execution_count": null,
      "outputs": []
    },
    {
      "cell_type": "code",
      "source": [
        "sorted(new_dict)"
      ],
      "metadata": {
        "colab": {
          "base_uri": "https://localhost:8080/"
        },
        "id": "JhjdGvslo1b5",
        "outputId": "76061746-ffcc-4919-b4c0-7ece901ea025"
      },
      "execution_count": null,
      "outputs": [
        {
          "output_type": "execute_result",
          "data": {
            "text/plain": [
              "['Ato', 'Jayden', 'Jennifer']"
            ]
          },
          "metadata": {},
          "execution_count": 36
        }
      ]
    },
    {
      "cell_type": "code",
      "source": [
        "from typing import List\n",
        "import random\n",
        "\n",
        "def getHitProbability (R: int, C: int, G: List[List[int]]) -> float:\n",
        "  pass\n"
      ],
      "metadata": {
        "id": "MdLVF0M1qqpr"
      },
      "execution_count": null,
      "outputs": []
    },
    {
      "cell_type": "code",
      "source": [
        "num1 = [random.randrange(0, 2)]\n"
      ],
      "metadata": {
        "id": "jPzmWJLTtlkt"
      },
      "execution_count": null,
      "outputs": []
    },
    {
      "cell_type": "code",
      "source": [
        "num1"
      ],
      "metadata": {
        "colab": {
          "base_uri": "https://localhost:8080/"
        },
        "id": "QIsHAVkBwL7F",
        "outputId": "4b780495-9dcc-4496-9961-c665280a8ff2"
      },
      "execution_count": null,
      "outputs": [
        {
          "output_type": "execute_result",
          "data": {
            "text/plain": [
              "[0]"
            ]
          },
          "metadata": {},
          "execution_count": 41
        }
      ]
    },
    {
      "cell_type": "code",
      "source": [
        "rows = 2\n",
        "cols = 3\n",
        " \n",
        "G = [[0 for _ in range(cols)] for _ in range(rows)]\n",
        "for i in range(rows):\n",
        "  for j in range(cols):\n",
        "    G[i][j] = random.randrange(0,2)"
      ],
      "metadata": {
        "id": "E1M1NjCrwPAo"
      },
      "execution_count": null,
      "outputs": []
    },
    {
      "cell_type": "code",
      "source": [
        "G"
      ],
      "metadata": {
        "colab": {
          "base_uri": "https://localhost:8080/"
        },
        "id": "IJ8su-Fmwuhm",
        "outputId": "cd019079-2368-4191-c881-afc6c1058c03"
      },
      "execution_count": null,
      "outputs": [
        {
          "output_type": "execute_result",
          "data": {
            "text/plain": [
              "[[0, 0, 1], [0, 1, 1]]"
            ]
          },
          "metadata": {},
          "execution_count": 44
        }
      ]
    },
    {
      "cell_type": "code",
      "source": [
        "n = random.randrange(0, rows)\n",
        "m = random.randrange(0, cols)\n",
        "G[n][m]"
      ],
      "metadata": {
        "colab": {
          "base_uri": "https://localhost:8080/"
        },
        "id": "_DL_cxNcyEVp",
        "outputId": "002d7623-784a-4d08-d69e-f2d352f7ed64"
      },
      "execution_count": null,
      "outputs": [
        {
          "output_type": "execute_result",
          "data": {
            "text/plain": [
              "0"
            ]
          },
          "metadata": {},
          "execution_count": 45
        }
      ]
    },
    {
      "cell_type": "code",
      "source": [
        "random.randint(0,2)"
      ],
      "metadata": {
        "colab": {
          "base_uri": "https://localhost:8080/"
        },
        "id": "MaHx1YQ41MNz",
        "outputId": "6b61f6f6-f6c5-4045-ade0-db47929cbdf3"
      },
      "execution_count": null,
      "outputs": [
        {
          "output_type": "execute_result",
          "data": {
            "text/plain": [
              "1"
            ]
          },
          "metadata": {},
          "execution_count": 46
        }
      ]
    },
    {
      "cell_type": "code",
      "source": [
        "print (f' n = {n}, m = {m}')"
      ],
      "metadata": {
        "colab": {
          "base_uri": "https://localhost:8080/"
        },
        "id": "pk0h4YMR0mPV",
        "outputId": "3b2d550b-76cc-424c-d50d-5c409e84210c"
      },
      "execution_count": null,
      "outputs": [
        {
          "output_type": "stream",
          "name": "stdout",
          "text": [
            " n = 0, m = 1\n"
          ]
        }
      ]
    },
    {
      "cell_type": "code",
      "source": [
        "m"
      ],
      "metadata": {
        "id": "j6MEpnxu0pG6",
        "colab": {
          "base_uri": "https://localhost:8080/"
        },
        "outputId": "21227b8d-fdd5-4fca-a9cc-43ee433a78eb"
      },
      "execution_count": null,
      "outputs": [
        {
          "output_type": "execute_result",
          "data": {
            "text/plain": [
              "1"
            ]
          },
          "metadata": {},
          "execution_count": 48
        }
      ]
    },
    {
      "cell_type": "code",
      "source": [
        "count = 1\n",
        "for i in range(rows):\n",
        "  for j in range(cols):\n",
        "    if G[i][j] == 1:\n",
        "      count = count +1"
      ],
      "metadata": {
        "id": "lwruhXSIyrhU"
      },
      "execution_count": null,
      "outputs": []
    },
    {
      "cell_type": "code",
      "source": [
        "count"
      ],
      "metadata": {
        "colab": {
          "base_uri": "https://localhost:8080/"
        },
        "id": "DjBxK77Cy_T8",
        "outputId": "4e5ebe47-9afa-4ce6-cc8e-365a0d7fde9d"
      },
      "execution_count": null,
      "outputs": [
        {
          "output_type": "execute_result",
          "data": {
            "text/plain": [
              "4"
            ]
          },
          "metadata": {},
          "execution_count": 50
        }
      ]
    },
    {
      "cell_type": "code",
      "source": [
        "count/(rows*cols)"
      ],
      "metadata": {
        "colab": {
          "base_uri": "https://localhost:8080/"
        },
        "id": "CG3sVAs_zDYa",
        "outputId": "983ea7fb-1870-482d-bcc1-cfc6308bfba3"
      },
      "execution_count": null,
      "outputs": [
        {
          "output_type": "execute_result",
          "data": {
            "text/plain": [
              "0.6666666666666666"
            ]
          },
          "metadata": {},
          "execution_count": 51
        }
      ]
    },
    {
      "cell_type": "code",
      "source": [
        "from typing import List\n",
        "import random\n",
        "# Write any import statements here\n",
        "\n",
        "def getHitProbability(R: int, C: int, G: List[List[int]]) -> float:\n",
        "  # Write your code here\n",
        "  m, n = random.randrange(0, R), random.randrange(0, C)\n",
        "  shot_cell = G[m][n]\n",
        "  \n",
        "  count = 0\n",
        "  for i in range(R):\n",
        "    for j in range(C):\n",
        "      if G[i][j] == 0:\n",
        "        count = count + 1\n",
        "  prop = count/(R*C)\n",
        "  return prop\n"
      ],
      "metadata": {
        "id": "6vmLwfpC1_aG"
      },
      "execution_count": null,
      "outputs": []
    },
    {
      "cell_type": "code",
      "source": [
        "getHitProbability(R = 3, C =3, G = [[0, 0, 1], [1, 1, 1], [0, 1, 1]])"
      ],
      "metadata": {
        "colab": {
          "base_uri": "https://localhost:8080/"
        },
        "id": "TzTWSXWY2BwQ",
        "outputId": "a96ec803-92b1-4d89-d02c-1f90e45b508f"
      },
      "execution_count": null,
      "outputs": [
        {
          "output_type": "execute_result",
          "data": {
            "text/plain": [
              "0.3333333333333333"
            ]
          },
          "metadata": {},
          "execution_count": 53
        }
      ]
    },
    {
      "cell_type": "code",
      "source": [
        "A = \"aiofdno-5\"\n",
        "A.isdigit()"
      ],
      "metadata": {
        "colab": {
          "base_uri": "https://localhost:8080/"
        },
        "id": "3OdRTo_D7ifc",
        "outputId": "8e168d8b-25a6-436f-bcc4-f0a895e0a17e"
      },
      "execution_count": null,
      "outputs": [
        {
          "output_type": "execute_result",
          "data": {
            "text/plain": [
              "False"
            ]
          },
          "metadata": {},
          "execution_count": 54
        }
      ]
    },
    {
      "cell_type": "code",
      "source": [
        "c =list(A)"
      ],
      "metadata": {
        "id": "LtiDc6Jz8orm"
      },
      "execution_count": null,
      "outputs": []
    },
    {
      "cell_type": "code",
      "source": [
        "sr = ''\n",
        "sr = sr +chr(67)"
      ],
      "metadata": {
        "id": "RcJTWcHNB_eU"
      },
      "execution_count": null,
      "outputs": []
    },
    {
      "cell_type": "code",
      "source": [
        "sr + chr(87)"
      ],
      "metadata": {
        "colab": {
          "base_uri": "https://localhost:8080/",
          "height": 35
        },
        "id": "yImaomOh88Jl",
        "outputId": "c9242705-88f4-4c1a-c0b2-f51694c3b7b9"
      },
      "execution_count": null,
      "outputs": [
        {
          "output_type": "execute_result",
          "data": {
            "text/plain": [
              "'CW'"
            ],
            "application/vnd.google.colaboratory.intrinsic+json": {
              "type": "string"
            }
          },
          "metadata": {},
          "execution_count": 57
        }
      ]
    },
    {
      "cell_type": "code",
      "source": [
        "letter = ['F', 'N', 'G']\n",
        "rotation_factor = 3\n",
        "string = ''"
      ],
      "metadata": {
        "id": "ZM0TahCWPs5Z"
      },
      "execution_count": null,
      "outputs": []
    },
    {
      "cell_type": "code",
      "source": [
        "if ord(letter) in range(ord('A'), ord('Z')+1):\n",
        "      if (ord(letter) + rotation_factor) > ord('Z'):\n",
        "        asci = ord('A') + (ord(letter)+ rotation_factor)%ord('Z')\n",
        "        string = string + chr(asci-1)\n",
        "        print (string)\n",
        "else:\n",
        "  print('No')"
      ],
      "metadata": {
        "id": "bpUnRduXFRlR"
      },
      "execution_count": null,
      "outputs": []
    },
    {
      "cell_type": "code",
      "source": [
        "for num in range (0,10):\n",
        "  print(num)"
      ],
      "metadata": {
        "id": "ukR3O7N_O45y"
      },
      "execution_count": null,
      "outputs": []
    },
    {
      "cell_type": "code",
      "source": [
        "not A.isalnum()"
      ],
      "metadata": {
        "id": "9kutiZwiIL96",
        "colab": {
          "base_uri": "https://localhost:8080/"
        },
        "outputId": "e0219dc6-3770-4b1e-f357-c0bd0ae52d9b"
      },
      "execution_count": null,
      "outputs": [
        {
          "output_type": "execute_result",
          "data": {
            "text/plain": [
              "True"
            ]
          },
          "metadata": {},
          "execution_count": 62
        }
      ]
    },
    {
      "cell_type": "code",
      "source": [
        "\n",
        "def rotationalCipher(input_str, rotation_factor):\n",
        "  capAlpha = []\n",
        "  for i in range (ord('A'), ord('Z')+1):\n",
        "    capAlpha.append(chr(i))\n",
        "  lowAlpha = []\n",
        "  for i in range (ord('a'), ord('z')+1):\n",
        "   lowAlpha.append(chr(i))\n",
        "  num = []\n",
        "  for i in range (ord('0'), ord('9')+1):\n",
        "   num.append(chr(i))\n",
        "\n",
        "  string =''\n",
        "  input_str = list(input_str)\n",
        "  for letter in input_str:\n",
        "    if letter in num:\n",
        "      new_letter = ord(letter) + rotation_factor\n",
        "      mod = new_letter % 9\n",
        "      skip = ord(letter) + mod-1\n",
        "      string = string + chr(skip)\n",
        "    \n",
        "    elif ord(letter) in range(ord('a'), ord('z')+1):\n",
        "      new_letter = ord(letter) + rotation_factor\n",
        "      mod = new_letter % 26\n",
        "      skip = ord('a') + mod\n",
        "      string = string + chr(skip)\n",
        "\n",
        "    elif ord(letter) in range(ord('A'), ord('Z')+1):\n",
        "      new_letter = ord(letter) + rotation_factor\n",
        "      mod = new_letter % 26\n",
        "      skip = ord('A') + mod\n",
        "      string = string + chr(skip)\n",
        "      \n",
        "    elif not letter.isalnum():\n",
        "      string = string + letter\n",
        "    \n",
        "    \n",
        "  return string\n"
      ],
      "metadata": {
        "id": "TRLk17RiI_of"
      },
      "execution_count": null,
      "outputs": []
    },
    {
      "cell_type": "code",
      "source": [
        "rotationalCipher('Zebra-493?', 3)"
      ],
      "metadata": {
        "colab": {
          "base_uri": "https://localhost:8080/",
          "height": 35
        },
        "id": "j5B10wsDJBCA",
        "outputId": "5ac71015-48a9-45a3-906c-9367128d1a18"
      },
      "execution_count": null,
      "outputs": [
        {
          "output_type": "execute_result",
          "data": {
            "text/plain": [
              "'Paxnw-4>2?'"
            ],
            "application/vnd.google.colaboratory.intrinsic+json": {
              "type": "string"
            }
          },
          "metadata": {},
          "execution_count": 65
        }
      ]
    },
    {
      "cell_type": "code",
      "source": [
        "rotationalCipher('abcdefghijklmNOPQRSTUVWXYZ0123456789', 39)"
      ],
      "metadata": {
        "colab": {
          "base_uri": "https://localhost:8080/",
          "height": 35
        },
        "id": "y6Wm2_ynVyKV",
        "outputId": "0e22ffa3-5760-417e-83e8-f72aed738f77"
      },
      "execution_count": null,
      "outputs": [
        {
          "output_type": "execute_result",
          "data": {
            "text/plain": [
              "'ghijklmnopqrsNOPQRSTUVWXYZ5792468:<>'"
            ],
            "application/vnd.google.colaboratory.intrinsic+json": {
              "type": "string"
            }
          },
          "metadata": {},
          "execution_count": 66
        }
      ]
    },
    {
      "cell_type": "markdown",
      "source": [
        "## Object-Oriented Programming"
      ],
      "metadata": {
        "id": "p9uGUaWROyc2"
      }
    },
    {
      "cell_type": "code",
      "source": [
        "my_student = {\n",
        "    'name': 'Rolf Smith', \n",
        "    'grades': [70, 88, 90, 99]\n",
        "    }\n",
        "import numpy as np\n",
        "average = np.mean(my_student['grades'])\n",
        "average"
      ],
      "metadata": {
        "id": "YraO38E0OyEp",
        "colab": {
          "base_uri": "https://localhost:8080/"
        },
        "outputId": "ef665bd4-830d-41cf-8314-eadd38663033"
      },
      "execution_count": null,
      "outputs": [
        {
          "output_type": "execute_result",
          "data": {
            "text/plain": [
              "86.75"
            ]
          },
          "metadata": {},
          "execution_count": 68
        }
      ]
    },
    {
      "cell_type": "code",
      "source": [
        "class Student:\n",
        "  def  __init__(self, name, school): #dunder/magic method\n",
        "    self.name = name #creates a variable (property) \"name\" and assigns the value of new_name\n",
        "    self.school = school #creates a variable \"grades\" and assigns the value of new_grade\n",
        "    self.marks = []\n",
        "  \n",
        "  def average(self): #method in a class\n",
        "    return sum(self.marks)/ len(self.marks)"
      ],
      "metadata": {
        "id": "MKOYg0vKQwpg"
      },
      "execution_count": null,
      "outputs": []
    },
    {
      "cell_type": "code",
      "source": [
        "class WorkingStudent (Student):\n",
        "  def __init__ (self, name, school, salary):\n",
        "    super().__init__(name, school)\n",
        "    self.salary = salary\n",
        "\n",
        "  @property #decorator\n",
        "  def weekly_salary(self):\n",
        "    return self.salary * 37.5"
      ],
      "metadata": {
        "id": "t2D74VmIw-vq"
      },
      "execution_count": null,
      "outputs": []
    },
    {
      "cell_type": "code",
      "source": [
        "student_one = Student(\"Rolf Smith\", 'Lapwing Academy') #creating objects of class Student\n",
        "student_two = Student('Jose', 'Delonix Starters Academy')"
      ],
      "metadata": {
        "id": "HnJBaxdCRb7d"
      },
      "execution_count": null,
      "outputs": []
    },
    {
      "cell_type": "code",
      "source": [
        "working_student = WorkingStudent ('Jayden', 'Lapwing Academy', 57)"
      ],
      "metadata": {
        "id": "PMSqt-69zHy7"
      },
      "execution_count": null,
      "outputs": []
    },
    {
      "cell_type": "code",
      "source": [
        "working_student.salary"
      ],
      "metadata": {
        "colab": {
          "base_uri": "https://localhost:8080/"
        },
        "id": "V1kOqHUp2qFG",
        "outputId": "916a4e87-4b08-4327-dd79-13388cb6e9b5"
      },
      "execution_count": null,
      "outputs": [
        {
          "output_type": "execute_result",
          "data": {
            "text/plain": [
              "57"
            ]
          },
          "metadata": {},
          "execution_count": 73
        }
      ]
    },
    {
      "cell_type": "code",
      "source": [
        "student_one.school"
      ],
      "metadata": {
        "colab": {
          "base_uri": "https://localhost:8080/",
          "height": 35
        },
        "id": "CqbEB90ey0X3",
        "outputId": "273e732a-40c8-40b3-892e-3bd74ad40f38"
      },
      "execution_count": null,
      "outputs": [
        {
          "output_type": "execute_result",
          "data": {
            "text/plain": [
              "'Lapwing Academy'"
            ],
            "application/vnd.google.colaboratory.intrinsic+json": {
              "type": "string"
            }
          },
          "metadata": {},
          "execution_count": 74
        }
      ]
    },
    {
      "cell_type": "markdown",
      "source": [
        "### Dunder or Magic Functions"
      ],
      "metadata": {
        "id": "P0DimodBgggp"
      }
    },
    {
      "cell_type": "code",
      "source": [
        "class Garage():\n",
        "  def __init__(self):#constructor/initialization of the class    self.cars = []\n",
        "    self.cars = []\n",
        "  \n",
        "  def __len__(self):\n",
        "    return len(self.cars)\n",
        "\n",
        "  def  __getitem__(self, i):\n",
        "    return self.cars[i]\n",
        "\n",
        "  def __str__(self) :\n",
        "    return f'Garage with {len(self)} cars.'\n",
        "  \n",
        "  def __repr__(self) -> str:\n",
        "    return f'<Garage {self.cars}>'"
      ],
      "metadata": {
        "id": "THstOzGYgfe5"
      },
      "execution_count": null,
      "outputs": []
    },
    {
      "cell_type": "code",
      "source": [
        "#Inheritance in Python\n",
        "class LocationGarage(Garage):\n",
        "  def __init__(self, longitude, latitude):\n",
        "    super().__init__ () #Inherits the __init__ dunder method from Garage\n",
        "    self.longitude = longitude\n",
        "    self.latitude = latitude\n",
        "    "
      ],
      "metadata": {
        "id": "XWrDxGsOuQEK"
      },
      "execution_count": null,
      "outputs": []
    },
    {
      "cell_type": "code",
      "source": [
        "location = LocationGarage(569.09, -124.5)\n",
        "location.cars.extend(['Avalon', 'Corolla', 'Rav4'])\n",
        "location.__len__()\n",
        "print(location)\n",
        "len(location)\n",
        "toyota = Garage()\n",
        "print(toyota)\n",
        "toyota.cars.extend(['Avalon', 'Corolla', 'Rav4'])\n",
        "print(len(toyota))\n",
        "print(toyota[2])\n",
        "for car in toyota:\n",
        "  print(car)"
      ],
      "metadata": {
        "id": "reMEU82DvRXa",
        "colab": {
          "base_uri": "https://localhost:8080/"
        },
        "outputId": "4ec12eea-f2ad-4634-a3b5-0025fcbd3f37"
      },
      "execution_count": null,
      "outputs": [
        {
          "output_type": "stream",
          "name": "stdout",
          "text": [
            "Garage with 3 cars.\n",
            "Garage with 0 cars.\n",
            "3\n",
            "Rav4\n",
            "Avalon\n",
            "Corolla\n",
            "Rav4\n"
          ]
        }
      ]
    },
    {
      "cell_type": "code",
      "source": [
        "class Student1:\n",
        "  def __init__(self, name, school):\n",
        "    self.name = name\n",
        "    self.school = school\n",
        "    self.marks = []\n",
        "\n",
        "  def average(self):\n",
        "    return sum(self.marks)/len(self.marks)"
      ],
      "metadata": {
        "id": "n7CJFoq2sC_R"
      },
      "execution_count": null,
      "outputs": []
    },
    {
      "cell_type": "markdown",
      "source": [
        "### @classmethod, @staticmethod. A staticmethod has less benefits. Always use a classmethod: when defining a method that does not need self. Staticmethods and classmethods do no take a 'self' as a parameter. However classmethods take a 'cls' in place of the 'self'. Find examples below"
      ],
      "metadata": {
        "id": "kZvCQkQVmLxR"
      }
    },
    {
      "cell_type": "code",
      "source": [
        "class FixedFloat:\n",
        "  def __init__(self, amount):\n",
        "    self.amount = amount\n",
        "\n",
        "  def __repr__(self):\n",
        "    return f'<FixedFloat {self.amount: .2f}>'\n",
        "\n",
        "  # #@classmethod #if this class is used, it calls the  method from the class it is being called from\n",
        "  # def from_sum(cls, value1, value2):\n",
        "  #   return cls(value1 + value2)\n",
        "\n",
        "  @staticmethod  # this method alwas calls the method from this class\n",
        "  def from_sum(value1, value2):\n",
        "    return FixedFloat(value1 + value2)"
      ],
      "metadata": {
        "id": "mW2LU0PemTmb"
      },
      "execution_count": null,
      "outputs": []
    },
    {
      "cell_type": "code",
      "source": [
        "new_number = FixedFloat.from_sum(19.575, 0.789)\n",
        "print(new_number)"
      ],
      "metadata": {
        "colab": {
          "base_uri": "https://localhost:8080/"
        },
        "id": "PuvToUlom0bj",
        "outputId": "dfa46e4b-d219-493a-c1e2-da71139e0538"
      },
      "execution_count": null,
      "outputs": [
        {
          "output_type": "stream",
          "name": "stdout",
          "text": [
            "<FixedFloat  20.36>\n"
          ]
        }
      ]
    },
    {
      "cell_type": "code",
      "source": [
        "class Euro(FixedFloat):\n",
        "  def __init__(self, amount):\n",
        "    super().__init__(amount)\n",
        "    self.symbol = 'E'\n",
        "\n",
        "  def __repr__(self):\n",
        "    return f'<Euro {self.symbol} {self.amount}'"
      ],
      "metadata": {
        "id": "jms0CUtZoOQF"
      },
      "execution_count": null,
      "outputs": []
    },
    {
      "cell_type": "code",
      "source": [
        "money = Euro(15.394)\n",
        "print(money)"
      ],
      "metadata": {
        "colab": {
          "base_uri": "https://localhost:8080/"
        },
        "id": "H1fhtVyCsVSz",
        "outputId": "7a6809b8-7753-4a2e-be0f-5dbb7158ab96"
      },
      "execution_count": null,
      "outputs": [
        {
          "output_type": "stream",
          "name": "stdout",
          "text": [
            "<Euro E 15.394\n"
          ]
        }
      ]
    },
    {
      "cell_type": "code",
      "source": [
        "print(money.from_sum(19, 11))"
      ],
      "metadata": {
        "colab": {
          "base_uri": "https://localhost:8080/"
        },
        "id": "qd957Ul5tJo6",
        "outputId": "61135bcf-b1b3-46aa-b941-8ebd0612174a"
      },
      "execution_count": null,
      "outputs": [
        {
          "output_type": "stream",
          "name": "stdout",
          "text": [
            "<FixedFloat  30.00>\n"
          ]
        }
      ]
    },
    {
      "cell_type": "markdown",
      "source": [
        "## Generators in Python"
      ],
      "metadata": {
        "id": "7js3zqXvX9Df"
      }
    },
    {
      "cell_type": "code",
      "source": [
        "def hundred_numbers():\n",
        "  i = 0\n",
        "  while i < 100:\n",
        "    yield i\n",
        "    i += 1"
      ],
      "metadata": {
        "id": "qIbtAYHmYB2z"
      },
      "execution_count": null,
      "outputs": []
    },
    {
      "cell_type": "code",
      "source": [
        "g = hundred_numbers()"
      ],
      "metadata": {
        "id": "ilo8gBcrYlOr"
      },
      "execution_count": null,
      "outputs": []
    },
    {
      "cell_type": "code",
      "source": [
        "for i in range (2,2):\n",
        "  print(i)"
      ],
      "metadata": {
        "id": "e_b00kZZiBrz"
      },
      "execution_count": null,
      "outputs": []
    },
    {
      "cell_type": "code",
      "source": [
        "print(next(g)) #prints the next element in the sequence\n",
        "print(list(g)) #prints the entire sequence list"
      ],
      "metadata": {
        "id": "MxZSP4x9bNRU",
        "colab": {
          "base_uri": "https://localhost:8080/"
        },
        "outputId": "e59959d5-af0e-4343-9cf6-974b1384383e"
      },
      "execution_count": null,
      "outputs": [
        {
          "output_type": "stream",
          "name": "stdout",
          "text": [
            "0\n",
            "[1, 2, 3, 4, 5, 6, 7, 8, 9, 10, 11, 12, 13, 14, 15, 16, 17, 18, 19, 20, 21, 22, 23, 24, 25, 26, 27, 28, 29, 30, 31, 32, 33, 34, 35, 36, 37, 38, 39, 40, 41, 42, 43, 44, 45, 46, 47, 48, 49, 50, 51, 52, 53, 54, 55, 56, 57, 58, 59, 60, 61, 62, 63, 64, 65, 66, 67, 68, 69, 70, 71, 72, 73, 74, 75, 76, 77, 78, 79, 80, 81, 82, 83, 84, 85, 86, 87, 88, 89, 90, 91, 92, 93, 94, 95, 96, 97, 98, 99]\n"
          ]
        }
      ]
    },
    {
      "cell_type": "code",
      "source": [
        "for n in range(2, 20):\n",
        "    for x in range(2, n):\n",
        "        if n % x == 0:\n",
        "            print('{} equals {} * {}.'.format(n, x, n//x))\n",
        "            break\n",
        "    else: #This else block is only executed when the for loop is not terminated by a break statement\n",
        "     print('{} is a prime number.'.format(n))"
      ],
      "metadata": {
        "id": "sZbs51i5fyuX",
        "colab": {
          "base_uri": "https://localhost:8080/"
        },
        "outputId": "3b4fe596-8354-43f3-c797-4b0160375ba0"
      },
      "execution_count": null,
      "outputs": [
        {
          "output_type": "stream",
          "name": "stdout",
          "text": [
            "2 is a prime number.\n",
            "3 is a prime number.\n",
            "4 equals 2 * 2.\n",
            "5 is a prime number.\n",
            "6 equals 2 * 3.\n",
            "7 is a prime number.\n",
            "8 equals 2 * 4.\n",
            "9 equals 3 * 3.\n",
            "10 equals 2 * 5.\n",
            "11 is a prime number.\n",
            "12 equals 2 * 6.\n",
            "13 is a prime number.\n",
            "14 equals 2 * 7.\n",
            "15 equals 3 * 5.\n",
            "16 equals 2 * 8.\n",
            "17 is a prime number.\n",
            "18 equals 2 * 9.\n",
            "19 is a prime number.\n"
          ]
        }
      ]
    },
    {
      "cell_type": "code",
      "source": [
        "#Using a generator\n",
        "def prime_generator(bound):\n",
        "    # your code starts here (delete the pass):\n",
        "        for n in range(2, bound):\n",
        "          for x in range (2, n):\n",
        "              if n % x == 0:\n",
        "                  yield ('{} equals {} * {}' .format(n, x, n//x))\n",
        "                  break\n",
        "          else:\n",
        "              yield('{} is a prime number' .format(n))"
      ],
      "metadata": {
        "id": "DsWyV2cxoMOH"
      },
      "execution_count": null,
      "outputs": []
    },
    {
      "cell_type": "code",
      "source": [
        "g = prime_generator(20)"
      ],
      "metadata": {
        "id": "QJ8R-87eoO1T"
      },
      "execution_count": null,
      "outputs": []
    },
    {
      "cell_type": "code",
      "source": [
        "print(next(g))"
      ],
      "metadata": {
        "colab": {
          "base_uri": "https://localhost:8080/"
        },
        "id": "M9cmtD1hoTJs",
        "outputId": "2840a7a5-dca7-4636-dd2e-fb8b7a371088"
      },
      "execution_count": null,
      "outputs": [
        {
          "output_type": "stream",
          "name": "stdout",
          "text": [
            "2 is a prime number\n"
          ]
        }
      ]
    },
    {
      "cell_type": "code",
      "source": [
        "class PrimeGenerator:\n",
        "    # You may modify the __init__() method if necessary, but you don't need to change its arguments\n",
        "    def __init__(self, stop):\n",
        "        self.stop = stop    # stop defines the range (exclusive upper bound) in which we search for the primes\n",
        "        self.start = 0\n",
        "    \n",
        "    def __next__(self):\n",
        "      for n in range(self.start, self.stop):\n",
        "        for x in range (2, n):\n",
        "          if n % x ==0:\n",
        "            break\n",
        "        else:\n",
        "          self.start = n+1\n",
        "          return n\n",
        "      raise StopIteration()"
      ],
      "metadata": {
        "id": "4Cq360BLu4hw"
      },
      "execution_count": null,
      "outputs": []
    },
    {
      "cell_type": "code",
      "source": [
        "g = PrimeGenerator(10)"
      ],
      "metadata": {
        "id": "ndNaHY4AvOtN"
      },
      "execution_count": null,
      "outputs": []
    },
    {
      "cell_type": "code",
      "source": [
        "print(next(g))"
      ],
      "metadata": {
        "colab": {
          "base_uri": "https://localhost:8080/"
        },
        "id": "s3U7aKuyvexs",
        "outputId": "53f05e4d-64ac-48eb-8ed8-f451f04ba43e"
      },
      "execution_count": null,
      "outputs": [
        {
          "output_type": "stream",
          "name": "stdout",
          "text": [
            "0\n"
          ]
        }
      ]
    },
    {
      "cell_type": "code",
      "source": [
        "my_numbers = [x for x in [1, 2, 3, 4, 5]] #list comprehension\n",
        "my_numbers_gen = (x for x in [1, 2, 3, 4, 5]) #generator comprehension"
      ],
      "metadata": {
        "id": "7xydCgIhvqM4"
      },
      "execution_count": null,
      "outputs": []
    },
    {
      "cell_type": "code",
      "source": [
        "print(my_numbers)"
      ],
      "metadata": {
        "colab": {
          "base_uri": "https://localhost:8080/"
        },
        "id": "rVo5YvXkYCDA",
        "outputId": "b89cec06-40ba-4818-b07b-72ff87411e75"
      },
      "execution_count": null,
      "outputs": [
        {
          "output_type": "stream",
          "name": "stdout",
          "text": [
            "[1, 2, 3, 4, 5]\n"
          ]
        }
      ]
    },
    {
      "cell_type": "code",
      "source": [
        "try:\n",
        "  print(next(my_numbers_gen))\n",
        "except:\n",
        "  pass"
      ],
      "metadata": {
        "id": "T3qCHJIcYFoD",
        "colab": {
          "base_uri": "https://localhost:8080/"
        },
        "outputId": "0279a7c2-33f9-4a3d-aad5-190b11e1704c"
      },
      "execution_count": null,
      "outputs": [
        {
          "output_type": "stream",
          "name": "stdout",
          "text": [
            "1\n"
          ]
        }
      ]
    },
    {
      "cell_type": "markdown",
      "source": [
        "### Filter() function"
      ],
      "metadata": {
        "id": "nRSOQY_sY55l"
      }
    },
    {
      "cell_type": "code",
      "source": [
        "string = 'Peter'\n",
        "# newString = string.lower()\n",
        "if (string.lower()).startswith('p'):\n",
        "  print(True)"
      ],
      "metadata": {
        "colab": {
          "base_uri": "https://localhost:8080/"
        },
        "id": "Rl-_suL-Z3HN",
        "outputId": "b35fb95e-28f9-40f9-b061-9e8a915469f6"
      },
      "execution_count": null,
      "outputs": [
        {
          "output_type": "stream",
          "name": "stdout",
          "text": [
            "True\n"
          ]
        }
      ]
    },
    {
      "cell_type": "code",
      "source": [
        "def starts_with_r(friend):\n",
        "  friend = friend.lower()\n",
        "  return friend.startswith('r')\n",
        "\n",
        "friends = ['Rolf', 'Jose', 'Randy', 'Anna', 'Mary']\n",
        "start_with_r = filter(starts_with_r, friends) # arg1: function that returns True/False, arg2: iterable\n",
        "start_with_r_lamda = filter(lambda x: x.startswith('R'), friends)#uses a lambda function\n",
        "start_with_r_gen_comprehension = (f for f in friends if f.startswith('R')) #generator comprehension"
      ],
      "metadata": {
        "id": "5NL4u2PdY5bP"
      },
      "execution_count": null,
      "outputs": []
    },
    {
      "cell_type": "code",
      "source": [
        "for name in start_with_r_gen_comprehension:\n",
        "  print(name)"
      ],
      "metadata": {
        "colab": {
          "base_uri": "https://localhost:8080/"
        },
        "id": "SbX_NzEqa1hi",
        "outputId": "f75cd6e6-5442-49ab-ea15-ca6061e4f153"
      },
      "execution_count": null,
      "outputs": [
        {
          "output_type": "stream",
          "name": "stdout",
          "text": [
            "Rolf\n",
            "Randy\n"
          ]
        }
      ]
    },
    {
      "cell_type": "code",
      "source": [
        "print(list(start_with_r))"
      ],
      "metadata": {
        "colab": {
          "base_uri": "https://localhost:8080/"
        },
        "id": "eUt6YU_zbYx7",
        "outputId": "7a4292ee-13ae-4fc7-add4-5fd14f168ba0"
      },
      "execution_count": null,
      "outputs": [
        {
          "output_type": "stream",
          "name": "stdout",
          "text": [
            "['Rolf', 'Randy']\n"
          ]
        }
      ]
    },
    {
      "cell_type": "markdown",
      "source": [
        "# Beautiful Soup 4"
      ],
      "metadata": {
        "id": "T1dZrrdgyo2m"
      }
    },
    {
      "cell_type": "code",
      "source": [
        "from bs4 import BeautifulSoup as bs"
      ],
      "metadata": {
        "id": "0_6D1ZYBysGC"
      },
      "execution_count": null,
      "outputs": []
    },
    {
      "cell_type": "code",
      "source": [
        "SIMPLE_HTML ='''<html>\n",
        "<head></head>\n",
        "<body>\n",
        "<h1>This is a title</h1>\n",
        "<p class=\"subtitle\">Lorem ipsum dolor sit amet. Consectetur edipiscim elit.</p>\n",
        "<p>Here's another p without a class</p>\n",
        "<ul>\n",
        "  <li>Rolf</li>\n",
        "  <li>Charlie</li>\n",
        "  <li>Jen</li>\n",
        "  <li>Jose</li>\n",
        "</ul>\n",
        "</body>\n",
        "</html>'''"
      ],
      "metadata": {
        "id": "lqxUE14VznkR"
      },
      "execution_count": null,
      "outputs": []
    },
    {
      "cell_type": "code",
      "source": [
        "simple_soup = bs(SIMPLE_HTML, 'html.parser')"
      ],
      "metadata": {
        "id": "FQNchAIZ6Z--"
      },
      "execution_count": null,
      "outputs": []
    },
    {
      "cell_type": "code",
      "source": [
        "print(simple_soup.find('h1'))"
      ],
      "metadata": {
        "colab": {
          "base_uri": "https://localhost:8080/"
        },
        "id": "IF8k8jKC60fE",
        "outputId": "192eea61-ab50-4c32-9a6f-0cbf80699a95"
      },
      "execution_count": null,
      "outputs": [
        {
          "output_type": "stream",
          "name": "stdout",
          "text": [
            "<h1>This is a title</h1>\n"
          ]
        }
      ]
    },
    {
      "cell_type": "code",
      "source": [
        "print(simple_soup.find('h1').string)"
      ],
      "metadata": {
        "colab": {
          "base_uri": "https://localhost:8080/"
        },
        "id": "17SH4kfz7OiE",
        "outputId": "a09c1290-8d3a-4209-b9ff-d0f7cf82cb09"
      },
      "execution_count": null,
      "outputs": [
        {
          "output_type": "stream",
          "name": "stdout",
          "text": [
            "This is a title\n"
          ]
        }
      ]
    },
    {
      "cell_type": "code",
      "source": [
        "def find_list_items():\n",
        "  list_items = simple_soup.find_all('li')\n",
        "  list_contents = [e.string for e in list_items]\n",
        "  return list_contents"
      ],
      "metadata": {
        "id": "d36uIt277sPt"
      },
      "execution_count": null,
      "outputs": []
    },
    {
      "cell_type": "code",
      "source": [
        "def find_subtitle():\n",
        "  paragraph = simple_soup.find('p', {'class': 'subtitle'})\n",
        "  paragraph = paragraph.string\n",
        "  return paragraph"
      ],
      "metadata": {
        "id": "xxp2d5eu_cjA"
      },
      "execution_count": null,
      "outputs": []
    },
    {
      "cell_type": "code",
      "source": [
        "print(find_subtitle())"
      ],
      "metadata": {
        "colab": {
          "base_uri": "https://localhost:8080/"
        },
        "id": "IUWe_1n0_cWf",
        "outputId": "ed37d23c-1c05-4008-8526-c8d3d5428987"
      },
      "execution_count": null,
      "outputs": [
        {
          "output_type": "stream",
          "name": "stdout",
          "text": [
            "Lorem ipsum dolor sit amet. Consectetur edipiscim elit.\n"
          ]
        }
      ]
    },
    {
      "cell_type": "code",
      "source": [
        "def find_other_paragraphs():\n",
        "  paragraphs = simple_soup.find_all('p')\n",
        "  print(type(paragraphs))\n",
        "  other_paragraph = [p for p in paragraphs if 'subtitle' not in p.attrs.get('class', [])]\n",
        "  print(type(other_paragraph[0]))\n",
        "  print(other_paragraph[0].string)"
      ],
      "metadata": {
        "id": "wNWZjTfo87o_"
      },
      "execution_count": null,
      "outputs": []
    },
    {
      "cell_type": "code",
      "source": [
        "find_other_paragraphs()"
      ],
      "metadata": {
        "colab": {
          "base_uri": "https://localhost:8080/"
        },
        "id": "_Y4tVFQ3BtZU",
        "outputId": "7eb44275-b128-4dd1-9d13-3a7f59af12d7"
      },
      "execution_count": null,
      "outputs": [
        {
          "output_type": "stream",
          "name": "stdout",
          "text": [
            "<class 'bs4.element.ResultSet'>\n",
            "<class 'bs4.element.Tag'>\n",
            "Here's another p without a class\n"
          ]
        }
      ]
    },
    {
      "cell_type": "code",
      "source": [],
      "metadata": {
        "id": "mJQmQ0fJUxSw"
      },
      "execution_count": null,
      "outputs": []
    },
    {
      "cell_type": "code",
      "source": [
        "ITEM_HTML = '''<html><head></head><body>\n",
        "<li class=\"col-xs-6 col-sm-4 col-md-3 col-lg-3\">\n",
        "    <article class=\"product_pod\">\n",
        "            <div class=\"image_container\">\n",
        "                    <a href=\"catalogue/a-light-in-the-attic_1000/index.html\"><img src=\"media/cache/2c/da/2cdad67c44b002e7ead0cc35693c0e8b.jpg\" alt=\"A Light in the Attic\" class=\"thumbnail\"></a>\n",
        "            </div>\n",
        "            <p class=\"star-rating Three\">\n",
        "                    <i class=\"icon-star\"></i>\n",
        "                    <i class=\"icon-star\"></i>\n",
        "                    <i class=\"icon-star\"></i>\n",
        "                    <i class=\"icon-star\"></i>\n",
        "                    <i class=\"icon-star\"></i>\n",
        "            </p>\n",
        "            <h3><a href=\"catalogue/a-light-in-the-attic_1000/index.html\" title=\"A Light in the Attic\">A Light in the ...</a></h3>\n",
        "            <div class=\"product_price\">\n",
        "        <p class=\"price_color\">$51.77</p>\n",
        "<p class=\"instock availability\">\n",
        "    <i class=\"icon-ok\"></i>\n",
        "        In stock\n",
        "</p>\n",
        "    <form>\n",
        "        <button type=\"submit\" class=\"btn btn-primary btn-block\" data-loading-text=\"Adding...\">Add to basket</button>\n",
        "    </form>\n",
        "            </div>\n",
        "    </article>\n",
        "</li>\n",
        "</body></html>\n",
        "'''"
      ],
      "metadata": {
        "id": "SooFW8UHCDhb"
      },
      "execution_count": null,
      "outputs": []
    },
    {
      "cell_type": "code",
      "source": [
        "soup = bs(ITEM_HTML, 'html.parser')"
      ],
      "metadata": {
        "id": "b2n2ahRzkcq1"
      },
      "execution_count": null,
      "outputs": []
    },
    {
      "cell_type": "code",
      "source": [
        "from bs4 import BeautifulSoup as bs\n",
        "\n",
        "class ParsedItem:\n",
        "  '''\n",
        "A class to take in an HTML page (or part of it), and find properties of an item in it.\n",
        "  '''\n",
        "  def __init__(self, page):\n",
        "    self.soup = bs(page, 'html.parser')\n",
        "\n",
        "  @property\n",
        "  def name(self):\n",
        "    locator = 'article.product_pod h3 a' #CSS locator\n",
        "    item_link = self.soup.select_one(locator)\n",
        "    item_name = item_link.attrs['title']\n",
        "    return item_name\n",
        "\n",
        "  @property\n",
        "  def link(self):\n",
        "    locator = 'article.product_pod h3 a' #CSS locator\n",
        "    item_link = self.soup.select_one(locator).attrs['href']\n",
        "    return item_link\n",
        "\n",
        "  @property\n",
        "  def price(self):\n",
        "    locator = 'article.product_pod div p.price_color'\n",
        "    item_link= self.soup.select_one(locator)\n",
        "    item = float((item_link).string.strip('$'))\n",
        "    return item\n",
        "\n",
        "  @property\n",
        "  def rating(self):\n",
        "    locator = 'article.product_pod p.star-rating'\n",
        "    star_rating_tag = self.soup.select_one(locator)\n",
        "    classes = star_rating_tag.attrs['class']\n",
        "    rating_classes = [r for r in classes if r != 'star-rating']\n",
        "    return rating_classes[0]"
      ],
      "metadata": {
        "id": "0kdOlwgBk6nh"
      },
      "execution_count": null,
      "outputs": []
    },
    {
      "cell_type": "code",
      "source": [
        "item = ParsedItem(ITEM_HTML)\n",
        "print(item.rating)"
      ],
      "metadata": {
        "colab": {
          "base_uri": "https://localhost:8080/"
        },
        "id": "7x8lgf07p1cK",
        "outputId": "83b9b071-c0ec-451f-b114-3098a78670b4"
      },
      "execution_count": null,
      "outputs": [
        {
          "output_type": "stream",
          "name": "stdout",
          "text": [
            "Three\n"
          ]
        }
      ]
    },
    {
      "cell_type": "markdown",
      "source": [
        "## More python basics"
      ],
      "metadata": {
        "id": "9hpIZDcRX6H8"
      }
    },
    {
      "cell_type": "code",
      "source": [
        "num = '$45'\n",
        "num.strip('$')"
      ],
      "metadata": {
        "colab": {
          "base_uri": "https://localhost:8080/",
          "height": 35
        },
        "id": "Mw1zO2msqZXD",
        "outputId": "aa8c34b9-6bf0-4de7-994a-23897cf1b917"
      },
      "execution_count": null,
      "outputs": [
        {
          "output_type": "execute_result",
          "data": {
            "text/plain": [
              "'45'"
            ],
            "application/vnd.google.colaboratory.intrinsic+json": {
              "type": "string"
            }
          },
          "metadata": {},
          "execution_count": 126
        }
      ]
    },
    {
      "cell_type": "code",
      "source": [
        "my_dict = {}\n",
        "my_dict['Jayden'] = 'My son'\n",
        "my_dict['Jamin'] = 'Araba\\'s first son'"
      ],
      "metadata": {
        "id": "U73neENGVu3M"
      },
      "execution_count": null,
      "outputs": []
    },
    {
      "cell_type": "code",
      "source": [
        "for k in my_dict.keys():\n",
        "   print('{} maps to {}'. format (k, my_dict[k]))"
      ],
      "metadata": {
        "colab": {
          "base_uri": "https://localhost:8080/"
        },
        "id": "nCt4XMFnWdqr",
        "outputId": "e9a43373-d17f-448c-bca1-6a3b4d783d60"
      },
      "execution_count": null,
      "outputs": [
        {
          "output_type": "stream",
          "name": "stdout",
          "text": [
            "Jayden maps to My son\n",
            "Jamin maps to Araba's first son\n"
          ]
        }
      ]
    },
    {
      "cell_type": "code",
      "source": [
        " user_input = input(\"What do you want to do: \")\n",
        "while user_input != 'q':\n",
        "    if user_input == 'p':\n",
        "        print('Hello')\n",
        "    user_input = input(\"What do you want to do: \")"
      ],
      "metadata": {
        "id": "ykfHKW7YWps0",
        "colab": {
          "base_uri": "https://localhost:8080/"
        },
        "outputId": "1924ea4e-dc77-4022-8e5b-816c160b28b4"
      },
      "execution_count": null,
      "outputs": [
        {
          "name": "stdout",
          "output_type": "stream",
          "text": [
            "What do you want to do: q\n"
          ]
        }
      ]
    },
    {
      "cell_type": "code",
      "source": [
        "friends = [('Jayden', 5), ('Jamin', 3), (('Danica', 3))]"
      ],
      "metadata": {
        "id": "fIhe-IfMsmnK"
      },
      "execution_count": null,
      "outputs": []
    },
    {
      "cell_type": "code",
      "source": [
        "for name, age in friends:\n",
        "  print (f'My name is {name} and I am {age} years old')"
      ],
      "metadata": {
        "id": "T1mn1mR1s628",
        "colab": {
          "base_uri": "https://localhost:8080/"
        },
        "outputId": "4e08d8e1-f175-41e1-9653-4dd2726ba07f"
      },
      "execution_count": null,
      "outputs": [
        {
          "output_type": "stream",
          "name": "stdout",
          "text": [
            "My name is Jayden and I am 5 years old\n",
            "My name is Jamin and I am 3 years old\n",
            "My name is Danica and I am 3 years old\n"
          ]
        }
      ]
    },
    {
      "cell_type": "code",
      "source": [
        "friends = {'Jayden': 3, 'Jamin': 2, 'Melvina': 7, 'Gerald': 9}"
      ],
      "metadata": {
        "id": "QJenDXWruB4L"
      },
      "execution_count": null,
      "outputs": []
    },
    {
      "cell_type": "code",
      "source": [
        "for name, age in friends.items():\n",
        "  print(f'I am {name} and I  am {age} years old')"
      ],
      "metadata": {
        "id": "UE4MEqQ0uW_H",
        "colab": {
          "base_uri": "https://localhost:8080/"
        },
        "outputId": "1fa33e32-4ecd-4472-8718-fa6d33e81442"
      },
      "execution_count": null,
      "outputs": [
        {
          "output_type": "stream",
          "name": "stdout",
          "text": [
            "I am Jayden and I  am 3 years old\n",
            "I am Jamin and I  am 2 years old\n",
            "I am Melvina and I  am 7 years old\n",
            "I am Gerald and I  am 9 years old\n"
          ]
        }
      ]
    },
    {
      "cell_type": "code",
      "source": [
        "for name in friends:\n",
        "  print(f'I am {name} and I  am {friends[name]} years old')"
      ],
      "metadata": {
        "colab": {
          "base_uri": "https://localhost:8080/"
        },
        "id": "_oYQxLJ6uvoz",
        "outputId": "35fba427-34f5-4b79-a078-1250c42b0f3b"
      },
      "execution_count": null,
      "outputs": [
        {
          "output_type": "stream",
          "name": "stdout",
          "text": [
            "I am Jayden and I  am 3 years old\n",
            "I am Jamin and I  am 2 years old\n",
            "I am Melvina and I  am 7 years old\n",
            "I am Gerald and I  am 9 years old\n"
          ]
        }
      ]
    },
    {
      "cell_type": "code",
      "source": [
        "3 in friends.values()"
      ],
      "metadata": {
        "colab": {
          "base_uri": "https://localhost:8080/"
        },
        "id": "2qzDHs2vvN6y",
        "outputId": "3bd81ef1-2b78-4f01-efb6-df1ccb47362b"
      },
      "execution_count": null,
      "outputs": [
        {
          "output_type": "execute_result",
          "data": {
            "text/plain": [
              "True"
            ]
          },
          "metadata": {},
          "execution_count": 135
        }
      ]
    },
    {
      "cell_type": "code",
      "source": [
        "#Fizzbuzz Game\n",
        "for i in range(1, 101):\n",
        "    if i % 3 == 0 and i % 5 == 0:\n",
        "        print('FizzBuzz')\n",
        "    elif i % 3 == 0:\n",
        "        print('Fizz')\n",
        "    elif i % 5 == 0:\n",
        "        print('Buzz')\n",
        "    else:\n",
        "        print(i)"
      ],
      "metadata": {
        "id": "KqhGmcFExsin"
      },
      "execution_count": null,
      "outputs": []
    },
    {
      "cell_type": "code",
      "source": [
        "#List comprehension\n",
        "numbers = range(5)\n",
        "numbers_doubled = [number * 3 for number in numbers]\n",
        "print(numbers_doubled)"
      ],
      "metadata": {
        "colab": {
          "base_uri": "https://localhost:8080/"
        },
        "id": "baD5KAevzUsQ",
        "outputId": "1668b717-677e-4c52-c34a-4ab48fb14bfe"
      },
      "execution_count": null,
      "outputs": [
        {
          "output_type": "stream",
          "name": "stdout",
          "text": [
            "[0, 3, 6, 9, 12]\n"
          ]
        }
      ]
    },
    {
      "cell_type": "code",
      "source": [
        "print(numbers)"
      ],
      "metadata": {
        "colab": {
          "base_uri": "https://localhost:8080/"
        },
        "id": "lF9CSAiT28BU",
        "outputId": "c45ab9e0-8b9b-43f5-f6f3-0b43935db865"
      },
      "execution_count": null,
      "outputs": [
        {
          "output_type": "stream",
          "name": "stdout",
          "text": [
            "range(0, 5)\n"
          ]
        }
      ]
    },
    {
      "cell_type": "code",
      "source": [
        "numbers = [1, 2, 3, 4, 5, 6, 7]\n",
        "names = ['Jayden', 'Melvina', 'Danica', 'Gerald', 'Jamin', 'Anaiah', 'Alethea']"
      ],
      "metadata": {
        "id": "i3avdGca_lCv"
      },
      "execution_count": null,
      "outputs": []
    },
    {
      "cell_type": "code",
      "source": [
        "new = (number for number in numbers if number%2 == 1)"
      ],
      "metadata": {
        "id": "wxOjw-4i9ZEL"
      },
      "execution_count": null,
      "outputs": []
    },
    {
      "cell_type": "code",
      "source": [
        "for _ in new:\n",
        "  print(_)"
      ],
      "metadata": {
        "id": "cSoXLbMF9jVW",
        "colab": {
          "base_uri": "https://localhost:8080/"
        },
        "outputId": "38525faf-6fc7-4000-c23e-8fff22bbd33c"
      },
      "execution_count": null,
      "outputs": [
        {
          "output_type": "stream",
          "name": "stdout",
          "text": [
            "1\n",
            "3\n",
            "5\n",
            "7\n"
          ]
        }
      ]
    },
    {
      "cell_type": "code",
      "source": [
        "print(new)"
      ],
      "metadata": {
        "colab": {
          "base_uri": "https://localhost:8080/"
        },
        "id": "SISDrW6g9j2T",
        "outputId": "aba8a04e-bb6b-47d5-d468-da105488d5d1"
      },
      "execution_count": null,
      "outputs": [
        {
          "output_type": "stream",
          "name": "stdout",
          "text": [
            "<generator object <genexpr> at 0x7fc779fe6ed0>\n"
          ]
        }
      ]
    },
    {
      "cell_type": "code",
      "source": [
        "type(new)"
      ],
      "metadata": {
        "id": "VzxXB5yh_SZ0",
        "colab": {
          "base_uri": "https://localhost:8080/"
        },
        "outputId": "74a8c81e-cd04-47dd-986b-e8efdf4879ef"
      },
      "execution_count": null,
      "outputs": [
        {
          "output_type": "execute_result",
          "data": {
            "text/plain": [
              "generator"
            ]
          },
          "metadata": {},
          "execution_count": 143
        }
      ]
    },
    {
      "cell_type": "code",
      "source": [
        "name_dict = {\n",
        "    names[i]:numbers[i] for i in range(len(numbers)) if numbers[i] <= 3\n",
        "}"
      ],
      "metadata": {
        "id": "DAv3j1Zx_ZwM"
      },
      "execution_count": null,
      "outputs": []
    },
    {
      "cell_type": "code",
      "source": [
        "jack = list(zip(names,numbers))"
      ],
      "metadata": {
        "id": "0lUzrLIVt9tc"
      },
      "execution_count": null,
      "outputs": []
    },
    {
      "cell_type": "code",
      "source": [
        "jack"
      ],
      "metadata": {
        "colab": {
          "base_uri": "https://localhost:8080/"
        },
        "id": "iQ-z2-SBuFWA",
        "outputId": "da9f0096-0e4c-4b63-cf25-e64219416cbf"
      },
      "execution_count": null,
      "outputs": [
        {
          "output_type": "execute_result",
          "data": {
            "text/plain": [
              "[('Jayden', 1),\n",
              " ('Melvina', 2),\n",
              " ('Danica', 3),\n",
              " ('Gerald', 4),\n",
              " ('Jamin', 5),\n",
              " ('Anaiah', 6),\n",
              " ('Alethea', 7)]"
            ]
          },
          "metadata": {},
          "execution_count": 146
        }
      ]
    },
    {
      "cell_type": "code",
      "source": [
        "def further_processing():\n",
        "  new1, new2, new3 = [], [],[]\n",
        "  for i in range(len(setup[1])):\n",
        "    if user_input[i] == setup[1][i] or user_input[i] == '.':\n",
        "        new1.append(user_input[i])\n",
        "  \n",
        "  for i in range(len(setup[2])):\n",
        "    if user_input[i] == setup[2][i] or user_input[i] == '.':\n",
        "        new2.append(user_input[i])\n",
        "      \n",
        "  for i in range(len(setup[3])):\n",
        "    if user_input[i] == setup[3][i] or user_input[i] == '.':\n",
        "        new3.append(user_input[i])\n",
        "\n",
        "  if len(new1) == len(user_input) or len(new2) == len(user_input) or len(new3) == len(user_input):\n",
        "    print('true')\n",
        "  else:\n",
        "    print('false')\n",
        "\n",
        "\n"
      ],
      "metadata": {
        "id": "444im2gUDsKU"
      },
      "execution_count": null,
      "outputs": []
    },
    {
      "cell_type": "code",
      "source": [
        "user_input = input('Enter a word: ')\n",
        "setup = ['foo', 'bar', 'baz']\n",
        "setup = dict(enumerate(setup, start = 1))\n",
        "if len(user_input) != 3:\n",
        "  print('False')\n",
        "elif len(user_input) == 3:\n",
        "  further_processing()\n",
        "else:\n",
        "  print('false')"
      ],
      "metadata": {
        "colab": {
          "base_uri": "https://localhost:8080/"
        },
        "id": "6vjLm5IHbj3K",
        "outputId": "967dce2a-897a-435c-d03b-db0921a939a0"
      },
      "execution_count": null,
      "outputs": [
        {
          "output_type": "stream",
          "name": "stdout",
          "text": [
            "Enter a word: f.z\n",
            "false\n"
          ]
        }
      ]
    },
    {
      "cell_type": "code",
      "source": [
        "l = [1,2,3]\n",
        "l_copy = l.copy()"
      ],
      "metadata": {
        "id": "TWpgEqnzjGJ4"
      },
      "execution_count": null,
      "outputs": []
    },
    {
      "cell_type": "code",
      "source": [
        "l_copy.reverse()"
      ],
      "metadata": {
        "id": "jr0IvVZ7ku-X"
      },
      "execution_count": null,
      "outputs": []
    },
    {
      "cell_type": "code",
      "source": [
        "print(l_copy)"
      ],
      "metadata": {
        "colab": {
          "base_uri": "https://localhost:8080/"
        },
        "id": "5I63SHKslA29",
        "outputId": "9db20e4c-2570-46d6-c7f6-13ad2964e70f"
      },
      "execution_count": null,
      "outputs": [
        {
          "output_type": "stream",
          "name": "stdout",
          "text": [
            "[3, 2, 1]\n"
          ]
        }
      ]
    },
    {
      "cell_type": "code",
      "source": [
        "something = reversed(l)"
      ],
      "metadata": {
        "id": "dXkRjeVLlUbS"
      },
      "execution_count": null,
      "outputs": []
    },
    {
      "cell_type": "code",
      "source": [
        "print(list(something))"
      ],
      "metadata": {
        "colab": {
          "base_uri": "https://localhost:8080/"
        },
        "id": "56sIpLRFmgPH",
        "outputId": "ff797245-d24e-40bd-d542-6ee5f304dede"
      },
      "execution_count": null,
      "outputs": [
        {
          "output_type": "stream",
          "name": "stdout",
          "text": [
            "[3, 2, 1]\n"
          ]
        }
      ]
    },
    {
      "cell_type": "code",
      "source": [
        "factorial = 1\n",
        "num = 5\n",
        "for num in range(1, 3+1):\n",
        "  factorial = factorial * num\n",
        "print(factorial)"
      ],
      "metadata": {
        "colab": {
          "base_uri": "https://localhost:8080/"
        },
        "id": "9886-D9vikMu",
        "outputId": "384fca09-f738-4d8f-ed62-0d87eeb599d0"
      },
      "execution_count": null,
      "outputs": [
        {
          "output_type": "stream",
          "name": "stdout",
          "text": [
            "6\n"
          ]
        }
      ]
    },
    {
      "cell_type": "code",
      "source": [
        "import random\n",
        "\n",
        "output = []\n",
        "input = [1,2,3]\n",
        "for i in range(factorial):\n",
        "  if random.shuffle(input) != input:\n",
        "     print (input)\n",
        "# input_reversed = input[:]\n",
        "# input_reversed.reverse()\n",
        "# output.extend([input, input_reversed])\n",
        "# for i in output:\n",
        "#   print(i)"
      ],
      "metadata": {
        "colab": {
          "base_uri": "https://localhost:8080/"
        },
        "id": "s3gnoxETmhZS",
        "outputId": "a7b74f1c-c783-4889-8534-2fc8b3b7f46a"
      },
      "execution_count": null,
      "outputs": [
        {
          "output_type": "stream",
          "name": "stdout",
          "text": [
            "[3, 2, 1]\n",
            "[2, 3, 1]\n",
            "[3, 2, 1]\n",
            "[1, 2, 3]\n",
            "[2, 1, 3]\n",
            "[1, 3, 2]\n"
          ]
        }
      ]
    },
    {
      "cell_type": "code",
      "source": [
        "print(random.shuffle(list(range(5))))"
      ],
      "metadata": {
        "colab": {
          "base_uri": "https://localhost:8080/"
        },
        "id": "PSQizWJSnTXy",
        "outputId": "7233e677-bfb8-46fd-b953-531901880892"
      },
      "execution_count": null,
      "outputs": [
        {
          "output_type": "stream",
          "name": "stdout",
          "text": [
            "None\n"
          ]
        }
      ]
    },
    {
      "cell_type": "code",
      "source": [
        "l = list(range(5))\n",
        "print(l)\n",
        "# [0, 1, 2, 3, 4]\n",
        "\n",
        "random.shuffle(list(range(5)))\n",
        "print(l)"
      ],
      "metadata": {
        "colab": {
          "base_uri": "https://localhost:8080/"
        },
        "id": "2l47cKewnU2m",
        "outputId": "85d67c90-cc8a-40bb-c700-c7517273e325"
      },
      "execution_count": null,
      "outputs": [
        {
          "output_type": "stream",
          "name": "stdout",
          "text": [
            "[0, 1, 2, 3, 4]\n",
            "[0, 1, 2, 3, 4]\n"
          ]
        }
      ]
    },
    {
      "cell_type": "code",
      "source": [
        "friends"
      ],
      "metadata": {
        "id": "9tJmy5HfrRAw",
        "colab": {
          "base_uri": "https://localhost:8080/"
        },
        "outputId": "780360b6-7cf8-42a6-e9f9-2dc0f856e577"
      },
      "execution_count": null,
      "outputs": [
        {
          "output_type": "execute_result",
          "data": {
            "text/plain": [
              "{'Jayden': 3, 'Jamin': 2, 'Melvina': 7, 'Gerald': 9}"
            ]
          },
          "metadata": {},
          "execution_count": 158
        }
      ]
    },
    {
      "cell_type": "code",
      "source": [
        "wofase = list(friends.keys())"
      ],
      "metadata": {
        "id": "ximWCfytY7F4"
      },
      "execution_count": null,
      "outputs": []
    },
    {
      "cell_type": "code",
      "source": [
        "wofase.extend(['Danica', 'Anaiah', 'Othniel'])"
      ],
      "metadata": {
        "id": "VK2pl8ndZSsY"
      },
      "execution_count": null,
      "outputs": []
    },
    {
      "cell_type": "code",
      "source": [
        "numbers "
      ],
      "metadata": {
        "colab": {
          "base_uri": "https://localhost:8080/"
        },
        "id": "nqWAjAxHZXMl",
        "outputId": "ac674e06-283c-4949-b541-86abbdc98268"
      },
      "execution_count": null,
      "outputs": [
        {
          "output_type": "execute_result",
          "data": {
            "text/plain": [
              "[1, 2, 3, 4, 5, 6, 7]"
            ]
          },
          "metadata": {},
          "execution_count": 161
        }
      ]
    },
    {
      "cell_type": "code",
      "source": [
        "new_zip = zip(wofase, numbers)"
      ],
      "metadata": {
        "id": "_pzcBMPjZg4u"
      },
      "execution_count": null,
      "outputs": []
    },
    {
      "cell_type": "code",
      "source": [
        "newzip = dict(enumerate(wofase))"
      ],
      "metadata": {
        "id": "FeC0T8EYZxhM"
      },
      "execution_count": null,
      "outputs": []
    },
    {
      "cell_type": "code",
      "source": [
        "newzip"
      ],
      "metadata": {
        "colab": {
          "base_uri": "https://localhost:8080/"
        },
        "id": "dbMBt90UaAdb",
        "outputId": "6cd66edb-1e5d-4697-add0-d221b3c4feeb"
      },
      "execution_count": null,
      "outputs": [
        {
          "output_type": "execute_result",
          "data": {
            "text/plain": [
              "{0: 'Jayden',\n",
              " 1: 'Jamin',\n",
              " 2: 'Melvina',\n",
              " 3: 'Gerald',\n",
              " 4: 'Danica',\n",
              " 5: 'Anaiah',\n",
              " 6: 'Othniel'}"
            ]
          },
          "metadata": {},
          "execution_count": 164
        }
      ]
    },
    {
      "cell_type": "code",
      "source": [
        "players = [\n",
        "    {'name': 'Rolf', 'numbers': {1, 3, 5, 7, 9, 11}},\n",
        "    {'name': 'Charlie', 'numbers': {2, 7, 9, 22, 10, 5}},\n",
        "    {'name': 'Anna', 'numbers': {13, 14, 15, 16, 17, 18}},\n",
        "    {'name': 'Jen', 'numbers': {19, 20, 12, 7, 3, 5}}\n",
        "]"
      ],
      "metadata": {
        "id": "me08PYhXatUz"
      },
      "execution_count": null,
      "outputs": []
    },
    {
      "cell_type": "code",
      "source": [
        "i = 0\n",
        "for player in players:\n",
        "  print(players[i]['numbers'])\n",
        "  i += 1"
      ],
      "metadata": {
        "colab": {
          "base_uri": "https://localhost:8080/"
        },
        "id": "MuFxAH2AfYZ-",
        "outputId": "71487d5c-e2e8-4fed-e3dd-9c41ae60bc8e"
      },
      "execution_count": null,
      "outputs": [
        {
          "output_type": "stream",
          "name": "stdout",
          "text": [
            "{1, 3, 5, 7, 9, 11}\n",
            "{2, 5, 7, 9, 10, 22}\n",
            "{13, 14, 15, 16, 17, 18}\n",
            "{3, 5, 7, 12, 19, 20}\n"
          ]
        }
      ]
    },
    {
      "cell_type": "code",
      "source": [
        "import random\n",
        "\n",
        "# This line creates a set with 6 random numbers\n",
        "lottery_numbers = set(random.sample(range(22), 6))\n",
        "\n",
        "# Here are your players; find out who has the most numbers matching lottery_numbers!\n",
        "players = [\n",
        "    {'name': 'Rolf', 'numbers': {1, 3, 5, 7, 9, 11}},\n",
        "    {'name': 'Charlie', 'numbers': {2, 7, 9, 22, 10, 5}},\n",
        "    {'name': 'Anna', 'numbers': {13, 14, 15, 16, 17, 18}},\n",
        "    {'name': 'Jen', 'numbers': {19, 20, 12, 7, 3, 5}}\n",
        "]\n",
        "\n",
        "intersections = []\n",
        "player_names = []\n",
        "for player in players:\n",
        "    result = len(lottery_numbers.intersection(player['numbers']))\n",
        "    intersections.append(result)\n",
        "    player_names.append(player['name'])\n",
        "\n",
        "    \n",
        "lottery_outcome = dict(zip(player_names, intersections))\n",
        "for key, value in lottery_outcome.items():\n",
        "  # if value == max(lottery_outcome.values()):\n",
        "    print(f'{key} won {100**value}')"
      ],
      "metadata": {
        "colab": {
          "base_uri": "https://localhost:8080/"
        },
        "id": "zeSqf0kQfcdA",
        "outputId": "3e7d17e7-f5f4-43ef-c7fb-dd88f70d5547"
      },
      "execution_count": null,
      "outputs": [
        {
          "output_type": "stream",
          "name": "stdout",
          "text": [
            "Rolf won 10000\n",
            "Charlie won 100000000\n",
            "Anna won 100\n",
            "Jen won 100\n"
          ]
        }
      ]
    },
    {
      "cell_type": "code",
      "source": [
        "# player_names = players[2]['name']\n",
        "# print(max(lottery_outcome, key= lottery_outcome.get)) #returns the key for the max value\n",
        "\n",
        "for key, value in lottery_outcome.items():\n",
        "  if value == max(lottery_outcome.values()):\n",
        "    print(key)\n",
        "\n"
      ],
      "metadata": {
        "colab": {
          "base_uri": "https://localhost:8080/"
        },
        "id": "Vs2ZlQi-h05j",
        "outputId": "ecfb21ba-167e-4010-c5fb-c9b013844dd8"
      },
      "execution_count": null,
      "outputs": [
        {
          "output_type": "stream",
          "name": "stdout",
          "text": [
            "Charlie\n"
          ]
        }
      ]
    },
    {
      "cell_type": "code",
      "source": [
        "lottery_outcome"
      ],
      "metadata": {
        "colab": {
          "base_uri": "https://localhost:8080/"
        },
        "id": "sjQZaIjDh2Lp",
        "outputId": "eb7512ee-461f-48ec-c3b5-f955f2aa8a96"
      },
      "execution_count": null,
      "outputs": [
        {
          "output_type": "execute_result",
          "data": {
            "text/plain": [
              "{'Rolf': 2, 'Charlie': 4, 'Anna': 1, 'Jen': 1}"
            ]
          },
          "metadata": {},
          "execution_count": 169
        }
      ]
    },
    {
      "cell_type": "markdown",
      "source": [
        "## Lambda Functions"
      ],
      "metadata": {
        "id": "Jrlo59iaTIab"
      }
    },
    {
      "cell_type": "code",
      "source": [
        "div = lambda x,y: x/y"
      ],
      "metadata": {
        "id": "xtgoNe29lfro"
      },
      "execution_count": null,
      "outputs": []
    },
    {
      "cell_type": "code",
      "source": [
        "div(6,3)"
      ],
      "metadata": {
        "colab": {
          "base_uri": "https://localhost:8080/"
        },
        "id": "lKvvV5v9SWfA",
        "outputId": "bbcca353-da49-4d72-f941-091954ce1cf8"
      },
      "execution_count": null,
      "outputs": [
        {
          "output_type": "execute_result",
          "data": {
            "text/plain": [
              "2.0"
            ]
          },
          "metadata": {},
          "execution_count": 171
        }
      ]
    },
    {
      "cell_type": "code",
      "source": [
        "(lambda x,y: x/y)(6,3)"
      ],
      "metadata": {
        "colab": {
          "base_uri": "https://localhost:8080/"
        },
        "id": "MWHqArIqSeDD",
        "outputId": "406d1c0a-491a-4c96-c669-f9e058e663e6"
      },
      "execution_count": null,
      "outputs": [
        {
          "output_type": "execute_result",
          "data": {
            "text/plain": [
              "2.0"
            ]
          },
          "metadata": {},
          "execution_count": 172
        }
      ]
    },
    {
      "cell_type": "code",
      "source": [
        "numbers"
      ],
      "metadata": {
        "colab": {
          "base_uri": "https://localhost:8080/"
        },
        "id": "EOX1gjaLTZxj",
        "outputId": "438befad-87bb-460b-8019-b1f66cfdb66e"
      },
      "execution_count": null,
      "outputs": [
        {
          "output_type": "execute_result",
          "data": {
            "text/plain": [
              "[1, 2, 3, 4, 5, 6, 7]"
            ]
          },
          "metadata": {},
          "execution_count": 173
        }
      ]
    },
    {
      "cell_type": "code",
      "source": [
        "average = lambda sequence: sum(sequence)/len(sequence)"
      ],
      "metadata": {
        "id": "68vLahvLS5Qc"
      },
      "execution_count": null,
      "outputs": []
    },
    {
      "cell_type": "code",
      "source": [
        "average(numbers)"
      ],
      "metadata": {
        "colab": {
          "base_uri": "https://localhost:8080/"
        },
        "id": "L_hD8gpBTbDT",
        "outputId": "6f899567-fa87-4395-8119-a0d8b3a315f9"
      },
      "execution_count": null,
      "outputs": [
        {
          "output_type": "execute_result",
          "data": {
            "text/plain": [
              "4.0"
            ]
          },
          "metadata": {},
          "execution_count": 176
        }
      ]
    },
    {
      "cell_type": "code",
      "source": [
        "players = [{'name': 'Rolf', 'numbers': {1, 3, 5, 7, 9, 11}},\n",
        " {'name': 'Charlie', 'numbers': {2, 5, 7, 9, 10, 22}},\n",
        " {'name': 'Anna', 'numbers': {13, 14, 15, 16, 17, 18}},\n",
        " {'name': 'Jen', 'numbers': {3, 5, 7, 12, 19, 20}}]"
      ],
      "metadata": {
        "id": "t8bmtkuNU-uZ"
      },
      "execution_count": null,
      "outputs": []
    },
    {
      "cell_type": "code",
      "source": [
        "operations = {\n",
        "    'total' : sum,\n",
        "    'average' : lambda seq: sum(seq)/len(seq),\n",
        "    'top' : max\n",
        "}\n",
        "\n",
        "for player in players:\n",
        "  name = player['name']\n",
        "  number = player['numbers']\n",
        "\n",
        "  try:\n",
        "    print(f'Player: {name}')\n",
        "    operation = input(\"Enter 'average', 'top' or 'total': \")\n",
        "    operation_function = operations[operation]\n",
        "    print(operation_function(number))\n",
        "\n",
        "  except:\n",
        "      print('No such option available')\n"
      ],
      "metadata": {
        "colab": {
          "base_uri": "https://localhost:8080/"
        },
        "id": "3xb3C7dJX-Rh",
        "outputId": "30bbd045-464f-4250-f46e-f7c2518e6549"
      },
      "execution_count": null,
      "outputs": [
        {
          "output_type": "stream",
          "name": "stdout",
          "text": [
            "Player: Rolf\n",
            "Enter 'average', 'top' or 'total': total\n",
            "36\n",
            "Player: Charlie\n",
            "Enter 'average', 'top' or 'total': top\n",
            "22\n",
            "Player: Anna\n",
            "Enter 'average', 'top' or 'total': ns\n",
            "No such option available\n",
            "Player: Jen\n",
            "Enter 'average', 'top' or 'total': 2\n",
            "No such option available\n"
          ]
        }
      ]
    },
    {
      "cell_type": "code",
      "source": [
        "def over_age(data, getter):\n",
        "    return getter(data) >= 18\n",
        " \n",
        "user = { 'username': 'rolf123', 'age': '35' }\n",
        " \n",
        "print(over_age(user, lambda x: int(x['age'])))"
      ],
      "metadata": {
        "colab": {
          "base_uri": "https://localhost:8080/"
        },
        "id": "NDc-yt3ceH71",
        "outputId": "414b9250-b76d-47c1-c95b-1236a838e041"
      },
      "execution_count": null,
      "outputs": [
        {
          "output_type": "stream",
          "name": "stdout",
          "text": [
            "True\n"
          ]
        }
      ]
    },
    {
      "cell_type": "markdown",
      "source": [
        "##Sorting Algorithms"
      ],
      "metadata": {
        "id": "wbyqgH_2dhy_"
      }
    },
    {
      "cell_type": "code",
      "source": [
        "array = [8, 2, 4, 6, 5,]"
      ],
      "metadata": {
        "id": "hnWaTeN5dayB"
      },
      "execution_count": null,
      "outputs": []
    },
    {
      "cell_type": "code",
      "source": [
        "array_sorted = sorted(array)"
      ],
      "metadata": {
        "id": "87-S0j8pdeQ-"
      },
      "execution_count": null,
      "outputs": []
    },
    {
      "cell_type": "code",
      "source": [
        "array_sorted"
      ],
      "metadata": {
        "colab": {
          "base_uri": "https://localhost:8080/"
        },
        "id": "sviF45UadfAY",
        "outputId": "0547379a-094c-4051-f76c-60613a3af21e"
      },
      "execution_count": null,
      "outputs": [
        {
          "output_type": "execute_result",
          "data": {
            "text/plain": [
              "[2, 4, 5, 6, 8]"
            ]
          },
          "metadata": {},
          "execution_count": 4
        }
      ]
    },
    {
      "cell_type": "code",
      "source": [
        "import pandas as pd"
      ],
      "metadata": {
        "id": "RlVcR3kqdxce"
      },
      "execution_count": null,
      "outputs": []
    },
    {
      "cell_type": "code",
      "source": [
        "def menu_a():\n",
        "  title = input(\"Enter the movie title: \")\n",
        "  director = input(\"Enter the movie director: \")\n",
        "  year = input(\"Enter the movie release year: \")\n",
        "\n",
        "  movies.append({'Title': title.title(), 'Director': director.title(), 'Year': year})\n",
        "\n",
        "\n",
        "def menu_l():\n",
        "  if  len(movies) == 0:\n",
        "    print('No movies in collection')\n",
        "  else:\n",
        "    print(pd.DataFrame(movies))\n",
        "\n",
        "def menu_f():\n",
        "  find_movie = (input('Enter the movie title to find: ')).lower()\n",
        "  for movie in movies:\n",
        "    movie_title = (movie['Title']).lower()\n",
        "    if movie_title == find_movie:\n",
        "      print(movie)\n",
        "    else:\n",
        "      print('Sorry, movie not in collection.')\n"
      ],
      "metadata": {
        "id": "4H14XNHMsog1"
      },
      "execution_count": null,
      "outputs": []
    },
    {
      "cell_type": "code",
      "source": [
        "menu_prompt = \"\\nEnter 'a' to add a movie, 'l' to see your movies, 'f' to find a movie by title, or 'q' to quit: \"\n",
        "movies = []\n",
        "\n",
        "selection = input(menu_prompt)\n",
        "\n",
        "user_options = {\n",
        "    'a' : menu_a,\n",
        "    'l' : menu_l,\n",
        "    'f': menu_f\n",
        "}\n",
        "\n",
        "while selection != 'q':\n",
        "  if selection in user_options:\n",
        "    selected_function = user_options[selection]\n",
        "    selected_function()\n",
        "  else:\n",
        "     print('Unknown command. Please try again.')\n",
        "\n",
        "  selection = input(menu_prompt)"
      ],
      "metadata": {
        "id": "ylaw2vcEqkf_"
      },
      "execution_count": null,
      "outputs": []
    },
    {
      "cell_type": "code",
      "source": [
        "import time\n",
        "def measure_runtime(func):\n",
        "  start = time.time()\n",
        "  func()\n",
        "  end = time.time()\n",
        "  runtime = end - start\n",
        "  print(f'The runtime is {runtime} seconds')"
      ],
      "metadata": {
        "id": "jz2gi28W18jc"
      },
      "execution_count": 93,
      "outputs": []
    },
    {
      "cell_type": "code",
      "source": [
        "from typing import List\n",
        "import math\n",
        "def getMaxAdditionalDinersCount(N: int, K: int, M: int, S: List[int]) -> int:\n",
        "    S.sort()\n",
        "    print(S)\n",
        "    start, res = 1, 0\n",
        "    S.append(N+K+1)\n",
        "    print(S)\n",
        "    for s in S:\n",
        "        delta = s-K-start\n",
        "        print(f' delta {delta}')\n",
        "        if delta > 0: \n",
        "            res += math.ceil(delta / (K+1))\n",
        "        start = s+K+1\n",
        "    return res"
      ],
      "metadata": {
        "id": "TJlWFEJ_6BTe"
      },
      "execution_count": null,
      "outputs": []
    },
    {
      "cell_type": "code",
      "source": [
        "measure_runtime(lambda: getMaxAdditionalDinersCount(1000, 5, 3, [2, 4, 7]))"
      ],
      "metadata": {
        "colab": {
          "base_uri": "https://localhost:8080/"
        },
        "id": "i8qxk_9b2Sc7",
        "outputId": "5c70acff-f165-4d9f-e80e-9fa0acef6786"
      },
      "execution_count": 100,
      "outputs": [
        {
          "output_type": "stream",
          "name": "stdout",
          "text": [
            "The runtime is 1.3589859008789062e-05 seconds\n"
          ]
        }
      ]
    },
    {
      "cell_type": "code",
      "source": [
        "getMaxAdditionalDinersCount(10, 1, 2, [2, 6])"
      ],
      "metadata": {
        "colab": {
          "base_uri": "https://localhost:8080/"
        },
        "id": "Gsxt_BW3C7LC",
        "outputId": "c9c930f1-0cb5-4745-dd6e-3cfae8586ac4"
      },
      "execution_count": null,
      "outputs": [
        {
          "output_type": "stream",
          "name": "stdout",
          "text": [
            "[2, 6]\n",
            "[2, 6, 12]\n",
            " delta 0\n",
            " delta 1\n",
            " delta 3\n"
          ]
        },
        {
          "output_type": "execute_result",
          "data": {
            "text/plain": [
              "3"
            ]
          },
          "metadata": {},
          "execution_count": 54
        }
      ]
    },
    {
      "cell_type": "code",
      "source": [
        "from typing import List\n",
        "import math\n",
        "# Write any import statements here\n",
        "\n",
        "def getMaxAdditionalDinersCount(N: int, K: int, M: int, S: List[int]) -> int:\n",
        "  S.sort()\n",
        "  start, res = 1, 0\n",
        "  S.append(N+K+1)\n",
        "  for s in S:\n",
        "    delta = s-K-start\n",
        "    if delta > 0: \n",
        "      res += math.ceil(delta / (K+1))\n",
        "      start = s+K+1\n",
        "  return res"
      ],
      "metadata": {
        "id": "m7tkCrIdCvbo"
      },
      "execution_count": 85,
      "outputs": []
    },
    {
      "cell_type": "code",
      "source": [
        "getMaxAdditionalDinersCount(10, 1, 2, [2, 6])"
      ],
      "metadata": {
        "colab": {
          "base_uri": "https://localhost:8080/"
        },
        "id": "j8NYZ20X6GYM",
        "outputId": "e2741fb7-e31f-4355-c9c0-1760b63371ea"
      },
      "execution_count": null,
      "outputs": [
        {
          "output_type": "execute_result",
          "data": {
            "text/plain": [
              "4"
            ]
          },
          "metadata": {},
          "execution_count": 52
        }
      ]
    },
    {
      "cell_type": "code",
      "source": [
        "from typing import List\n",
        "# Write any import statements here\n",
        "\n",
        "def getMaximumEatenDishCount(N: int, D: List[int], K: int) -> int:\n",
        "  # Write your code here\n",
        "  \n",
        "  index = 1\n",
        "  new_D = D[1:]\n",
        "  for i in new_D:\n",
        "    eaten = []\n",
        "    if (index - K) > 0:\n",
        "      start = index - K\n",
        "    else:\n",
        "      start = 0\n",
        "    eaten = D[start: index]\n",
        "    print(f'eaten: {eaten} start: {start} index: {index} i: {i}' )\n",
        "    if (i in eaten) == True:\n",
        "      N = N-1\n",
        "    index += 1\n",
        "  \n",
        "  return N"
      ],
      "metadata": {
        "id": "h05Fko3r_YTo"
      },
      "execution_count": null,
      "outputs": []
    },
    {
      "cell_type": "code",
      "source": [
        "def getMaximumEatenDishCount(N: int, D: List[int], K: int) -> int:\n",
        "  # Write your code here\n",
        "  window = {}\n",
        "  eaten_counter = 0\n",
        "  \n",
        "  for i in range(N):\n",
        "    \n",
        "    if not D[i] in window or (eaten_counter - window[D[i]]) > K:\n",
        "      window[D[i]] = eaten_counter\n",
        "      \n",
        "      print(window)\n",
        "      eaten_counter += 1\n",
        "  return eaten_counter"
      ],
      "metadata": {
        "id": "nhUyTyhdhVcG"
      },
      "execution_count": null,
      "outputs": []
    },
    {
      "cell_type": "code",
      "source": [
        "getMaximumEatenDishCount(6, [1, 2, 3, 3, 2, 1], 2)"
      ],
      "metadata": {
        "id": "c1kepMluRko6"
      },
      "execution_count": null,
      "outputs": []
    },
    {
      "cell_type": "code",
      "source": [
        "getMaximumEatenDishCount(6, [1, 2, 3, 3, 2, 1], 2)"
      ],
      "metadata": {
        "colab": {
          "base_uri": "https://localhost:8080/"
        },
        "id": "tudytBCFeD28",
        "outputId": "4b618992-0f3f-4f06-d75c-accac8258034"
      },
      "execution_count": null,
      "outputs": [
        {
          "output_type": "execute_result",
          "data": {
            "text/plain": [
              "4"
            ]
          },
          "metadata": {},
          "execution_count": 161
        }
      ]
    },
    {
      "cell_type": "code",
      "source": [
        "getMaximumEatenDishCount(7, [1, 2, 1, 2, 1, 2, 1],2)"
      ],
      "metadata": {
        "colab": {
          "base_uri": "https://localhost:8080/"
        },
        "id": "V1DBHbIJd5TB",
        "outputId": "aaef2e85-b9c0-47c8-90b6-588eb0cccda1"
      },
      "execution_count": null,
      "outputs": [
        {
          "output_type": "stream",
          "name": "stdout",
          "text": [
            "{1: 0}\n",
            "{1: 0, 2: 1}\n"
          ]
        },
        {
          "output_type": "execute_result",
          "data": {
            "text/plain": [
              "2"
            ]
          },
          "metadata": {},
          "execution_count": 174
        }
      ]
    },
    {
      "cell_type": "code",
      "source": [
        "l = [1, 2, 3, 3, 2, 1]\n",
        "p = []\n",
        "p.extend(l[:2])"
      ],
      "metadata": {
        "id": "zAJoUXaNRt3I"
      },
      "execution_count": null,
      "outputs": []
    },
    {
      "cell_type": "code",
      "source": [
        "l[0:2]"
      ],
      "metadata": {
        "colab": {
          "base_uri": "https://localhost:8080/"
        },
        "id": "CZR0UnENUXk6",
        "outputId": "e522e2a5-1102-40a1-d568-beb1ebe834e7"
      },
      "execution_count": null,
      "outputs": [
        {
          "output_type": "execute_result",
          "data": {
            "text/plain": [
              "[1, 2]"
            ]
          },
          "metadata": {},
          "execution_count": 87
        }
      ]
    },
    {
      "cell_type": "code",
      "source": [
        "if (5 in l) == False:\n",
        "  print('NO')"
      ],
      "metadata": {
        "colab": {
          "base_uri": "https://localhost:8080/"
        },
        "id": "fOh_Ob22UY0d",
        "outputId": "150b9697-7743-4548-b670-cce203b88d39"
      },
      "execution_count": null,
      "outputs": [
        {
          "output_type": "stream",
          "name": "stdout",
          "text": [
            "NO\n"
          ]
        }
      ]
    },
    {
      "cell_type": "code",
      "source": [
        "friends_last_seen = {\n",
        "    'Rolf': 31,\n",
        "    'Jen': 1,\n",
        "    'Anne': 7\n",
        "}\n",
        "print(id(friends_last_seen))\n",
        "\n",
        "friends_last_seen = {\n",
        "    'Rolf': 31,\n",
        "    'Jen': 1,\n",
        "    'Anne': 7\n",
        "}\n",
        "print(id(friends_last_seen))\n",
        "friends_last_seen['Rolf'] = 0\n",
        "print(id(friends_last_seen))"
      ],
      "metadata": {
        "id": "sdP8glMpVQkQ",
        "colab": {
          "base_uri": "https://localhost:8080/"
        },
        "outputId": "f8bae772-5600-422d-b8f9-b2d8ec2d4468"
      },
      "execution_count": 8,
      "outputs": [
        {
          "output_type": "stream",
          "name": "stdout",
          "text": [
            "140067718439392\n",
            "140067718472480\n",
            "140067718472480\n"
          ]
        }
      ]
    },
    {
      "cell_type": "code",
      "source": [
        "primes =[2, 3, 5]\n",
        "primes += [7, 11]\n",
        "print(primes)"
      ],
      "metadata": {
        "id": "oSJ6d8_6aaOX"
      },
      "execution_count": null,
      "outputs": []
    },
    {
      "cell_type": "code",
      "source": [
        "accounts ={\n",
        "    'checking': 1958.00,\n",
        "    'savings': 3695.50\n",
        "}"
      ],
      "metadata": {
        "id": "NhmYTQBlf75N"
      },
      "execution_count": 25,
      "outputs": []
    },
    {
      "cell_type": "code",
      "source": [
        "transactions = [\n",
        "    (-180.67, 'checking'),\n",
        "    (-220.00, 'checking'),\n",
        "    (220.00, 'savings'),\n",
        "    (-15.70, 'checking'),\n",
        "    (-23.90, 'checking'),\n",
        "    (-13.00, 'checking'),\n",
        "    (1579.50, 'checking'),\n",
        "    (-600.50, 'checking'),\n",
        "    (600.50, 'checking')\n",
        "]"
      ],
      "metadata": {
        "id": "k7xELDNufSlx"
      },
      "execution_count": 26,
      "outputs": []
    },
    {
      "cell_type": "code",
      "source": [
        "def add_balance(amount: float, name: str) -> float:\n",
        "  accounts[name] += amount\n",
        "  return accounts[name]\n"
      ],
      "metadata": {
        "id": "NUdEu6-SfumV"
      },
      "execution_count": 27,
      "outputs": []
    },
    {
      "cell_type": "code",
      "source": [
        "for t in transactions:\n",
        "  add_balance(*t)"
      ],
      "metadata": {
        "id": "WxnEw9bfgbdz"
      },
      "execution_count": 28,
      "outputs": []
    },
    {
      "cell_type": "code",
      "source": [
        "accounts"
      ],
      "metadata": {
        "colab": {
          "base_uri": "https://localhost:8080/"
        },
        "id": "ndI9ZWUjhD6X",
        "outputId": "605da623-9037-40c2-f334-7e33a0a5da0b"
      },
      "execution_count": 29,
      "outputs": [
        {
          "output_type": "execute_result",
          "data": {
            "text/plain": [
              "{'checking': 3084.2299999999996, 'savings': 3915.5}"
            ]
          },
          "metadata": {},
          "execution_count": 29
        }
      ]
    },
    {
      "cell_type": "code",
      "source": [
        "from collections import Counter"
      ],
      "metadata": {
        "id": "LwUhBXpPlxgk"
      },
      "execution_count": 30,
      "outputs": []
    },
    {
      "cell_type": "code",
      "source": [
        "device_temperatures = [13.5, 14, 14, 14.5, 14.5, 14.5, 15, 16]"
      ],
      "metadata": {
        "id": "rkOD3RM8l1W7"
      },
      "execution_count": 32,
      "outputs": []
    },
    {
      "cell_type": "code",
      "source": [
        "temp_counter = Counter(device_temperatures)\n",
        "print(temp_counter[14.5])"
      ],
      "metadata": {
        "colab": {
          "base_uri": "https://localhost:8080/"
        },
        "id": "7R3AJ7fMmKia",
        "outputId": "685b798a-9ba8-41d1-f825-9fd1186df117"
      },
      "execution_count": 34,
      "outputs": [
        {
          "output_type": "stream",
          "name": "stdout",
          "text": [
            "3\n"
          ]
        }
      ]
    },
    {
      "cell_type": "code",
      "source": [
        "from collections import defaultdict \n",
        "\n",
        "coworkers = [('Rolf', 'MIT'), ('Jen', 'Oxford'), ('Rolf', 'Cambridge'), ('Charlie', 'Manchester')]\n",
        "\n",
        "# alma_mater = {} #instead of creating the traditional list, create a default dict\n",
        "alma_maters = defaultdict(list)\n",
        "\n",
        "for coworker, place in coworkers:\n",
        "  alma_maters[coworker].append(place)"
      ],
      "metadata": {
        "id": "-xbNsBDwmohL"
      },
      "execution_count": 62,
      "outputs": []
    },
    {
      "cell_type": "code",
      "source": [
        "# alma_maters.default_factory = str\n",
        "print(alma_maters['Rolf'])\n",
        "print(alma_maters['Ato'])"
      ],
      "metadata": {
        "colab": {
          "base_uri": "https://localhost:8080/"
        },
        "id": "Mpqf7GFWpVRF",
        "outputId": "191c80a4-5071-409e-f733-f28ff49d8858"
      },
      "execution_count": 63,
      "outputs": [
        {
          "output_type": "stream",
          "name": "stdout",
          "text": [
            "['MIT', 'Cambridge']\n",
            "[]\n"
          ]
        }
      ]
    },
    {
      "cell_type": "code",
      "source": [
        "coworkers.pop()"
      ],
      "metadata": {
        "colab": {
          "base_uri": "https://localhost:8080/"
        },
        "id": "ZEFkuu7_vrjM",
        "outputId": "1d1724bb-83af-4ae4-8e36-4ed1a86eae39"
      },
      "execution_count": 64,
      "outputs": [
        {
          "output_type": "execute_result",
          "data": {
            "text/plain": [
              "('Charlie', 'Manchester')"
            ]
          },
          "metadata": {},
          "execution_count": 64
        }
      ]
    },
    {
      "cell_type": "code",
      "source": [
        "from collections import namedtuple"
      ],
      "metadata": {
        "id": "MTJ6ndB9v2gv"
      },
      "execution_count": 65,
      "outputs": []
    },
    {
      "cell_type": "code",
      "source": [
        "Account = namedtuple('Account', ['name', 'balance'])\n",
        "account = ('checking', 1850.90)\n",
        "account = Account('checking', 1850.90)"
      ],
      "metadata": {
        "id": "R4Rlr_wUwIW-"
      },
      "execution_count": 67,
      "outputs": []
    },
    {
      "cell_type": "code",
      "source": [
        "account"
      ],
      "metadata": {
        "colab": {
          "base_uri": "https://localhost:8080/"
        },
        "id": "9BMm0HQywrAH",
        "outputId": "c88a1552-3507-4aa0-d8ca-631cbfbb2df9"
      },
      "execution_count": 71,
      "outputs": [
        {
          "output_type": "execute_result",
          "data": {
            "text/plain": [
              "Account(name='checking', balance=1850.9)"
            ]
          },
          "metadata": {},
          "execution_count": 71
        }
      ]
    },
    {
      "cell_type": "code",
      "source": [
        "from collections import deque"
      ],
      "metadata": {
        "id": "h58nxAxjyE3V"
      },
      "execution_count": 73,
      "outputs": []
    },
    {
      "cell_type": "code",
      "source": [
        "friends = deque(('Melvina', 'Gerald', 'Jayden', 'Jamin'))\n",
        "friends.appendleft('Alethea')\n",
        "friends.append('Danica')\n",
        "friends.popleft()\n",
        "friends.pop()"
      ],
      "metadata": {
        "colab": {
          "base_uri": "https://localhost:8080/",
          "height": 35
        },
        "id": "DLiB1HBryfaJ",
        "outputId": "2579947e-56ba-418c-f66b-4f1c2c8256cc"
      },
      "execution_count": 83,
      "outputs": [
        {
          "output_type": "execute_result",
          "data": {
            "text/plain": [
              "'Danica'"
            ],
            "application/vnd.google.colaboratory.intrinsic+json": {
              "type": "string"
            }
          },
          "metadata": {},
          "execution_count": 83
        }
      ]
    },
    {
      "cell_type": "code",
      "source": [
        "print(friends)"
      ],
      "metadata": {
        "colab": {
          "base_uri": "https://localhost:8080/"
        },
        "id": "E3ljbCkZyw2M",
        "outputId": "6ee66bc0-9e78-48e9-f33a-c3200b02dde9"
      },
      "execution_count": 82,
      "outputs": [
        {
          "output_type": "stream",
          "name": "stdout",
          "text": [
            "deque(['Melvina', 'Gerald', 'Jayden', 'Jamin'])\n"
          ]
        }
      ]
    },
    {
      "cell_type": "code",
      "source": [
        "class Newque(deque):\n",
        "  def __init__(self, var1):\n",
        "    pass\n",
        "  pass\n"
      ],
      "metadata": {
        "id": "7sG1jtlFyJU_"
      },
      "execution_count": null,
      "outputs": []
    },
    {
      "cell_type": "code",
      "source": [
        "class Queue:\n",
        "  def __init__(self):\n",
        "    self.items = []\n",
        "    \n",
        "  def push(self, e):\n",
        "    self.items.append(e)\n",
        "\n",
        "  def pop(self):\n",
        "    head = self.items[0]\n",
        "    self.items = self.items[1:]\n",
        "    return head\n",
        "\n",
        "  def __repr__(self):\n",
        "    return '<This creates a queue>'"
      ],
      "metadata": {
        "id": "lIUK2qs35FZD"
      },
      "execution_count": 128,
      "outputs": []
    },
    {
      "cell_type": "code",
      "source": [
        "new_list = Queue()"
      ],
      "metadata": {
        "id": "I2aOzq825kUK"
      },
      "execution_count": 133,
      "outputs": []
    },
    {
      "cell_type": "code",
      "source": [
        "new_list.push([3, 5])"
      ],
      "metadata": {
        "id": "wc0J_t3N6xuG"
      },
      "execution_count": 134,
      "outputs": []
    },
    {
      "cell_type": "code",
      "source": [
        "class Stack:\n",
        "  def __init__(self):\n",
        "    self.items = []\n",
        "  \n",
        "  def push(self, e):\n",
        "    self.items = e + self.items \n",
        "    return self.items\n",
        "  \n",
        "  def pop(self):\n",
        "    return self.items[0]"
      ],
      "metadata": {
        "id": "RDk-1ea_6j4x"
      },
      "execution_count": 159,
      "outputs": []
    },
    {
      "cell_type": "code",
      "source": [
        "new_stack = Stack()"
      ],
      "metadata": {
        "id": "fwKr_wtI7ovu"
      },
      "execution_count": 160,
      "outputs": []
    },
    {
      "cell_type": "code",
      "source": [
        "new_stack.push([5])"
      ],
      "metadata": {
        "colab": {
          "base_uri": "https://localhost:8080/"
        },
        "id": "PaOrtZ557r9s",
        "outputId": "8cfc2c3f-e50d-4d27-f0b4-a8490a048207"
      },
      "execution_count": 161,
      "outputs": [
        {
          "output_type": "execute_result",
          "data": {
            "text/plain": [
              "[5]"
            ]
          },
          "metadata": {},
          "execution_count": 161
        }
      ]
    },
    {
      "cell_type": "code",
      "source": [
        "new_stack.push([7])"
      ],
      "metadata": {
        "colab": {
          "base_uri": "https://localhost:8080/"
        },
        "id": "UfV8-Bfq7_t2",
        "outputId": "f98b3434-133b-4215-d677-db52b8d5a791"
      },
      "execution_count": 162,
      "outputs": [
        {
          "output_type": "execute_result",
          "data": {
            "text/plain": [
              "[7, 5]"
            ]
          },
          "metadata": {},
          "execution_count": 162
        }
      ]
    },
    {
      "cell_type": "code",
      "source": [
        "new_stack.push([3])"
      ],
      "metadata": {
        "colab": {
          "base_uri": "https://localhost:8080/"
        },
        "id": "XjkrnaN98uPy",
        "outputId": "a9ee9e65-9888-48c8-db96-0f3498b0e46f"
      },
      "execution_count": 163,
      "outputs": [
        {
          "output_type": "execute_result",
          "data": {
            "text/plain": [
              "[3, 7, 5]"
            ]
          },
          "metadata": {},
          "execution_count": 163
        }
      ]
    },
    {
      "cell_type": "code",
      "source": [
        "new_stack.pop()"
      ],
      "metadata": {
        "colab": {
          "base_uri": "https://localhost:8080/"
        },
        "id": "nrkwDtij7yyF",
        "outputId": "e33ac6fe-4369-4013-f6f5-a4840c9a692a"
      },
      "execution_count": 164,
      "outputs": [
        {
          "output_type": "execute_result",
          "data": {
            "text/plain": [
              "3"
            ]
          },
          "metadata": {},
          "execution_count": 164
        }
      ]
    },
    {
      "cell_type": "code",
      "source": [
        "30/4"
      ],
      "metadata": {
        "colab": {
          "base_uri": "https://localhost:8080/"
        },
        "id": "RfNZcb7SGqv4",
        "outputId": "8b069554-156f-48d9-c825-57be32ba2bd1"
      },
      "execution_count": 166,
      "outputs": [
        {
          "output_type": "execute_result",
          "data": {
            "text/plain": [
              "7.5"
            ]
          },
          "metadata": {},
          "execution_count": 166
        }
      ]
    },
    {
      "cell_type": "markdown",
      "source": [
        "## Visualization"
      ],
      "metadata": {
        "id": "SjvgZ77w2qOV"
      }
    },
    {
      "cell_type": "markdown",
      "source": [
        "###Line graphs and Time series"
      ],
      "metadata": {
        "id": "Kqa8mzdlNA37"
      }
    },
    {
      "cell_type": "code",
      "source": [
        "import matplotlib.pyplot as plt"
      ],
      "metadata": {
        "id": "F8OUgv-M3Mea"
      },
      "execution_count": 1,
      "outputs": []
    },
    {
      "cell_type": "code",
      "source": [
        "month_number = [1, 2, 3, 4, 5, 6, 7]\n",
        "new_cases = [9926, 76246, 681488, 2336640,\n",
        "             2835147, 4226655, 6942042]\n",
        "\n",
        "plt.plot(month_number, new_cases)\n",
        "plt.show()"
      ],
      "metadata": {
        "colab": {
          "base_uri": "https://localhost:8080/",
          "height": 276
        },
        "id": "1tAq8zOy2pck",
        "outputId": "8441378f-f7ef-4acf-ae5e-ac680db5bdfc"
      },
      "execution_count": 4,
      "outputs": [
        {
          "output_type": "display_data",
          "data": {
            "text/plain": [
              "<Figure size 432x288 with 1 Axes>"
            ],
            "image/png": "[encoded data removed]"
          },
          "metadata": {
            "needs_background": "light"
          }
        }
      ]
    },
    {
      "cell_type": "code",
      "source": [
        "# To remove the scientific notation 'le6' on the y-axis\n",
        "month_number = [1, 2, 3, 4, 5, 6, 7]\n",
        "new_cases = [9926, 76246, 681488, 2336640,\n",
        "             2835147, 4226655, 6942042]\n",
        "\n",
        "plt.plot(month_number, new_cases)\n",
        "plt.ticklabel_format(axis = 'y', style = 'plain') #this changes it to plain number without the scientific notation\n",
        "plt.title('New Reported Cases by Month - Globally')\n",
        "plt.xlabel('Month Number')\n",
        "plt.ylabel('Number of New Cases')\n",
        "plt.show()"
      ],
      "metadata": {
        "colab": {
          "base_uri": "https://localhost:8080/",
          "height": 295
        },
        "id": "sv9gc5mQ4nHG",
        "outputId": "0e66b102-2538-477a-931e-0f75129bdd8e"
      },
      "execution_count": 8,
      "outputs": [
        {
          "output_type": "display_data",
          "data": {
            "text/plain": [
              "<Figure size 432x288 with 1 Axes>"
            ],
            "image/png": "[encoded data removed]"
          },
          "metadata": {
            "needs_background": "light"
          }
        }
      ]
    },
    {
      "cell_type": "code",
      "source": [
        "import pandas as pd\n",
        "\n",
        "who_data = pd.read_csv('WHO-COVID-19-global-data.csv')"
      ],
      "metadata": {
        "id": "_hNYg_sR9v6V"
      },
      "execution_count": 13,
      "outputs": []
    },
    {
      "cell_type": "code",
      "source": [
        "who_data.info()"
      ],
      "metadata": {
        "id": "yu1z4JAM-XB2"
      },
      "execution_count": null,
      "outputs": []
    },
    {
      "cell_type": "code",
      "source": [
        "who_data.head()"
      ],
      "metadata": {
        "colab": {
          "base_uri": "https://localhost:8080/",
          "height": 250
        },
        "id": "1p_OZeMM-A4t",
        "outputId": "bf448fc1-8569-4bbe-a672-52cefbb4146a"
      },
      "execution_count": 15,
      "outputs": [
        {
          "output_type": "execute_result",
          "data": {
            "text/plain": [
              "  Date_reported Country_code      Country WHO_region  New_cases  \\\n",
              "0    2020-01-03           AF  Afghanistan       EMRO          0   \n",
              "1    2020-01-04           AF  Afghanistan       EMRO          0   \n",
              "2    2020-01-05           AF  Afghanistan       EMRO          0   \n",
              "3    2020-01-06           AF  Afghanistan       EMRO          0   \n",
              "4    2020-01-07           AF  Afghanistan       EMRO          0   \n",
              "\n",
              "   Cumulative_cases  New_deaths  Cumulative_deaths  \n",
              "0                 0           0                  0  \n",
              "1                 0           0                  0  \n",
              "2                 0           0                  0  \n",
              "3                 0           0                  0  \n",
              "4                 0           0                  0  "
            ],
            "text/html": [
              "\n",
              "  <div id=\"df-a3ea5e84-496a-484a-8142-08d2eb464691\">\n",
              "    <div class=\"colab-df-container\">\n",
              "      <div>\n",
              "<style scoped>\n",
              "    .dataframe tbody tr th:only-of-type {\n",
              "        vertical-align: middle;\n",
              "    }\n",
              "\n",
              "    .dataframe tbody tr th {\n",
              "        vertical-align: top;\n",
              "    }\n",
              "\n",
              "    .dataframe thead th {\n",
              "        text-align: right;\n",
              "    }\n",
              "</style>\n",
              "<table border=\"1\" class=\"dataframe\">\n",
              "  <thead>\n",
              "    <tr style=\"text-align: right;\">\n",
              "      <th></th>\n",
              "      <th>Date_reported</th>\n",
              "      <th>Country_code</th>\n",
              "      <th>Country</th>\n",
              "      <th>WHO_region</th>\n",
              "      <th>New_cases</th>\n",
              "      <th>Cumulative_cases</th>\n",
              "      <th>New_deaths</th>\n",
              "      <th>Cumulative_deaths</th>\n",
              "    </tr>\n",
              "  </thead>\n",
              "  <tbody>\n",
              "    <tr>\n",
              "      <th>0</th>\n",
              "      <td>2020-01-03</td>\n",
              "      <td>AF</td>\n",
              "      <td>Afghanistan</td>\n",
              "      <td>EMRO</td>\n",
              "      <td>0</td>\n",
              "      <td>0</td>\n",
              "      <td>0</td>\n",
              "      <td>0</td>\n",
              "    </tr>\n",
              "    <tr>\n",
              "      <th>1</th>\n",
              "      <td>2020-01-04</td>\n",
              "      <td>AF</td>\n",
              "      <td>Afghanistan</td>\n",
              "      <td>EMRO</td>\n",
              "      <td>0</td>\n",
              "      <td>0</td>\n",
              "      <td>0</td>\n",
              "      <td>0</td>\n",
              "    </tr>\n",
              "    <tr>\n",
              "      <th>2</th>\n",
              "      <td>2020-01-05</td>\n",
              "      <td>AF</td>\n",
              "      <td>Afghanistan</td>\n",
              "      <td>EMRO</td>\n",
              "      <td>0</td>\n",
              "      <td>0</td>\n",
              "      <td>0</td>\n",
              "      <td>0</td>\n",
              "    </tr>\n",
              "    <tr>\n",
              "      <th>3</th>\n",
              "      <td>2020-01-06</td>\n",
              "      <td>AF</td>\n",
              "      <td>Afghanistan</td>\n",
              "      <td>EMRO</td>\n",
              "      <td>0</td>\n",
              "      <td>0</td>\n",
              "      <td>0</td>\n",
              "      <td>0</td>\n",
              "    </tr>\n",
              "    <tr>\n",
              "      <th>4</th>\n",
              "      <td>2020-01-07</td>\n",
              "      <td>AF</td>\n",
              "      <td>Afghanistan</td>\n",
              "      <td>EMRO</td>\n",
              "      <td>0</td>\n",
              "      <td>0</td>\n",
              "      <td>0</td>\n",
              "      <td>0</td>\n",
              "    </tr>\n",
              "  </tbody>\n",
              "</table>\n",
              "</div>\n",
              "      <button class=\"colab-df-convert\" onclick=\"convertToInteractive('df-a3ea5e84-496a-484a-8142-08d2eb464691')\"\n",
              "              title=\"Convert this dataframe to an interactive table.\"\n",
              "              style=\"display:none;\">\n",
              "        \n",
              "  <svg xmlns=\"http://www.w3.org/2000/svg\" height=\"24px\"viewBox=\"0 0 24 24\"\n",
              "       width=\"24px\">\n",
              "    <path d=\"M0 0h24v24H0V0z\" fill=\"none\"/>\n",
              "    <path d=\"M18.56 5.44l.94 2.06.94-2.06 2.06-.94-2.06-.94-.94-2.06-.94 2.06-2.06.94zm-11 1L8.5 8.5l.94-2.06 2.06-.94-2.06-.94L8.5 2.5l-.94 2.06-2.06.94zm10 10l.94 2.06.94-2.06 2.06-.94-2.06-.94-.94-2.06-.94 2.06-2.06.94z\"/><path d=\"M17.41 7.96l-1.37-1.37c-.4-.4-.92-.59-1.43-.59-.52 0-1.04.2-1.43.59L10.3 9.45l-7.72 7.72c-.78.78-.78 2.05 0 2.83L4 21.41c.39.39.9.59 1.41.59.51 0 1.02-.2 1.41-.59l7.78-7.78 2.81-2.81c.8-.78.8-2.07 0-2.86zM5.41 20L4 18.59l7.72-7.72 1.47 1.35L5.41 20z\"/>\n",
              "  </svg>\n",
              "      </button>\n",
              "      \n",
              "  <style>\n",
              "    .colab-df-container {\n",
              "      display:flex;\n",
              "      flex-wrap:wrap;\n",
              "      gap: 12px;\n",
              "    }\n",
              "\n",
              "    .colab-df-convert {\n",
              "      background-color: #E8F0FE;\n",
              "      border: none;\n",
              "      border-radius: 50%;\n",
              "      cursor: pointer;\n",
              "      display: none;\n",
              "      fill: #1967D2;\n",
              "      height: 32px;\n",
              "      padding: 0 0 0 0;\n",
              "      width: 32px;\n",
              "    }\n",
              "\n",
              "    .colab-df-convert:hover {\n",
              "      background-color: #E2EBFA;\n",
              "      box-shadow: 0px 1px 2px rgba(60, 64, 67, 0.3), 0px 1px 3px 1px rgba(60, 64, 67, 0.15);\n",
              "      fill: #174EA6;\n",
              "    }\n",
              "\n",
              "    [theme=dark] .colab-df-convert {\n",
              "      background-color: #3B4455;\n",
              "      fill: #D2E3FC;\n",
              "    }\n",
              "\n",
              "    [theme=dark] .colab-df-convert:hover {\n",
              "      background-color: #434B5C;\n",
              "      box-shadow: 0px 1px 3px 1px rgba(0, 0, 0, 0.15);\n",
              "      filter: drop-shadow(0px 1px 2px rgba(0, 0, 0, 0.3));\n",
              "      fill: #FFFFFF;\n",
              "    }\n",
              "  </style>\n",
              "\n",
              "      <script>\n",
              "        const buttonEl =\n",
              "          document.querySelector('#df-a3ea5e84-496a-484a-8142-08d2eb464691 button.colab-df-convert');\n",
              "        buttonEl.style.display =\n",
              "          google.colab.kernel.accessAllowed ? 'block' : 'none';\n",
              "\n",
              "        async function convertToInteractive(key) {\n",
              "          const element = document.querySelector('#df-a3ea5e84-496a-484a-8142-08d2eb464691');\n",
              "          const dataTable =\n",
              "            await google.colab.kernel.invokeFunction('convertToInteractive',\n",
              "                                                     [key], {});\n",
              "          if (!dataTable) return;\n",
              "\n",
              "          const docLinkHtml = 'Like what you see? Visit the ' +\n",
              "            '<a target=\"_blank\" href=https://colab.research.google.com/notebooks/data_table.ipynb>data table notebook</a>'\n",
              "            + ' to learn more about interactive tables.';\n",
              "          element.innerHTML = '';\n",
              "          dataTable['output_type'] = 'display_data';\n",
              "          await google.colab.output.renderOutput(dataTable, element);\n",
              "          const docLink = document.createElement('div');\n",
              "          docLink.innerHTML = docLinkHtml;\n",
              "          element.appendChild(docLink);\n",
              "        }\n",
              "      </script>\n",
              "    </div>\n",
              "  </div>\n",
              "  "
            ]
          },
          "metadata": {},
          "execution_count": 15
        }
      ]
    },
    {
      "cell_type": "code",
      "source": [
        "who_data['Date_reported'] = pd.to_datetime(who_data['Date_reported'])"
      ],
      "metadata": {
        "id": "ddJU5zK5-DPD"
      },
      "execution_count": 16,
      "outputs": []
    },
    {
      "cell_type": "code",
      "source": [
        "who_data.info()"
      ],
      "metadata": {
        "id": "aMewfpXq-QfC"
      },
      "execution_count": null,
      "outputs": []
    },
    {
      "cell_type": "code",
      "source": [
        "countries = who_data['Country'].unique()\n",
        "len(countries)"
      ],
      "metadata": {
        "colab": {
          "base_uri": "https://localhost:8080/"
        },
        "id": "Pc1k1sQvFYVN",
        "outputId": "b360a125-061e-43f0-bcf3-49fc3086e053"
      },
      "execution_count": 44,
      "outputs": [
        {
          "output_type": "execute_result",
          "data": {
            "text/plain": [
              "237"
            ]
          },
          "metadata": {},
          "execution_count": 44
        }
      ]
    },
    {
      "cell_type": "code",
      "source": [
        "def plot_cummulative_cases(country_name, column):\n",
        "  country = who_data[who_data['Country'] == country_name]\n",
        "  plt.plot(country['Date_reported'], country[column])\n",
        "  plt.ticklabel_format(axis = 'y', style = 'scientific')\n",
        "  plt.title(f'{column} - {country_name}')\n",
        "  plt.xlabel('Month Number')\n",
        "  plt.ylabel(f'{column}')\n",
        "  plt.show()"
      ],
      "metadata": {
        "id": "XVgMnck6-PVY"
      },
      "execution_count": 34,
      "outputs": []
    },
    {
      "cell_type": "code",
      "source": [
        "# for country in countries:\n",
        "#   plot_cummulative_cases(country, 'New_cases')"
      ],
      "metadata": {
        "id": "-O-S8SBTFrY-"
      },
      "execution_count": null,
      "outputs": []
    },
    {
      "cell_type": "code",
      "source": [
        "plot_cummulative_cases('Belarus', 'New_cases')"
      ],
      "metadata": {
        "id": "YWtFC3aVEUmO"
      },
      "execution_count": null,
      "outputs": []
    },
    {
      "cell_type": "code",
      "source": [
        "france = who_data[who_data['Country'] == 'France']\n",
        "uk = who_data[who_data['Country'] == 'The United Kingdom']"
      ],
      "metadata": {
        "id": "ALOIvsDwGoXA"
      },
      "execution_count": 49,
      "outputs": []
    },
    {
      "cell_type": "code",
      "source": [
        "plt.plot(france['Date_reported'], france['Cumulative_cases'], label = 'France')\n",
        "plt.plot(uk['Date_reported'], uk['Cumulative_cases'], label = 'UK')\n",
        "plt.title(\"Comparison between France and UK\")\n",
        "plt.xlabel('Month Number')\n",
        "plt.ylabel('Cumulative Cases')\n",
        "plt.legend()\n",
        "plt.show()"
      ],
      "metadata": {
        "colab": {
          "base_uri": "https://localhost:8080/",
          "height": 295
        },
        "id": "cDJ5A0JyHioD",
        "outputId": "cb208ba0-229d-4601-91fa-55a68ab1d942"
      },
      "execution_count": 55,
      "outputs": [
        {
          "output_type": "display_data",
          "data": {
            "text/plain": [
              "<Figure size 432x288 with 1 Axes>"
            ],
            "image/png": "[encoded data removed]"
          },
          "metadata": {
            "needs_background": "light"
          }
        }
      ]
    },
    {
      "cell_type": "markdown",
      "source": [
        "### Scatter Plots and Correlations"
      ],
      "metadata": {
        "id": "1dE_JjOrNFu4"
      }
    },
    {
      "cell_type": "code",
      "source": [
        "bike_sharing = pd.read_csv('day.csv')"
      ],
      "metadata": {
        "id": "l6rNWUlZH3wS"
      },
      "execution_count": 56,
      "outputs": []
    },
    {
      "cell_type": "code",
      "source": [
        "bike_sharing.head()"
      ],
      "metadata": {
        "colab": {
          "base_uri": "https://localhost:8080/",
          "height": 357
        },
        "id": "hGuAKRKnNE-t",
        "outputId": "830f8a48-036c-4c9b-8f27-04d2a9aaad23"
      },
      "execution_count": 57,
      "outputs": [
        {
          "output_type": "execute_result",
          "data": {
            "text/plain": [
              "   instant      dteday  season  yr  mnth  holiday  weekday  workingday  \\\n",
              "0        1  2011-01-01       1   0     1        0        6           0   \n",
              "1        2  2011-01-02       1   0     1        0        0           0   \n",
              "2        3  2011-01-03       1   0     1        0        1           1   \n",
              "3        4  2011-01-04       1   0     1        0        2           1   \n",
              "4        5  2011-01-05       1   0     1        0        3           1   \n",
              "\n",
              "   weathersit      temp     atemp       hum  windspeed  casual  registered  \\\n",
              "0           2  0.344167  0.363625  0.805833   0.160446     331         654   \n",
              "1           2  0.363478  0.353739  0.696087   0.248539     131         670   \n",
              "2           1  0.196364  0.189405  0.437273   0.248309     120        1229   \n",
              "3           1  0.200000  0.212122  0.590435   0.160296     108        1454   \n",
              "4           1  0.226957  0.229270  0.436957   0.186900      82        1518   \n",
              "\n",
              "    cnt  \n",
              "0   985  \n",
              "1   801  \n",
              "2  1349  \n",
              "3  1562  \n",
              "4  1600  "
            ],
            "text/html": [
              "\n",
              "  <div id=\"df-dc7bd0b7-a03d-484f-af7e-5693cd737824\">\n",
              "    <div class=\"colab-df-container\">\n",
              "      <div>\n",
              "<style scoped>\n",
              "    .dataframe tbody tr th:only-of-type {\n",
              "        vertical-align: middle;\n",
              "    }\n",
              "\n",
              "    .dataframe tbody tr th {\n",
              "        vertical-align: top;\n",
              "    }\n",
              "\n",
              "    .dataframe thead th {\n",
              "        text-align: right;\n",
              "    }\n",
              "</style>\n",
              "<table border=\"1\" class=\"dataframe\">\n",
              "  <thead>\n",
              "    <tr style=\"text-align: right;\">\n",
              "      <th></th>\n",
              "      <th>instant</th>\n",
              "      <th>dteday</th>\n",
              "      <th>season</th>\n",
              "      <th>yr</th>\n",
              "      <th>mnth</th>\n",
              "      <th>holiday</th>\n",
              "      <th>weekday</th>\n",
              "      <th>workingday</th>\n",
              "      <th>weathersit</th>\n",
              "      <th>temp</th>\n",
              "      <th>atemp</th>\n",
              "      <th>hum</th>\n",
              "      <th>windspeed</th>\n",
              "      <th>casual</th>\n",
              "      <th>registered</th>\n",
              "      <th>cnt</th>\n",
              "    </tr>\n",
              "  </thead>\n",
              "  <tbody>\n",
              "    <tr>\n",
              "      <th>0</th>\n",
              "      <td>1</td>\n",
              "      <td>2011-01-01</td>\n",
              "      <td>1</td>\n",
              "      <td>0</td>\n",
              "      <td>1</td>\n",
              "      <td>0</td>\n",
              "      <td>6</td>\n",
              "      <td>0</td>\n",
              "      <td>2</td>\n",
              "      <td>0.344167</td>\n",
              "      <td>0.363625</td>\n",
              "      <td>0.805833</td>\n",
              "      <td>0.160446</td>\n",
              "      <td>331</td>\n",
              "      <td>654</td>\n",
              "      <td>985</td>\n",
              "    </tr>\n",
              "    <tr>\n",
              "      <th>1</th>\n",
              "      <td>2</td>\n",
              "      <td>2011-01-02</td>\n",
              "      <td>1</td>\n",
              "      <td>0</td>\n",
              "      <td>1</td>\n",
              "      <td>0</td>\n",
              "      <td>0</td>\n",
              "      <td>0</td>\n",
              "      <td>2</td>\n",
              "      <td>0.363478</td>\n",
              "      <td>0.353739</td>\n",
              "      <td>0.696087</td>\n",
              "      <td>0.248539</td>\n",
              "      <td>131</td>\n",
              "      <td>670</td>\n",
              "      <td>801</td>\n",
              "    </tr>\n",
              "    <tr>\n",
              "      <th>2</th>\n",
              "      <td>3</td>\n",
              "      <td>2011-01-03</td>\n",
              "      <td>1</td>\n",
              "      <td>0</td>\n",
              "      <td>1</td>\n",
              "      <td>0</td>\n",
              "      <td>1</td>\n",
              "      <td>1</td>\n",
              "      <td>1</td>\n",
              "      <td>0.196364</td>\n",
              "      <td>0.189405</td>\n",
              "      <td>0.437273</td>\n",
              "      <td>0.248309</td>\n",
              "      <td>120</td>\n",
              "      <td>1229</td>\n",
              "      <td>1349</td>\n",
              "    </tr>\n",
              "    <tr>\n",
              "      <th>3</th>\n",
              "      <td>4</td>\n",
              "      <td>2011-01-04</td>\n",
              "      <td>1</td>\n",
              "      <td>0</td>\n",
              "      <td>1</td>\n",
              "      <td>0</td>\n",
              "      <td>2</td>\n",
              "      <td>1</td>\n",
              "      <td>1</td>\n",
              "      <td>0.200000</td>\n",
              "      <td>0.212122</td>\n",
              "      <td>0.590435</td>\n",
              "      <td>0.160296</td>\n",
              "      <td>108</td>\n",
              "      <td>1454</td>\n",
              "      <td>1562</td>\n",
              "    </tr>\n",
              "    <tr>\n",
              "      <th>4</th>\n",
              "      <td>5</td>\n",
              "      <td>2011-01-05</td>\n",
              "      <td>1</td>\n",
              "      <td>0</td>\n",
              "      <td>1</td>\n",
              "      <td>0</td>\n",
              "      <td>3</td>\n",
              "      <td>1</td>\n",
              "      <td>1</td>\n",
              "      <td>0.226957</td>\n",
              "      <td>0.229270</td>\n",
              "      <td>0.436957</td>\n",
              "      <td>0.186900</td>\n",
              "      <td>82</td>\n",
              "      <td>1518</td>\n",
              "      <td>1600</td>\n",
              "    </tr>\n",
              "  </tbody>\n",
              "</table>\n",
              "</div>\n",
              "      <button class=\"colab-df-convert\" onclick=\"convertToInteractive('df-dc7bd0b7-a03d-484f-af7e-5693cd737824')\"\n",
              "              title=\"Convert this dataframe to an interactive table.\"\n",
              "              style=\"display:none;\">\n",
              "        \n",
              "  <svg xmlns=\"http://www.w3.org/2000/svg\" height=\"24px\"viewBox=\"0 0 24 24\"\n",
              "       width=\"24px\">\n",
              "    <path d=\"M0 0h24v24H0V0z\" fill=\"none\"/>\n",
              "    <path d=\"M18.56 5.44l.94 2.06.94-2.06 2.06-.94-2.06-.94-.94-2.06-.94 2.06-2.06.94zm-11 1L8.5 8.5l.94-2.06 2.06-.94-2.06-.94L8.5 2.5l-.94 2.06-2.06.94zm10 10l.94 2.06.94-2.06 2.06-.94-2.06-.94-.94-2.06-.94 2.06-2.06.94z\"/><path d=\"M17.41 7.96l-1.37-1.37c-.4-.4-.92-.59-1.43-.59-.52 0-1.04.2-1.43.59L10.3 9.45l-7.72 7.72c-.78.78-.78 2.05 0 2.83L4 21.41c.39.39.9.59 1.41.59.51 0 1.02-.2 1.41-.59l7.78-7.78 2.81-2.81c.8-.78.8-2.07 0-2.86zM5.41 20L4 18.59l7.72-7.72 1.47 1.35L5.41 20z\"/>\n",
              "  </svg>\n",
              "      </button>\n",
              "      \n",
              "  <style>\n",
              "    .colab-df-container {\n",
              "      display:flex;\n",
              "      flex-wrap:wrap;\n",
              "      gap: 12px;\n",
              "    }\n",
              "\n",
              "    .colab-df-convert {\n",
              "      background-color: #E8F0FE;\n",
              "      border: none;\n",
              "      border-radius: 50%;\n",
              "      cursor: pointer;\n",
              "      display: none;\n",
              "      fill: #1967D2;\n",
              "      height: 32px;\n",
              "      padding: 0 0 0 0;\n",
              "      width: 32px;\n",
              "    }\n",
              "\n",
              "    .colab-df-convert:hover {\n",
              "      background-color: #E2EBFA;\n",
              "      box-shadow: 0px 1px 2px rgba(60, 64, 67, 0.3), 0px 1px 3px 1px rgba(60, 64, 67, 0.15);\n",
              "      fill: #174EA6;\n",
              "    }\n",
              "\n",
              "    [theme=dark] .colab-df-convert {\n",
              "      background-color: #3B4455;\n",
              "      fill: #D2E3FC;\n",
              "    }\n",
              "\n",
              "    [theme=dark] .colab-df-convert:hover {\n",
              "      background-color: #434B5C;\n",
              "      box-shadow: 0px 1px 3px 1px rgba(0, 0, 0, 0.15);\n",
              "      filter: drop-shadow(0px 1px 2px rgba(0, 0, 0, 0.3));\n",
              "      fill: #FFFFFF;\n",
              "    }\n",
              "  </style>\n",
              "\n",
              "      <script>\n",
              "        const buttonEl =\n",
              "          document.querySelector('#df-dc7bd0b7-a03d-484f-af7e-5693cd737824 button.colab-df-convert');\n",
              "        buttonEl.style.display =\n",
              "          google.colab.kernel.accessAllowed ? 'block' : 'none';\n",
              "\n",
              "        async function convertToInteractive(key) {\n",
              "          const element = document.querySelector('#df-dc7bd0b7-a03d-484f-af7e-5693cd737824');\n",
              "          const dataTable =\n",
              "            await google.colab.kernel.invokeFunction('convertToInteractive',\n",
              "                                                     [key], {});\n",
              "          if (!dataTable) return;\n",
              "\n",
              "          const docLinkHtml = 'Like what you see? Visit the ' +\n",
              "            '<a target=\"_blank\" href=https://colab.research.google.com/notebooks/data_table.ipynb>data table notebook</a>'\n",
              "            + ' to learn more about interactive tables.';\n",
              "          element.innerHTML = '';\n",
              "          dataTable['output_type'] = 'display_data';\n",
              "          await google.colab.output.renderOutput(dataTable, element);\n",
              "          const docLink = document.createElement('div');\n",
              "          docLink.innerHTML = docLinkHtml;\n",
              "          element.appendChild(docLink);\n",
              "        }\n",
              "      </script>\n",
              "    </div>\n",
              "  </div>\n",
              "  "
            ]
          },
          "metadata": {},
          "execution_count": 57
        }
      ]
    },
    {
      "cell_type": "code",
      "source": [
        "bike_sharing['dteday'] = pd.to_datetime(bike_sharing['dteday'])"
      ],
      "metadata": {
        "id": "GePn5koqNvdz"
      },
      "execution_count": 59,
      "outputs": []
    },
    {
      "cell_type": "code",
      "source": [
        "bike_sharing.info()"
      ],
      "metadata": {
        "id": "ZS4p2KeGNTTA"
      },
      "execution_count": null,
      "outputs": []
    },
    {
      "cell_type": "code",
      "source": [
        "plt.plot('dteday', 'casual', data = bike_sharing, label = 'Casual')\n",
        "plt.plot('dteday', 'registered', data = bike_sharing, label = 'Registered')\n",
        "plt.xticks(rotation = 30)\n",
        "plt.legend()\n",
        "plt.show()"
      ],
      "metadata": {
        "colab": {
          "base_uri": "https://localhost:8080/",
          "height": 285
        },
        "id": "EDD_3lpZOVHg",
        "outputId": "719f53fa-16c1-4d74-c706-c6f1ab7fd6e1"
      },
      "execution_count": 67,
      "outputs": [
        {
          "output_type": "display_data",
          "data": {
            "text/plain": [
              "<Figure size 432x288 with 1 Axes>"
            ],
            "image/png": "[encoded data removed]"
          },
          "metadata": {
            "needs_background": "light"
          }
        }
      ]
    },
    {
      "cell_type": "code",
      "source": [
        "plt.scatter('temp', 'cnt', data = bike_sharing)\n",
        "plt.xlabel(\"Temperature\")\n",
        "plt.ylabel('Bikes Rented')\n",
        "plt.show()"
      ],
      "metadata": {
        "colab": {
          "base_uri": "https://localhost:8080/",
          "height": 279
        },
        "id": "TP9PJUNrOeHH",
        "outputId": "e7dde42f-8e9c-4cc4-e9b9-98312791651b"
      },
      "execution_count": 68,
      "outputs": [
        {
          "output_type": "display_data",
          "data": {
            "text/plain": [
              "<Figure size 432x288 with 1 Axes>"
            ],
            "image/png": "[encoded data removed]"
          },
          "metadata": {
            "needs_background": "light"
          }
        }
      ]
    },
    {
      "cell_type": "code",
      "source": [],
      "metadata": {
        "id": "2sd670VjSxDu"
      },
      "execution_count": null,
      "outputs": []
    }
  ]
}